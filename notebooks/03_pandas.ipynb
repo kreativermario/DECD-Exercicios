{
 "cells": [
  {
   "cell_type": "markdown",
   "metadata": {
    "id": "gzkSH6t8Fyc1"
   },
   "source": [
    "# Análise e manipulação de dados\n",
    "\n",
    "Os arrays definidos pela biblioteca [NumPy](https://numpy.org/) fornecem funcionalidades essenciais para processamento numérico eficiente em Python. No entanto, estes foram desenhados para lidar com os tipos de conjuntos de dados limpos e bem organizados que são tipicamente usados no contexto de tarefas de computação numérica. No contexto da descoberta e extração de conhecimento de dados, é comum lidar com dados menos estruturados, heterogéneos e que podem ter valores em falta. As limitações dos arrays para a análise e manipulação deste tipo de dados tornam-se rapidamente evidentes. A biblioteca [pandas](https://pandas.pydata.org/) aborda essas limitações, fornecendo uma implementação eficiente de uma tabela de dados (`DataFrame`). As tabelas de dados são basicamente arrays multidimensionais associados a etiquetas para as linhas e colunas e capazes de lidar com tipos heterogéneos e valores em falta. Para além disso, a biblioteca *pandas* implementa várias operações sobre dados que são familiares para os utilizadores de bases de dados e folhas de cálculo. Como as estruturas de dados definidas pela biblioteca *pandas* são construídas em cima de arrays *NumPy*, estas operações são efetuadas de forma eficiente. Isto faz da biblioteca uma ferramenta importante para realizar as tarefas de manipulação de dados que ocupam grande parte do tempo de um cientista de dados."
   ]
  },
  {
   "cell_type": "code",
   "execution_count": 5,
   "metadata": {
    "id": "TkZZ1dDIFyc2",
    "ExecuteTime": {
     "end_time": "2024-03-01T08:49:53.806191Z",
     "start_time": "2024-03-01T08:49:53.369322Z"
    }
   },
   "outputs": [],
   "source": [
    "import numpy as np\n",
    "import pandas as pd"
   ]
  },
  {
   "cell_type": "markdown",
   "metadata": {
    "id": "eWmBbHBFFyc2"
   },
   "source": [
    "## Estruturas de dados"
   ]
  },
  {
   "cell_type": "markdown",
   "metadata": {
    "id": "MFjbB6B3Fyc2"
   },
   "source": [
    "A um nível muito básico, as estruturas de dados definidas pela biblioteca *pandas* podem ser vistas como versões melhoradas de arrays *NumPy* nas quais as linhas e colunas são identificadas por etiquetas em vez de um índice baseado na posição. As três estruturas de dados fundamentais definidas pela biblioteca *pandas* são a série (`Series`), a tabela de dados (`DataFrame`) e o índice (`Index`). O índice é uma estrutura interessante por si só, que pode ser vista como um array imutável ou como um conjunto ordenado. No entanto, a sua relevancia deve-se ao seu uso no contexto das outras duas estruturas. Por isso, para simplificar, vamos focar nessas duas e olhar para o índice como algo semelhante a um array."
   ]
  },
  {
   "cell_type": "markdown",
   "metadata": {
    "id": "WzvrTDOJFyc3"
   },
   "source": [
    "### Série (`Series`)\n",
    "\n",
    "Uma série é um array unidimensional de dados indexados.\n",
    "\n",
    "Séries podem ser criadas de várias formas. Por exemplo, a partir de sequências (ex: listas ou arrays)."
   ]
  },
  {
   "cell_type": "code",
   "execution_count": 6,
   "metadata": {
    "id": "-JlVj93qFyc3",
    "ExecuteTime": {
     "end_time": "2024-03-01T08:49:53.838825Z",
     "start_time": "2024-03-01T08:49:53.807371Z"
    }
   },
   "outputs": [
    {
     "data": {
      "text/plain": "0    0.25\n1    0.50\n2    0.75\n3    1.00\ndtype: float64"
     },
     "execution_count": 6,
     "metadata": {},
     "output_type": "execute_result"
    }
   ],
   "source": [
    "data = pd.Series([0.25, 0.5, 0.75, 1])\n",
    "data"
   ]
  },
  {
   "cell_type": "markdown",
   "metadata": {
    "id": "5tLK7rCbFyc3"
   },
   "source": [
    "Uma série combina uma sequência de valores e uma sequência explícita de índices, que podem ser acedidas individualmente através dos atributos `values`e `index`, respetivamente. Os valores são guardados como um array *NumPy*, enquanto os índices são guardados num objeto do tipo `Index` (ou uma das suas subclasses)."
   ]
  },
  {
   "cell_type": "code",
   "execution_count": 7,
   "metadata": {
    "id": "3PPXUegYFyc3",
    "ExecuteTime": {
     "end_time": "2024-03-01T08:49:53.908773Z",
     "start_time": "2024-03-01T08:49:53.837097Z"
    }
   },
   "outputs": [
    {
     "data": {
      "text/plain": "array([0.25, 0.5 , 0.75, 1.  ])"
     },
     "execution_count": 7,
     "metadata": {},
     "output_type": "execute_result"
    }
   ],
   "source": [
    "data.values"
   ]
  },
  {
   "cell_type": "code",
   "execution_count": 8,
   "metadata": {
    "id": "T9krOCNPFyc4",
    "ExecuteTime": {
     "end_time": "2024-03-01T08:49:53.924565Z",
     "start_time": "2024-03-01T08:49:53.889516Z"
    }
   },
   "outputs": [
    {
     "data": {
      "text/plain": "RangeIndex(start=0, stop=4, step=1)"
     },
     "execution_count": 8,
     "metadata": {},
     "output_type": "execute_result"
    }
   ],
   "source": [
    "data.index"
   ]
  },
  {
   "cell_type": "markdown",
   "metadata": {
    "id": "-uYKISBuFyc4"
   },
   "source": [
    "Tal como nos arrays, é possível aceder aos dados de uma série usando o operador de indexação `[]`:"
   ]
  },
  {
   "cell_type": "code",
   "execution_count": 9,
   "metadata": {
    "id": "k0o2v7kiFyc4",
    "ExecuteTime": {
     "end_time": "2024-03-01T08:49:53.988050Z",
     "start_time": "2024-03-01T08:49:53.924598Z"
    }
   },
   "outputs": [
    {
     "data": {
      "text/plain": "0.5"
     },
     "execution_count": 9,
     "metadata": {},
     "output_type": "execute_result"
    }
   ],
   "source": [
    "data[1]"
   ]
  },
  {
   "cell_type": "code",
   "execution_count": 10,
   "metadata": {
    "id": "bNE9JoWrFyc5",
    "ExecuteTime": {
     "end_time": "2024-03-01T08:49:54.001470Z",
     "start_time": "2024-03-01T08:49:53.977961Z"
    }
   },
   "outputs": [
    {
     "data": {
      "text/plain": "1    0.50\n2    0.75\ndtype: float64"
     },
     "execution_count": 10,
     "metadata": {},
     "output_type": "execute_result"
    }
   ],
   "source": [
    "data[1:3]"
   ]
  },
  {
   "cell_type": "markdown",
   "metadata": {
    "id": "NeaYxWdSFyc5"
   },
   "source": [
    "Até agora, uma série parece ser a mesma coisa que um array *NumPy* unidimensional. No entanto, existe uma diferença essencial: enquanto o array tem um índice inteiro definido implicitamente que é usado para aceder aos valores, a série tem um índice definido explicitamente que é associado aos valores. Esta definição explícita do índice confere capacidades adicionais à série. Por exemplo, o índice pode consistir em valores de qualquer tipo e não apenas inteiros."
   ]
  },
  {
   "cell_type": "code",
   "execution_count": 11,
   "metadata": {
    "id": "F8PgLpiTFyc5",
    "ExecuteTime": {
     "end_time": "2024-03-01T08:49:54.053487Z",
     "start_time": "2024-03-01T08:49:54.002201Z"
    }
   },
   "outputs": [
    {
     "data": {
      "text/plain": "a    0.25\nb    0.50\nc    0.75\nd    1.00\ndtype: float64"
     },
     "execution_count": 11,
     "metadata": {},
     "output_type": "execute_result"
    }
   ],
   "source": [
    "data = pd.Series([0.25, 0.5, 0.75, 1.0], index=['a', 'b', 'c', 'd'])\n",
    "data"
   ]
  },
  {
   "cell_type": "markdown",
   "metadata": {
    "id": "l5bCFbbGFyc5"
   },
   "source": [
    "Independentemente do tipo, o operador de indexação continua a funcionar da mesma forma."
   ]
  },
  {
   "cell_type": "code",
   "execution_count": 12,
   "metadata": {
    "id": "M7709UTVFyc5",
    "ExecuteTime": {
     "end_time": "2024-03-01T08:49:54.068372Z",
     "start_time": "2024-03-01T08:49:54.040672Z"
    }
   },
   "outputs": [
    {
     "data": {
      "text/plain": "0.5"
     },
     "execution_count": 12,
     "metadata": {},
     "output_type": "execute_result"
    }
   ],
   "source": [
    "data['b']"
   ]
  },
  {
   "cell_type": "markdown",
   "metadata": {
    "id": "6zKRrFPCFyc6"
   },
   "source": [
    "Os valores do índice nem sequer necessitam de ser contíguos ou sequenciais."
   ]
  },
  {
   "cell_type": "code",
   "execution_count": 13,
   "metadata": {
    "id": "4UdTogn-Fyc6",
    "ExecuteTime": {
     "end_time": "2024-03-01T08:49:54.124728Z",
     "start_time": "2024-03-01T08:49:54.069145Z"
    }
   },
   "outputs": [
    {
     "data": {
      "text/plain": "2    0.25\n5    0.50\n3    0.75\n7    1.00\ndtype: float64"
     },
     "execution_count": 13,
     "metadata": {},
     "output_type": "execute_result"
    }
   ],
   "source": [
    "data = pd.Series([0.25, 0.5, 0.75, 1.0], index=[2, 5, 3, 7])\n",
    "data"
   ]
  },
  {
   "cell_type": "code",
   "execution_count": 14,
   "metadata": {
    "id": "sdm_1DloFyc6",
    "ExecuteTime": {
     "end_time": "2024-03-01T08:49:54.148137Z",
     "start_time": "2024-03-01T08:49:54.112442Z"
    }
   },
   "outputs": [
    {
     "data": {
      "text/plain": "0.5"
     },
     "execution_count": 14,
     "metadata": {},
     "output_type": "execute_result"
    }
   ],
   "source": [
    "data[5]"
   ]
  },
  {
   "cell_type": "markdown",
   "metadata": {
    "id": "S59iKIKdFyc6"
   },
   "source": [
    "Desta perspetiva, uma série pode ser vista como uma especialização de um dicionário. Em Python, um dicionário é uma estrutura que mapeia chaves arbitrárias num conjunto de valores arbitrários. Uma série é uma estrutura que mapeia chaves de um determinado tipo num conjunto de valores que também têm um tipo definido. Esta tipificação é importante pela mesma razão que no caso dos arrays *NumPy*: eficiência das operações realizadas sobre a estrutura.\n",
    "\n",
    "A analogia da série como um dicionário torna-se ainda mais clara ao construir uma série diretamente a partir de um dicionário:"
   ]
  },
  {
   "cell_type": "code",
   "execution_count": 15,
   "metadata": {
    "id": "Ziy3J8_NFyc6",
    "ExecuteTime": {
     "end_time": "2024-03-01T08:49:54.198738Z",
     "start_time": "2024-03-01T08:49:54.142012Z"
    }
   },
   "outputs": [
    {
     "data": {
      "text/plain": "California      39538223\nTexas           29145505\nFlorida         21538187\nNew York        20201249\nPennsylvania    13002700\ndtype: int64"
     },
     "execution_count": 15,
     "metadata": {},
     "output_type": "execute_result"
    }
   ],
   "source": [
    "population_dict = {\n",
    "    'California': 39538223,\n",
    "    'Texas': 29145505,\n",
    "    'Florida': 21538187,\n",
    "    'New York': 20201249,\n",
    "    'Pennsylvania': 13002700\n",
    "}\n",
    "\n",
    "population = pd.Series(population_dict)\n",
    "population"
   ]
  },
  {
   "cell_type": "markdown",
   "metadata": {
    "id": "nZjyPysOFyc6"
   },
   "source": [
    "Neste caso, o índice é construído a partir do conjunto de chaves do dicionário. O acesso ao valor associado a um índice/chave é feito da mesma forma que num dicionário:  "
   ]
  },
  {
   "cell_type": "code",
   "execution_count": 16,
   "metadata": {
    "id": "gJ2mm7CRFyc7",
    "ExecuteTime": {
     "end_time": "2024-03-01T08:49:54.225433Z",
     "start_time": "2024-03-01T08:49:54.186782Z"
    }
   },
   "outputs": [
    {
     "data": {
      "text/plain": "39538223"
     },
     "execution_count": 16,
     "metadata": {},
     "output_type": "execute_result"
    }
   ],
   "source": [
    "population['California']"
   ]
  },
  {
   "cell_type": "markdown",
   "metadata": {
    "id": "yIMm8Wj2Fyc7"
   },
   "source": [
    "No entanto, ao contrário de um dicionário, uma série também permite obter todos os valores entre dois índices:"
   ]
  },
  {
   "cell_type": "code",
   "execution_count": 17,
   "metadata": {
    "id": "QBtaJ8rPFyc7",
    "ExecuteTime": {
     "end_time": "2024-03-01T08:49:54.322932Z",
     "start_time": "2024-03-01T08:49:54.226766Z"
    }
   },
   "outputs": [
    {
     "data": {
      "text/plain": "California    39538223\nTexas         29145505\nFlorida       21538187\ndtype: int64"
     },
     "execution_count": 17,
     "metadata": {},
     "output_type": "execute_result"
    }
   ],
   "source": [
    "population['California':'Florida']"
   ]
  },
  {
   "cell_type": "markdown",
   "metadata": {
    "id": "g7KaDwwMFyc7"
   },
   "source": [
    "**Nota**: Ao criar uma série a partir de um dicionário, é possível explicitar a ordem e/ou um subconjunto de chaves a usar:"
   ]
  },
  {
   "cell_type": "code",
   "execution_count": 18,
   "metadata": {
    "id": "ThkG-oDaFyc7",
    "ExecuteTime": {
     "end_time": "2024-03-01T08:49:54.351024Z",
     "start_time": "2024-03-01T08:49:54.303582Z"
    }
   },
   "outputs": [
    {
     "data": {
      "text/plain": "1    b\n2    a\ndtype: object"
     },
     "execution_count": 18,
     "metadata": {},
     "output_type": "execute_result"
    }
   ],
   "source": [
    "pd.Series({2: 'a', 1: 'b', 3: 'c'}, index=[1, 2])"
   ]
  },
  {
   "cell_type": "markdown",
   "metadata": {
    "id": "NK-CWj5nFyc7"
   },
   "source": [
    "**Nota**: Também é possível criar uma série com um valor constante para todos os índices:"
   ]
  },
  {
   "cell_type": "code",
   "execution_count": 19,
   "metadata": {
    "id": "KN1EsbMqFyc7",
    "ExecuteTime": {
     "end_time": "2024-03-01T08:49:54.405919Z",
     "start_time": "2024-03-01T08:49:54.351851Z"
    }
   },
   "outputs": [
    {
     "data": {
      "text/plain": "John    5\nJane    5\nMary    5\ndtype: int64"
     },
     "execution_count": 19,
     "metadata": {},
     "output_type": "execute_result"
    }
   ],
   "source": [
    "pd.Series(5, index=['John', 'Jane', 'Mary'])"
   ]
  },
  {
   "cell_type": "markdown",
   "metadata": {
    "id": "xzQr9IbFFyc8"
   },
   "source": [
    "### Tabela de dados (`DataFrame`)\n",
    "\n",
    "Uma tabela de dados é uma sequência de séries que partilham o mesmo índice. Tal como uma série, uma tabela de dados pode ser vista como uma generalização de um array *NumPy* ou como uma especialização de um dicionário. Para exemplificar a criação de uma tabela de dados, vamos começar por criar uma série com as áreas dos estados dos EUA para combinar com a série da população desses estados que criamos anteriormente:"
   ]
  },
  {
   "cell_type": "code",
   "execution_count": 20,
   "metadata": {
    "id": "hCJdWWSaFyc8",
    "ExecuteTime": {
     "end_time": "2024-03-01T08:49:54.433175Z",
     "start_time": "2024-03-01T08:49:54.394356Z"
    }
   },
   "outputs": [
    {
     "data": {
      "text/plain": "California      423967\nTexas           695662\nFlorida         170312\nNew York        141297\nPennsylvania    119280\ndtype: int64"
     },
     "execution_count": 20,
     "metadata": {},
     "output_type": "execute_result"
    }
   ],
   "source": [
    "area_dict = {\n",
    "    'California': 423967,\n",
    "    'Texas': 695662,\n",
    "    'Florida': 170312,\n",
    "    'New York': 141297,\n",
    "    'Pennsylvania': 119280\n",
    "}\n",
    "\n",
    "area = pd.Series(area_dict)\n",
    "area"
   ]
  },
  {
   "cell_type": "markdown",
   "metadata": {
    "id": "hV8iBG4eFyc8"
   },
   "source": [
    "Para criar a tabela de dados, podemos usar um dicionário que associa uma etiqueta a cada uma das séries:"
   ]
  },
  {
   "cell_type": "code",
   "execution_count": 21,
   "metadata": {
    "id": "5HhpWhZnFyc8",
    "ExecuteTime": {
     "end_time": "2024-03-01T08:49:54.484295Z",
     "start_time": "2024-03-01T08:49:54.428207Z"
    }
   },
   "outputs": [
    {
     "data": {
      "text/plain": "              population    area\nCalifornia      39538223  423967\nTexas           29145505  695662\nFlorida         21538187  170312\nNew York        20201249  141297\nPennsylvania    13002700  119280",
      "text/html": "<div>\n<style scoped>\n    .dataframe tbody tr th:only-of-type {\n        vertical-align: middle;\n    }\n\n    .dataframe tbody tr th {\n        vertical-align: top;\n    }\n\n    .dataframe thead th {\n        text-align: right;\n    }\n</style>\n<table border=\"1\" class=\"dataframe\">\n  <thead>\n    <tr style=\"text-align: right;\">\n      <th></th>\n      <th>population</th>\n      <th>area</th>\n    </tr>\n  </thead>\n  <tbody>\n    <tr>\n      <th>California</th>\n      <td>39538223</td>\n      <td>423967</td>\n    </tr>\n    <tr>\n      <th>Texas</th>\n      <td>29145505</td>\n      <td>695662</td>\n    </tr>\n    <tr>\n      <th>Florida</th>\n      <td>21538187</td>\n      <td>170312</td>\n    </tr>\n    <tr>\n      <th>New York</th>\n      <td>20201249</td>\n      <td>141297</td>\n    </tr>\n    <tr>\n      <th>Pennsylvania</th>\n      <td>13002700</td>\n      <td>119280</td>\n    </tr>\n  </tbody>\n</table>\n</div>"
     },
     "execution_count": 21,
     "metadata": {},
     "output_type": "execute_result"
    }
   ],
   "source": [
    "states = pd.DataFrame({'population': population, 'area': area})\n",
    "states"
   ]
  },
  {
   "cell_type": "markdown",
   "metadata": {
    "id": "iRVu4mvxFyc8"
   },
   "source": [
    "Tal como uma série, uma tabela de dados tem um atributo `index` que permite aceder ao índice:"
   ]
  },
  {
   "cell_type": "code",
   "execution_count": 22,
   "metadata": {
    "id": "67-Gx-e4Fyc9",
    "ExecuteTime": {
     "end_time": "2024-03-01T08:49:54.514713Z",
     "start_time": "2024-03-01T08:49:54.484466Z"
    }
   },
   "outputs": [
    {
     "data": {
      "text/plain": "Index(['California', 'Texas', 'Florida', 'New York', 'Pennsylvania'], dtype='object')"
     },
     "execution_count": 22,
     "metadata": {},
     "output_type": "execute_result"
    }
   ],
   "source": [
    "states.index"
   ]
  },
  {
   "cell_type": "markdown",
   "metadata": {
    "id": "v3oxJQQ7Fyc9"
   },
   "source": [
    "Para além disso, uma tabela de dados tem um atributo `columns` que permite aceder a um índice com as etiquetas das colunas:"
   ]
  },
  {
   "cell_type": "code",
   "execution_count": 23,
   "metadata": {
    "id": "MWmFS4c3Fyc9",
    "ExecuteTime": {
     "end_time": "2024-03-01T08:49:54.566389Z",
     "start_time": "2024-03-01T08:49:54.507164Z"
    }
   },
   "outputs": [
    {
     "data": {
      "text/plain": "Index(['population', 'area'], dtype='object')"
     },
     "execution_count": 23,
     "metadata": {},
     "output_type": "execute_result"
    }
   ],
   "source": [
    "states.columns"
   ]
  },
  {
   "cell_type": "markdown",
   "metadata": {
    "id": "s5geLtWIFyc9"
   },
   "source": [
    "Logo, uma tabela de dados pode ser vista como uma generalização de um array bidimensional em que quer as linhas, quer as colunas têm um índice explícito que pode ser usado para aceder aos dados. Para além disso, uma tabela de dados também pode ser vista como uma especialização de um dicionário em que as etiquetas das colunas são mapeadas nas séries de dados correspondentes."
   ]
  },
  {
   "cell_type": "code",
   "execution_count": 24,
   "metadata": {
    "id": "vTZwYYL3Fyc9",
    "ExecuteTime": {
     "end_time": "2024-03-01T08:49:54.638086Z",
     "start_time": "2024-03-01T08:49:54.567028Z"
    }
   },
   "outputs": [
    {
     "data": {
      "text/plain": "California      423967\nTexas           695662\nFlorida         170312\nNew York        141297\nPennsylvania    119280\nName: area, dtype: int64"
     },
     "execution_count": 24,
     "metadata": {},
     "output_type": "execute_result"
    }
   ],
   "source": [
    "states['area']"
   ]
  },
  {
   "cell_type": "markdown",
   "metadata": {
    "id": "xe70eRySFyc9"
   },
   "source": [
    "Para além de um dicionário que associa uma etiqueta a cada uma das séries, podemos criar tabelas de dados de outras formas. Por exemplo, a partir de uma única série:"
   ]
  },
  {
   "cell_type": "code",
   "execution_count": 25,
   "metadata": {
    "id": "fX8LtuOpFyc9",
    "ExecuteTime": {
     "end_time": "2024-03-01T08:49:54.749819Z",
     "start_time": "2024-03-01T08:49:54.608794Z"
    }
   },
   "outputs": [
    {
     "data": {
      "text/plain": "              population\nCalifornia      39538223\nTexas           29145505\nFlorida         21538187\nNew York        20201249\nPennsylvania    13002700",
      "text/html": "<div>\n<style scoped>\n    .dataframe tbody tr th:only-of-type {\n        vertical-align: middle;\n    }\n\n    .dataframe tbody tr th {\n        vertical-align: top;\n    }\n\n    .dataframe thead th {\n        text-align: right;\n    }\n</style>\n<table border=\"1\" class=\"dataframe\">\n  <thead>\n    <tr style=\"text-align: right;\">\n      <th></th>\n      <th>population</th>\n    </tr>\n  </thead>\n  <tbody>\n    <tr>\n      <th>California</th>\n      <td>39538223</td>\n    </tr>\n    <tr>\n      <th>Texas</th>\n      <td>29145505</td>\n    </tr>\n    <tr>\n      <th>Florida</th>\n      <td>21538187</td>\n    </tr>\n    <tr>\n      <th>New York</th>\n      <td>20201249</td>\n    </tr>\n    <tr>\n      <th>Pennsylvania</th>\n      <td>13002700</td>\n    </tr>\n  </tbody>\n</table>\n</div>"
     },
     "execution_count": 25,
     "metadata": {},
     "output_type": "execute_result"
    }
   ],
   "source": [
    "pd.DataFrame(population, columns=['population'])"
   ]
  },
  {
   "cell_type": "markdown",
   "metadata": {
    "id": "c_nPDDDQFyc9"
   },
   "source": [
    "Também é possível criar uma tabela de dados a partir de um array bidimensional:"
   ]
  },
  {
   "cell_type": "code",
   "execution_count": 26,
   "metadata": {
    "id": "d1fGsSGNFyc9",
    "ExecuteTime": {
     "end_time": "2024-03-01T08:49:54.775173Z",
     "start_time": "2024-03-01T08:49:54.724971Z"
    }
   },
   "outputs": [
    {
     "data": {
      "text/plain": "        foo       bar\na  0.409796  0.044031\nb  0.388964  0.046356\nc  0.446082  0.979269",
      "text/html": "<div>\n<style scoped>\n    .dataframe tbody tr th:only-of-type {\n        vertical-align: middle;\n    }\n\n    .dataframe tbody tr th {\n        vertical-align: top;\n    }\n\n    .dataframe thead th {\n        text-align: right;\n    }\n</style>\n<table border=\"1\" class=\"dataframe\">\n  <thead>\n    <tr style=\"text-align: right;\">\n      <th></th>\n      <th>foo</th>\n      <th>bar</th>\n    </tr>\n  </thead>\n  <tbody>\n    <tr>\n      <th>a</th>\n      <td>0.409796</td>\n      <td>0.044031</td>\n    </tr>\n    <tr>\n      <th>b</th>\n      <td>0.388964</td>\n      <td>0.046356</td>\n    </tr>\n    <tr>\n      <th>c</th>\n      <td>0.446082</td>\n      <td>0.979269</td>\n    </tr>\n  </tbody>\n</table>\n</div>"
     },
     "execution_count": 26,
     "metadata": {},
     "output_type": "execute_result"
    }
   ],
   "source": [
    "pd.DataFrame(np.random.rand(3, 2), columns=['foo', 'bar'], index=['a', 'b', 'c'])"
   ]
  },
  {
   "cell_type": "markdown",
   "metadata": {
    "id": "7Km0RMOvFyc9"
   },
   "source": [
    "**Nota**: Neste caso, se um dos ou ambos os índices não forem explicitados, são usados os índices inteiros do array."
   ]
  },
  {
   "cell_type": "code",
   "execution_count": 27,
   "metadata": {
    "id": "bAuGyFIqFyc-",
    "ExecuteTime": {
     "end_time": "2024-03-01T08:49:54.851650Z",
     "start_time": "2024-03-01T08:49:54.771171Z"
    }
   },
   "outputs": [
    {
     "data": {
      "text/plain": "          0         1\n0  0.337452  0.036165\n1  0.320891  0.133420\n2  0.534863  0.494698",
      "text/html": "<div>\n<style scoped>\n    .dataframe tbody tr th:only-of-type {\n        vertical-align: middle;\n    }\n\n    .dataframe tbody tr th {\n        vertical-align: top;\n    }\n\n    .dataframe thead th {\n        text-align: right;\n    }\n</style>\n<table border=\"1\" class=\"dataframe\">\n  <thead>\n    <tr style=\"text-align: right;\">\n      <th></th>\n      <th>0</th>\n      <th>1</th>\n    </tr>\n  </thead>\n  <tbody>\n    <tr>\n      <th>0</th>\n      <td>0.337452</td>\n      <td>0.036165</td>\n    </tr>\n    <tr>\n      <th>1</th>\n      <td>0.320891</td>\n      <td>0.133420</td>\n    </tr>\n    <tr>\n      <th>2</th>\n      <td>0.534863</td>\n      <td>0.494698</td>\n    </tr>\n  </tbody>\n</table>\n</div>"
     },
     "execution_count": 27,
     "metadata": {},
     "output_type": "execute_result"
    }
   ],
   "source": [
    "pd.DataFrame(np.random.rand(3, 2))"
   ]
  },
  {
   "cell_type": "markdown",
   "metadata": {
    "id": "zSCescd0Fyc-"
   },
   "source": [
    "Outra opção é criar uma tabela de dados a partir de uma lista de dicionários em que cada um deles representa uma entrada (linha) na tabela:"
   ]
  },
  {
   "cell_type": "code",
   "execution_count": 28,
   "metadata": {
    "id": "Y_8A27YZFyc-",
    "ExecuteTime": {
     "end_time": "2024-03-01T08:49:54.930023Z",
     "start_time": "2024-03-01T08:49:54.845665Z"
    }
   },
   "outputs": [
    {
     "data": {
      "text/plain": "   a  b\n0  0  0\n1  1  2\n2  2  4",
      "text/html": "<div>\n<style scoped>\n    .dataframe tbody tr th:only-of-type {\n        vertical-align: middle;\n    }\n\n    .dataframe tbody tr th {\n        vertical-align: top;\n    }\n\n    .dataframe thead th {\n        text-align: right;\n    }\n</style>\n<table border=\"1\" class=\"dataframe\">\n  <thead>\n    <tr style=\"text-align: right;\">\n      <th></th>\n      <th>a</th>\n      <th>b</th>\n    </tr>\n  </thead>\n  <tbody>\n    <tr>\n      <th>0</th>\n      <td>0</td>\n      <td>0</td>\n    </tr>\n    <tr>\n      <th>1</th>\n      <td>1</td>\n      <td>2</td>\n    </tr>\n    <tr>\n      <th>2</th>\n      <td>2</td>\n      <td>4</td>\n    </tr>\n  </tbody>\n</table>\n</div>"
     },
     "execution_count": 28,
     "metadata": {},
     "output_type": "execute_result"
    }
   ],
   "source": [
    "data = [{'a': i, 'b': 2 * i} for i in range(3)]\n",
    "pd.DataFrame(data)"
   ]
  },
  {
   "cell_type": "markdown",
   "metadata": {
    "id": "yqpkZpyLFyc-"
   },
   "source": [
    "**Nota**: Ao criar uma tabela de dados, se os índices das séries ou as chaves das entradas não coincidirem, então a tabela vai ter valores em falta, representados por `NaN`.   "
   ]
  },
  {
   "cell_type": "code",
   "execution_count": 29,
   "metadata": {
    "id": "PA2FpAoAFyc-",
    "ExecuteTime": {
     "end_time": "2024-03-01T08:49:55.034765Z",
     "start_time": "2024-03-01T08:49:54.902387Z"
    }
   },
   "outputs": [
    {
     "data": {
      "text/plain": "         s1        s2\na  0.575146  0.339608\nb  0.519958       NaN\nc  0.894236  0.250093\nd       NaN  0.242466",
      "text/html": "<div>\n<style scoped>\n    .dataframe tbody tr th:only-of-type {\n        vertical-align: middle;\n    }\n\n    .dataframe tbody tr th {\n        vertical-align: top;\n    }\n\n    .dataframe thead th {\n        text-align: right;\n    }\n</style>\n<table border=\"1\" class=\"dataframe\">\n  <thead>\n    <tr style=\"text-align: right;\">\n      <th></th>\n      <th>s1</th>\n      <th>s2</th>\n    </tr>\n  </thead>\n  <tbody>\n    <tr>\n      <th>a</th>\n      <td>0.575146</td>\n      <td>0.339608</td>\n    </tr>\n    <tr>\n      <th>b</th>\n      <td>0.519958</td>\n      <td>NaN</td>\n    </tr>\n    <tr>\n      <th>c</th>\n      <td>0.894236</td>\n      <td>0.250093</td>\n    </tr>\n    <tr>\n      <th>d</th>\n      <td>NaN</td>\n      <td>0.242466</td>\n    </tr>\n  </tbody>\n</table>\n</div>"
     },
     "execution_count": 29,
     "metadata": {},
     "output_type": "execute_result"
    }
   ],
   "source": [
    "s1 = pd.Series(np.random.rand(3), index=['a', 'b', 'c'])\n",
    "s2 = pd.Series(np.random.rand(3), index=['a', 'd', 'c'])\n",
    "\n",
    "pd.DataFrame({'s1': s1, 's2': s2})"
   ]
  },
  {
   "cell_type": "code",
   "execution_count": 30,
   "metadata": {
    "id": "llckTTbPFyc-",
    "ExecuteTime": {
     "end_time": "2024-03-01T08:49:55.125088Z",
     "start_time": "2024-03-01T08:49:55.036397Z"
    }
   },
   "outputs": [
    {
     "data": {
      "text/plain": "     a  b    c\n0  1.0  2  NaN\n1  NaN  3  4.0",
      "text/html": "<div>\n<style scoped>\n    .dataframe tbody tr th:only-of-type {\n        vertical-align: middle;\n    }\n\n    .dataframe tbody tr th {\n        vertical-align: top;\n    }\n\n    .dataframe thead th {\n        text-align: right;\n    }\n</style>\n<table border=\"1\" class=\"dataframe\">\n  <thead>\n    <tr style=\"text-align: right;\">\n      <th></th>\n      <th>a</th>\n      <th>b</th>\n      <th>c</th>\n    </tr>\n  </thead>\n  <tbody>\n    <tr>\n      <th>0</th>\n      <td>1.0</td>\n      <td>2</td>\n      <td>NaN</td>\n    </tr>\n    <tr>\n      <th>1</th>\n      <td>NaN</td>\n      <td>3</td>\n      <td>4.0</td>\n    </tr>\n  </tbody>\n</table>\n</div>"
     },
     "execution_count": 30,
     "metadata": {},
     "output_type": "execute_result"
    }
   ],
   "source": [
    "pd.DataFrame([{'a': 1, 'b': 2}, {'b': 3, 'c': 4}])"
   ]
  },
  {
   "cell_type": "markdown",
   "metadata": {
    "id": "3SwMNEzcFyc-"
   },
   "source": [
    "## Operações sobre tabelas de dados\n",
    "\n",
    "A biblioteca *pandas* oferece uma vasta gama de métodos e operações para análise e manipulação de dados a vários níveis. Grande parte do conhecimento sobre essas funcionalidades vai sendo adquirido com a prática e a experiência de lidar os problemas colocados por diferentes conjuntos de dados. Não se espera que alguém domine todas as funcionalidades e é comum consultar a [documentação da biblioteca](https://pandas.pydata.org/docs/index.html) para resolver problemas específicos. No entanto, inicialmente, é importante adquirir uma noção de como usar as operações básicas de transformação de dados e análise estatística, de forma a conseguir dar os primeiros passos na análise e manipulação de conjuntos de dados.\n",
    "\n",
    "Como exemplo, vamos olhar para um conjunto de dados com informação sobre filmes extraída da [IMDb](https://www.imdb.com/):"
   ]
  },
  {
   "cell_type": "code",
   "execution_count": 31,
   "metadata": {
    "id": "Q9Lwe2XjFyc-",
    "ExecuteTime": {
     "end_time": "2024-03-01T08:49:55.407615Z",
     "start_time": "2024-03-01T08:49:55.113490Z"
    }
   },
   "outputs": [],
   "source": [
    "import os\n",
    "\n",
    "data_path = '../data/' if os.path.exists('../data/') else 'https://raw.githubusercontent.com/TheAwesomeGe/DECD/main/data/'\n",
    "\n",
    "movies_df = pd.read_csv(data_path + 'IMDB-Movie-Data.csv', index_col='Title')"
   ]
  },
  {
   "cell_type": "markdown",
   "metadata": {
    "id": "LdtFM3iTFyc_"
   },
   "source": [
    "Neste caso, usamos o método `read_csv` para carregar o dataset de um ficheiro CSV e usar os títulos dos filmes como índice."
   ]
  },
  {
   "cell_type": "markdown",
   "metadata": {
    "id": "wUVgpIY9Fyc_"
   },
   "source": [
    "**Nota**: A biblioteca *pandas* define métodos para carregar datasets em vários formatos, como por exemplo a partir de uma folha de Excel (`read_excel`).  "
   ]
  },
  {
   "cell_type": "markdown",
   "metadata": {
    "id": "EUZag-ZhFyc_"
   },
   "source": [
    "### Visualizar os dados\n",
    "\n",
    "A primeira coisa a fazer ao abrir um novo conjunto de dados é olhar para os nomes das colunas e para algumas entradas para ter uma ideia do tipo de informação que é fornecida pelo conjunto de dados.\n",
    "\n",
    "A representação predefinida do tipo `DataFrame` mostra as 5 primeiras e as 5 últimas entradas do conjunto de dados:"
   ]
  },
  {
   "cell_type": "code",
   "execution_count": 32,
   "metadata": {
    "id": "Z3QIfjS3Fyc_",
    "ExecuteTime": {
     "end_time": "2024-03-01T08:49:55.414129Z",
     "start_time": "2024-03-01T08:49:55.382477Z"
    }
   },
   "outputs": [
    {
     "data": {
      "text/plain": "                         Rank                     Genre  \\\nTitle                                                     \nGuardians of the Galaxy     1   Action,Adventure,Sci-Fi   \nPrometheus                  2  Adventure,Mystery,Sci-Fi   \nSplit                       3           Horror,Thriller   \nSing                        4   Animation,Comedy,Family   \nSuicide Squad               5  Action,Adventure,Fantasy   \n...                       ...                       ...   \nSecret in Their Eyes      996       Crime,Drama,Mystery   \nHostel: Part II           997                    Horror   \nStep Up 2: The Streets    998       Drama,Music,Romance   \nSearch Party              999          Adventure,Comedy   \nNine Lives               1000     Comedy,Family,Fantasy   \n\n                                                               Description  \\\nTitle                                                                        \nGuardians of the Galaxy  A group of intergalactic criminals are forced ...   \nPrometheus               Following clues to the origin of mankind, a te...   \nSplit                    Three girls are kidnapped by a man with a diag...   \nSing                     In a city of humanoid animals, a hustling thea...   \nSuicide Squad            A secret government agency recruits some of th...   \n...                                                                    ...   \nSecret in Their Eyes     A tight-knit team of rising investigators, alo...   \nHostel: Part II          Three American college students studying abroa...   \nStep Up 2: The Streets   Romantic sparks occur between two dance studen...   \nSearch Party             A pair of friends embark on a mission to reuni...   \nNine Lives               A stuffy businessman finds himself trapped ins...   \n\n                                     Director  \\\nTitle                                           \nGuardians of the Galaxy            James Gunn   \nPrometheus                       Ridley Scott   \nSplit                      M. Night Shyamalan   \nSing                     Christophe Lourdelet   \nSuicide Squad                      David Ayer   \n...                                       ...   \nSecret in Their Eyes                Billy Ray   \nHostel: Part II                      Eli Roth   \nStep Up 2: The Streets             Jon M. Chu   \nSearch Party                   Scot Armstrong   \nNine Lives                   Barry Sonnenfeld   \n\n                                                                    Actors  \\\nTitle                                                                        \nGuardians of the Galaxy  Chris Pratt, Vin Diesel, Bradley Cooper, Zoe S...   \nPrometheus               Noomi Rapace, Logan Marshall-Green, Michael Fa...   \nSplit                    James McAvoy, Anya Taylor-Joy, Haley Lu Richar...   \nSing                     Matthew McConaughey,Reese Witherspoon, Seth Ma...   \nSuicide Squad            Will Smith, Jared Leto, Margot Robbie, Viola D...   \n...                                                                    ...   \nSecret in Their Eyes     Chiwetel Ejiofor, Nicole Kidman, Julia Roberts...   \nHostel: Part II          Lauren German, Heather Matarazzo, Bijou Philli...   \nStep Up 2: The Streets   Robert Hoffman, Briana Evigan, Cassie Ventura,...   \nSearch Party             Adam Pally, T.J. Miller, Thomas Middleditch,Sh...   \nNine Lives               Kevin Spacey, Jennifer Garner, Robbie Amell,Ch...   \n\n                         Year  Runtime (Minutes)  Rating   Votes  \\\nTitle                                                              \nGuardians of the Galaxy  2014                121     8.1  757074   \nPrometheus               2012                124     7.0  485820   \nSplit                    2016                117     7.3  157606   \nSing                     2016                108     7.2   60545   \nSuicide Squad            2016                123     6.2  393727   \n...                       ...                ...     ...     ...   \nSecret in Their Eyes     2015                111     6.2   27585   \nHostel: Part II          2007                 94     5.5   73152   \nStep Up 2: The Streets   2008                 98     6.2   70699   \nSearch Party             2014                 93     5.6    4881   \nNine Lives               2016                 87     5.3   12435   \n\n                         Revenue (Millions)  Metascore  \nTitle                                                   \nGuardians of the Galaxy              333.13       76.0  \nPrometheus                           126.46       65.0  \nSplit                                138.12       62.0  \nSing                                 270.32       59.0  \nSuicide Squad                        325.02       40.0  \n...                                     ...        ...  \nSecret in Their Eyes                    NaN       45.0  \nHostel: Part II                       17.54       46.0  \nStep Up 2: The Streets                58.01       50.0  \nSearch Party                            NaN       22.0  \nNine Lives                            19.64       11.0  \n\n[1000 rows x 11 columns]",
      "text/html": "<div>\n<style scoped>\n    .dataframe tbody tr th:only-of-type {\n        vertical-align: middle;\n    }\n\n    .dataframe tbody tr th {\n        vertical-align: top;\n    }\n\n    .dataframe thead th {\n        text-align: right;\n    }\n</style>\n<table border=\"1\" class=\"dataframe\">\n  <thead>\n    <tr style=\"text-align: right;\">\n      <th></th>\n      <th>Rank</th>\n      <th>Genre</th>\n      <th>Description</th>\n      <th>Director</th>\n      <th>Actors</th>\n      <th>Year</th>\n      <th>Runtime (Minutes)</th>\n      <th>Rating</th>\n      <th>Votes</th>\n      <th>Revenue (Millions)</th>\n      <th>Metascore</th>\n    </tr>\n    <tr>\n      <th>Title</th>\n      <th></th>\n      <th></th>\n      <th></th>\n      <th></th>\n      <th></th>\n      <th></th>\n      <th></th>\n      <th></th>\n      <th></th>\n      <th></th>\n      <th></th>\n    </tr>\n  </thead>\n  <tbody>\n    <tr>\n      <th>Guardians of the Galaxy</th>\n      <td>1</td>\n      <td>Action,Adventure,Sci-Fi</td>\n      <td>A group of intergalactic criminals are forced ...</td>\n      <td>James Gunn</td>\n      <td>Chris Pratt, Vin Diesel, Bradley Cooper, Zoe S...</td>\n      <td>2014</td>\n      <td>121</td>\n      <td>8.1</td>\n      <td>757074</td>\n      <td>333.13</td>\n      <td>76.0</td>\n    </tr>\n    <tr>\n      <th>Prometheus</th>\n      <td>2</td>\n      <td>Adventure,Mystery,Sci-Fi</td>\n      <td>Following clues to the origin of mankind, a te...</td>\n      <td>Ridley Scott</td>\n      <td>Noomi Rapace, Logan Marshall-Green, Michael Fa...</td>\n      <td>2012</td>\n      <td>124</td>\n      <td>7.0</td>\n      <td>485820</td>\n      <td>126.46</td>\n      <td>65.0</td>\n    </tr>\n    <tr>\n      <th>Split</th>\n      <td>3</td>\n      <td>Horror,Thriller</td>\n      <td>Three girls are kidnapped by a man with a diag...</td>\n      <td>M. Night Shyamalan</td>\n      <td>James McAvoy, Anya Taylor-Joy, Haley Lu Richar...</td>\n      <td>2016</td>\n      <td>117</td>\n      <td>7.3</td>\n      <td>157606</td>\n      <td>138.12</td>\n      <td>62.0</td>\n    </tr>\n    <tr>\n      <th>Sing</th>\n      <td>4</td>\n      <td>Animation,Comedy,Family</td>\n      <td>In a city of humanoid animals, a hustling thea...</td>\n      <td>Christophe Lourdelet</td>\n      <td>Matthew McConaughey,Reese Witherspoon, Seth Ma...</td>\n      <td>2016</td>\n      <td>108</td>\n      <td>7.2</td>\n      <td>60545</td>\n      <td>270.32</td>\n      <td>59.0</td>\n    </tr>\n    <tr>\n      <th>Suicide Squad</th>\n      <td>5</td>\n      <td>Action,Adventure,Fantasy</td>\n      <td>A secret government agency recruits some of th...</td>\n      <td>David Ayer</td>\n      <td>Will Smith, Jared Leto, Margot Robbie, Viola D...</td>\n      <td>2016</td>\n      <td>123</td>\n      <td>6.2</td>\n      <td>393727</td>\n      <td>325.02</td>\n      <td>40.0</td>\n    </tr>\n    <tr>\n      <th>...</th>\n      <td>...</td>\n      <td>...</td>\n      <td>...</td>\n      <td>...</td>\n      <td>...</td>\n      <td>...</td>\n      <td>...</td>\n      <td>...</td>\n      <td>...</td>\n      <td>...</td>\n      <td>...</td>\n    </tr>\n    <tr>\n      <th>Secret in Their Eyes</th>\n      <td>996</td>\n      <td>Crime,Drama,Mystery</td>\n      <td>A tight-knit team of rising investigators, alo...</td>\n      <td>Billy Ray</td>\n      <td>Chiwetel Ejiofor, Nicole Kidman, Julia Roberts...</td>\n      <td>2015</td>\n      <td>111</td>\n      <td>6.2</td>\n      <td>27585</td>\n      <td>NaN</td>\n      <td>45.0</td>\n    </tr>\n    <tr>\n      <th>Hostel: Part II</th>\n      <td>997</td>\n      <td>Horror</td>\n      <td>Three American college students studying abroa...</td>\n      <td>Eli Roth</td>\n      <td>Lauren German, Heather Matarazzo, Bijou Philli...</td>\n      <td>2007</td>\n      <td>94</td>\n      <td>5.5</td>\n      <td>73152</td>\n      <td>17.54</td>\n      <td>46.0</td>\n    </tr>\n    <tr>\n      <th>Step Up 2: The Streets</th>\n      <td>998</td>\n      <td>Drama,Music,Romance</td>\n      <td>Romantic sparks occur between two dance studen...</td>\n      <td>Jon M. Chu</td>\n      <td>Robert Hoffman, Briana Evigan, Cassie Ventura,...</td>\n      <td>2008</td>\n      <td>98</td>\n      <td>6.2</td>\n      <td>70699</td>\n      <td>58.01</td>\n      <td>50.0</td>\n    </tr>\n    <tr>\n      <th>Search Party</th>\n      <td>999</td>\n      <td>Adventure,Comedy</td>\n      <td>A pair of friends embark on a mission to reuni...</td>\n      <td>Scot Armstrong</td>\n      <td>Adam Pally, T.J. Miller, Thomas Middleditch,Sh...</td>\n      <td>2014</td>\n      <td>93</td>\n      <td>5.6</td>\n      <td>4881</td>\n      <td>NaN</td>\n      <td>22.0</td>\n    </tr>\n    <tr>\n      <th>Nine Lives</th>\n      <td>1000</td>\n      <td>Comedy,Family,Fantasy</td>\n      <td>A stuffy businessman finds himself trapped ins...</td>\n      <td>Barry Sonnenfeld</td>\n      <td>Kevin Spacey, Jennifer Garner, Robbie Amell,Ch...</td>\n      <td>2016</td>\n      <td>87</td>\n      <td>5.3</td>\n      <td>12435</td>\n      <td>19.64</td>\n      <td>11.0</td>\n    </tr>\n  </tbody>\n</table>\n<p>1000 rows × 11 columns</p>\n</div>"
     },
     "execution_count": 32,
     "metadata": {},
     "output_type": "execute_result"
    }
   ],
   "source": [
    "movies_df"
   ]
  },
  {
   "cell_type": "markdown",
   "metadata": {
    "id": "I2o_PqE4Fyc_"
   },
   "source": [
    "Alternativamente, podemos usar os métodos `head` e `tail` para ver as primeiras ou últimas *n* entradas."
   ]
  },
  {
   "cell_type": "code",
   "execution_count": 33,
   "metadata": {
    "id": "lfKpZNtYFyc_",
    "ExecuteTime": {
     "end_time": "2024-03-01T08:49:55.416768Z",
     "start_time": "2024-03-01T08:49:55.384094Z"
    }
   },
   "outputs": [
    {
     "data": {
      "text/plain": "                         Rank                     Genre  \\\nTitle                                                     \nGuardians of the Galaxy     1   Action,Adventure,Sci-Fi   \nPrometheus                  2  Adventure,Mystery,Sci-Fi   \nSplit                       3           Horror,Thriller   \n\n                                                               Description  \\\nTitle                                                                        \nGuardians of the Galaxy  A group of intergalactic criminals are forced ...   \nPrometheus               Following clues to the origin of mankind, a te...   \nSplit                    Three girls are kidnapped by a man with a diag...   \n\n                                   Director  \\\nTitle                                         \nGuardians of the Galaxy          James Gunn   \nPrometheus                     Ridley Scott   \nSplit                    M. Night Shyamalan   \n\n                                                                    Actors  \\\nTitle                                                                        \nGuardians of the Galaxy  Chris Pratt, Vin Diesel, Bradley Cooper, Zoe S...   \nPrometheus               Noomi Rapace, Logan Marshall-Green, Michael Fa...   \nSplit                    James McAvoy, Anya Taylor-Joy, Haley Lu Richar...   \n\n                         Year  Runtime (Minutes)  Rating   Votes  \\\nTitle                                                              \nGuardians of the Galaxy  2014                121     8.1  757074   \nPrometheus               2012                124     7.0  485820   \nSplit                    2016                117     7.3  157606   \n\n                         Revenue (Millions)  Metascore  \nTitle                                                   \nGuardians of the Galaxy              333.13       76.0  \nPrometheus                           126.46       65.0  \nSplit                                138.12       62.0  ",
      "text/html": "<div>\n<style scoped>\n    .dataframe tbody tr th:only-of-type {\n        vertical-align: middle;\n    }\n\n    .dataframe tbody tr th {\n        vertical-align: top;\n    }\n\n    .dataframe thead th {\n        text-align: right;\n    }\n</style>\n<table border=\"1\" class=\"dataframe\">\n  <thead>\n    <tr style=\"text-align: right;\">\n      <th></th>\n      <th>Rank</th>\n      <th>Genre</th>\n      <th>Description</th>\n      <th>Director</th>\n      <th>Actors</th>\n      <th>Year</th>\n      <th>Runtime (Minutes)</th>\n      <th>Rating</th>\n      <th>Votes</th>\n      <th>Revenue (Millions)</th>\n      <th>Metascore</th>\n    </tr>\n    <tr>\n      <th>Title</th>\n      <th></th>\n      <th></th>\n      <th></th>\n      <th></th>\n      <th></th>\n      <th></th>\n      <th></th>\n      <th></th>\n      <th></th>\n      <th></th>\n      <th></th>\n    </tr>\n  </thead>\n  <tbody>\n    <tr>\n      <th>Guardians of the Galaxy</th>\n      <td>1</td>\n      <td>Action,Adventure,Sci-Fi</td>\n      <td>A group of intergalactic criminals are forced ...</td>\n      <td>James Gunn</td>\n      <td>Chris Pratt, Vin Diesel, Bradley Cooper, Zoe S...</td>\n      <td>2014</td>\n      <td>121</td>\n      <td>8.1</td>\n      <td>757074</td>\n      <td>333.13</td>\n      <td>76.0</td>\n    </tr>\n    <tr>\n      <th>Prometheus</th>\n      <td>2</td>\n      <td>Adventure,Mystery,Sci-Fi</td>\n      <td>Following clues to the origin of mankind, a te...</td>\n      <td>Ridley Scott</td>\n      <td>Noomi Rapace, Logan Marshall-Green, Michael Fa...</td>\n      <td>2012</td>\n      <td>124</td>\n      <td>7.0</td>\n      <td>485820</td>\n      <td>126.46</td>\n      <td>65.0</td>\n    </tr>\n    <tr>\n      <th>Split</th>\n      <td>3</td>\n      <td>Horror,Thriller</td>\n      <td>Three girls are kidnapped by a man with a diag...</td>\n      <td>M. Night Shyamalan</td>\n      <td>James McAvoy, Anya Taylor-Joy, Haley Lu Richar...</td>\n      <td>2016</td>\n      <td>117</td>\n      <td>7.3</td>\n      <td>157606</td>\n      <td>138.12</td>\n      <td>62.0</td>\n    </tr>\n  </tbody>\n</table>\n</div>"
     },
     "execution_count": 33,
     "metadata": {},
     "output_type": "execute_result"
    }
   ],
   "source": [
    "movies_df.head(3)"
   ]
  },
  {
   "cell_type": "markdown",
   "metadata": {
    "id": "_CmqklBcFyc_"
   },
   "source": [
    "**Nota**: Se não for explicitado o número de entradas a mostrar, estes métodos mostram 5 entradas."
   ]
  },
  {
   "cell_type": "code",
   "execution_count": 34,
   "metadata": {
    "id": "BqD5DsduFyc_",
    "ExecuteTime": {
     "end_time": "2024-03-01T08:49:55.501843Z",
     "start_time": "2024-03-01T08:49:55.407349Z"
    }
   },
   "outputs": [
    {
     "data": {
      "text/plain": "                        Rank                  Genre  \\\nTitle                                                 \nSecret in Their Eyes     996    Crime,Drama,Mystery   \nHostel: Part II          997                 Horror   \nStep Up 2: The Streets   998    Drama,Music,Romance   \nSearch Party             999       Adventure,Comedy   \nNine Lives              1000  Comedy,Family,Fantasy   \n\n                                                              Description  \\\nTitle                                                                       \nSecret in Their Eyes    A tight-knit team of rising investigators, alo...   \nHostel: Part II         Three American college students studying abroa...   \nStep Up 2: The Streets  Romantic sparks occur between two dance studen...   \nSearch Party            A pair of friends embark on a mission to reuni...   \nNine Lives              A stuffy businessman finds himself trapped ins...   \n\n                                Director  \\\nTitle                                      \nSecret in Their Eyes           Billy Ray   \nHostel: Part II                 Eli Roth   \nStep Up 2: The Streets        Jon M. Chu   \nSearch Party              Scot Armstrong   \nNine Lives              Barry Sonnenfeld   \n\n                                                                   Actors  \\\nTitle                                                                       \nSecret in Their Eyes    Chiwetel Ejiofor, Nicole Kidman, Julia Roberts...   \nHostel: Part II         Lauren German, Heather Matarazzo, Bijou Philli...   \nStep Up 2: The Streets  Robert Hoffman, Briana Evigan, Cassie Ventura,...   \nSearch Party            Adam Pally, T.J. Miller, Thomas Middleditch,Sh...   \nNine Lives              Kevin Spacey, Jennifer Garner, Robbie Amell,Ch...   \n\n                        Year  Runtime (Minutes)  Rating  Votes  \\\nTitle                                                            \nSecret in Their Eyes    2015                111     6.2  27585   \nHostel: Part II         2007                 94     5.5  73152   \nStep Up 2: The Streets  2008                 98     6.2  70699   \nSearch Party            2014                 93     5.6   4881   \nNine Lives              2016                 87     5.3  12435   \n\n                        Revenue (Millions)  Metascore  \nTitle                                                  \nSecret in Their Eyes                   NaN       45.0  \nHostel: Part II                      17.54       46.0  \nStep Up 2: The Streets               58.01       50.0  \nSearch Party                           NaN       22.0  \nNine Lives                           19.64       11.0  ",
      "text/html": "<div>\n<style scoped>\n    .dataframe tbody tr th:only-of-type {\n        vertical-align: middle;\n    }\n\n    .dataframe tbody tr th {\n        vertical-align: top;\n    }\n\n    .dataframe thead th {\n        text-align: right;\n    }\n</style>\n<table border=\"1\" class=\"dataframe\">\n  <thead>\n    <tr style=\"text-align: right;\">\n      <th></th>\n      <th>Rank</th>\n      <th>Genre</th>\n      <th>Description</th>\n      <th>Director</th>\n      <th>Actors</th>\n      <th>Year</th>\n      <th>Runtime (Minutes)</th>\n      <th>Rating</th>\n      <th>Votes</th>\n      <th>Revenue (Millions)</th>\n      <th>Metascore</th>\n    </tr>\n    <tr>\n      <th>Title</th>\n      <th></th>\n      <th></th>\n      <th></th>\n      <th></th>\n      <th></th>\n      <th></th>\n      <th></th>\n      <th></th>\n      <th></th>\n      <th></th>\n      <th></th>\n    </tr>\n  </thead>\n  <tbody>\n    <tr>\n      <th>Secret in Their Eyes</th>\n      <td>996</td>\n      <td>Crime,Drama,Mystery</td>\n      <td>A tight-knit team of rising investigators, alo...</td>\n      <td>Billy Ray</td>\n      <td>Chiwetel Ejiofor, Nicole Kidman, Julia Roberts...</td>\n      <td>2015</td>\n      <td>111</td>\n      <td>6.2</td>\n      <td>27585</td>\n      <td>NaN</td>\n      <td>45.0</td>\n    </tr>\n    <tr>\n      <th>Hostel: Part II</th>\n      <td>997</td>\n      <td>Horror</td>\n      <td>Three American college students studying abroa...</td>\n      <td>Eli Roth</td>\n      <td>Lauren German, Heather Matarazzo, Bijou Philli...</td>\n      <td>2007</td>\n      <td>94</td>\n      <td>5.5</td>\n      <td>73152</td>\n      <td>17.54</td>\n      <td>46.0</td>\n    </tr>\n    <tr>\n      <th>Step Up 2: The Streets</th>\n      <td>998</td>\n      <td>Drama,Music,Romance</td>\n      <td>Romantic sparks occur between two dance studen...</td>\n      <td>Jon M. Chu</td>\n      <td>Robert Hoffman, Briana Evigan, Cassie Ventura,...</td>\n      <td>2008</td>\n      <td>98</td>\n      <td>6.2</td>\n      <td>70699</td>\n      <td>58.01</td>\n      <td>50.0</td>\n    </tr>\n    <tr>\n      <th>Search Party</th>\n      <td>999</td>\n      <td>Adventure,Comedy</td>\n      <td>A pair of friends embark on a mission to reuni...</td>\n      <td>Scot Armstrong</td>\n      <td>Adam Pally, T.J. Miller, Thomas Middleditch,Sh...</td>\n      <td>2014</td>\n      <td>93</td>\n      <td>5.6</td>\n      <td>4881</td>\n      <td>NaN</td>\n      <td>22.0</td>\n    </tr>\n    <tr>\n      <th>Nine Lives</th>\n      <td>1000</td>\n      <td>Comedy,Family,Fantasy</td>\n      <td>A stuffy businessman finds himself trapped ins...</td>\n      <td>Barry Sonnenfeld</td>\n      <td>Kevin Spacey, Jennifer Garner, Robbie Amell,Ch...</td>\n      <td>2016</td>\n      <td>87</td>\n      <td>5.3</td>\n      <td>12435</td>\n      <td>19.64</td>\n      <td>11.0</td>\n    </tr>\n  </tbody>\n</table>\n</div>"
     },
     "execution_count": 34,
     "metadata": {},
     "output_type": "execute_result"
    }
   ],
   "source": [
    "movies_df.tail()"
   ]
  },
  {
   "cell_type": "markdown",
   "metadata": {
    "id": "R0IUY2PqFyc_"
   },
   "source": [
    "### Obter informação sobre os dados\n",
    "\n",
    "O método `info` fornece os detalhes essenciais sobre um conjunto de dados, como o número de linhas e colunas, o número de valores não nulos, o tipo de dados em cada coluna e a quantidade de memória ocupada:"
   ]
  },
  {
   "cell_type": "code",
   "execution_count": 35,
   "metadata": {
    "id": "UgE8S-1JFyc_",
    "ExecuteTime": {
     "end_time": "2024-03-01T08:49:55.542542Z",
     "start_time": "2024-03-01T08:49:55.457459Z"
    }
   },
   "outputs": [
    {
     "name": "stdout",
     "output_type": "stream",
     "text": [
      "<class 'pandas.core.frame.DataFrame'>\n",
      "Index: 1000 entries, Guardians of the Galaxy to Nine Lives\n",
      "Data columns (total 11 columns):\n",
      " #   Column              Non-Null Count  Dtype  \n",
      "---  ------              --------------  -----  \n",
      " 0   Rank                1000 non-null   int64  \n",
      " 1   Genre               1000 non-null   object \n",
      " 2   Description         1000 non-null   object \n",
      " 3   Director            1000 non-null   object \n",
      " 4   Actors              1000 non-null   object \n",
      " 5   Year                1000 non-null   int64  \n",
      " 6   Runtime (Minutes)   1000 non-null   int64  \n",
      " 7   Rating              1000 non-null   float64\n",
      " 8   Votes               1000 non-null   int64  \n",
      " 9   Revenue (Millions)  872 non-null    float64\n",
      " 10  Metascore           936 non-null    float64\n",
      "dtypes: float64(3), int64(4), object(4)\n",
      "memory usage: 93.8+ KB\n"
     ]
    }
   ],
   "source": [
    "movies_df.info()"
   ]
  },
  {
   "cell_type": "markdown",
   "metadata": {
    "id": "DTnTc0LOFydA"
   },
   "source": [
    "Neste caso, facilmente conseguimos perceber que as colunas `Revenue (Millions)` e `Metascore` têm valores em falta.\n",
    "\n",
    "Conseguir saber os tipos de cada coluna rapidamente é muito útil. Por exemplo, permite perceber se alguns dados foram carregados com o tipo errado (ex: inteiros como cadeias de caracteres).\n",
    "\n",
    "O atributo `shape` também pode ser usado para descobrir rapidamente o número de entradas e atributos de um conjunto de dados:"
   ]
  },
  {
   "cell_type": "code",
   "execution_count": 36,
   "metadata": {
    "id": "eXaxafTHFydA",
    "ExecuteTime": {
     "end_time": "2024-03-01T08:49:55.661403Z",
     "start_time": "2024-03-01T08:49:55.541674Z"
    }
   },
   "outputs": [
    {
     "data": {
      "text/plain": "(1000, 11)"
     },
     "execution_count": 36,
     "metadata": {},
     "output_type": "execute_result"
    }
   ],
   "source": [
    "movies_df.shape"
   ]
  },
  {
   "cell_type": "markdown",
   "metadata": {
    "id": "WfX1x-iPFydA"
   },
   "source": [
    "### Limpeza de colunas\n",
    "\n",
    "Muitas vezes, os conjuntos de dados contêm colunas que não são úteis no contexto do problema que está a ser abordado. Para além disso, é normal as colunas terem nomes verbosos, com símbolos, capitalização variável, espaços, erros, etc.\n",
    "\n",
    "Para simplificar a análise dos dados e o processo de seleção baseado nos nomes das colunas, podemos fazer alguma limpeza.\n",
    "\n",
    "Como vimos anteriormente, podemos aceder ao índice com os nomes das colunas de uma tabela de dados usando o atributo `columns`:"
   ]
  },
  {
   "cell_type": "code",
   "execution_count": 37,
   "metadata": {
    "id": "lezImR_gFydA",
    "ExecuteTime": {
     "end_time": "2024-03-01T08:49:55.792690Z",
     "start_time": "2024-03-01T08:49:55.650480Z"
    }
   },
   "outputs": [
    {
     "data": {
      "text/plain": "Index(['Rank', 'Genre', 'Description', 'Director', 'Actors', 'Year',\n       'Runtime (Minutes)', 'Rating', 'Votes', 'Revenue (Millions)',\n       'Metascore'],\n      dtype='object')"
     },
     "execution_count": 37,
     "metadata": {},
     "output_type": "execute_result"
    }
   ],
   "source": [
    "movies_df.columns"
   ]
  },
  {
   "cell_type": "markdown",
   "metadata": {
    "id": "CnlGcf8GFydA"
   },
   "source": [
    "Este atributo é útil quando queremos renomear ou descartar colunas, pois permite copiar e colar os nomes das colunas em que estamos interessados. Para além disso, também é útil para perceber porque é que obtivemos um `KeyError` ao tentar selecionar alguns dados com base no nome de uma coluna."
   ]
  },
  {
   "cell_type": "code",
   "execution_count": 38,
   "metadata": {
    "id": "ALSCFgVkFydA",
    "ExecuteTime": {
     "end_time": "2024-03-01T08:49:56.254277Z",
     "start_time": "2024-03-01T08:49:55.793091Z"
    }
   },
   "outputs": [
    {
     "ename": "KeyError",
     "evalue": "'Revenue'",
     "output_type": "error",
     "traceback": [
      "\u001B[0;31m---------------------------------------------------------------------------\u001B[0m",
      "\u001B[0;31mKeyError\u001B[0m                                  Traceback (most recent call last)",
      "File \u001B[0;32m~/Documents/Programming/GIT/DECD/.venv/lib/python3.11/site-packages/pandas/core/indexes/base.py:3805\u001B[0m, in \u001B[0;36mIndex.get_loc\u001B[0;34m(self, key)\u001B[0m\n\u001B[1;32m   3804\u001B[0m \u001B[38;5;28;01mtry\u001B[39;00m:\n\u001B[0;32m-> 3805\u001B[0m     \u001B[38;5;28;01mreturn\u001B[39;00m \u001B[38;5;28;43mself\u001B[39;49m\u001B[38;5;241;43m.\u001B[39;49m\u001B[43m_engine\u001B[49m\u001B[38;5;241;43m.\u001B[39;49m\u001B[43mget_loc\u001B[49m\u001B[43m(\u001B[49m\u001B[43mcasted_key\u001B[49m\u001B[43m)\u001B[49m\n\u001B[1;32m   3806\u001B[0m \u001B[38;5;28;01mexcept\u001B[39;00m \u001B[38;5;167;01mKeyError\u001B[39;00m \u001B[38;5;28;01mas\u001B[39;00m err:\n",
      "File \u001B[0;32mindex.pyx:167\u001B[0m, in \u001B[0;36mpandas._libs.index.IndexEngine.get_loc\u001B[0;34m()\u001B[0m\n",
      "File \u001B[0;32mindex.pyx:196\u001B[0m, in \u001B[0;36mpandas._libs.index.IndexEngine.get_loc\u001B[0;34m()\u001B[0m\n",
      "File \u001B[0;32mpandas/_libs/hashtable_class_helper.pxi:7081\u001B[0m, in \u001B[0;36mpandas._libs.hashtable.PyObjectHashTable.get_item\u001B[0;34m()\u001B[0m\n",
      "File \u001B[0;32mpandas/_libs/hashtable_class_helper.pxi:7089\u001B[0m, in \u001B[0;36mpandas._libs.hashtable.PyObjectHashTable.get_item\u001B[0;34m()\u001B[0m\n",
      "\u001B[0;31mKeyError\u001B[0m: 'Revenue'",
      "\nThe above exception was the direct cause of the following exception:\n",
      "\u001B[0;31mKeyError\u001B[0m                                  Traceback (most recent call last)",
      "Cell \u001B[0;32mIn[38], line 1\u001B[0m\n\u001B[0;32m----> 1\u001B[0m \u001B[43mmovies_df\u001B[49m\u001B[43m[\u001B[49m\u001B[38;5;124;43m'\u001B[39;49m\u001B[38;5;124;43mRevenue\u001B[39;49m\u001B[38;5;124;43m'\u001B[39;49m\u001B[43m]\u001B[49m\n",
      "File \u001B[0;32m~/Documents/Programming/GIT/DECD/.venv/lib/python3.11/site-packages/pandas/core/frame.py:4090\u001B[0m, in \u001B[0;36mDataFrame.__getitem__\u001B[0;34m(self, key)\u001B[0m\n\u001B[1;32m   4088\u001B[0m \u001B[38;5;28;01mif\u001B[39;00m \u001B[38;5;28mself\u001B[39m\u001B[38;5;241m.\u001B[39mcolumns\u001B[38;5;241m.\u001B[39mnlevels \u001B[38;5;241m>\u001B[39m \u001B[38;5;241m1\u001B[39m:\n\u001B[1;32m   4089\u001B[0m     \u001B[38;5;28;01mreturn\u001B[39;00m \u001B[38;5;28mself\u001B[39m\u001B[38;5;241m.\u001B[39m_getitem_multilevel(key)\n\u001B[0;32m-> 4090\u001B[0m indexer \u001B[38;5;241m=\u001B[39m \u001B[38;5;28;43mself\u001B[39;49m\u001B[38;5;241;43m.\u001B[39;49m\u001B[43mcolumns\u001B[49m\u001B[38;5;241;43m.\u001B[39;49m\u001B[43mget_loc\u001B[49m\u001B[43m(\u001B[49m\u001B[43mkey\u001B[49m\u001B[43m)\u001B[49m\n\u001B[1;32m   4091\u001B[0m \u001B[38;5;28;01mif\u001B[39;00m is_integer(indexer):\n\u001B[1;32m   4092\u001B[0m     indexer \u001B[38;5;241m=\u001B[39m [indexer]\n",
      "File \u001B[0;32m~/Documents/Programming/GIT/DECD/.venv/lib/python3.11/site-packages/pandas/core/indexes/base.py:3812\u001B[0m, in \u001B[0;36mIndex.get_loc\u001B[0;34m(self, key)\u001B[0m\n\u001B[1;32m   3807\u001B[0m     \u001B[38;5;28;01mif\u001B[39;00m \u001B[38;5;28misinstance\u001B[39m(casted_key, \u001B[38;5;28mslice\u001B[39m) \u001B[38;5;129;01mor\u001B[39;00m (\n\u001B[1;32m   3808\u001B[0m         \u001B[38;5;28misinstance\u001B[39m(casted_key, abc\u001B[38;5;241m.\u001B[39mIterable)\n\u001B[1;32m   3809\u001B[0m         \u001B[38;5;129;01mand\u001B[39;00m \u001B[38;5;28many\u001B[39m(\u001B[38;5;28misinstance\u001B[39m(x, \u001B[38;5;28mslice\u001B[39m) \u001B[38;5;28;01mfor\u001B[39;00m x \u001B[38;5;129;01min\u001B[39;00m casted_key)\n\u001B[1;32m   3810\u001B[0m     ):\n\u001B[1;32m   3811\u001B[0m         \u001B[38;5;28;01mraise\u001B[39;00m InvalidIndexError(key)\n\u001B[0;32m-> 3812\u001B[0m     \u001B[38;5;28;01mraise\u001B[39;00m \u001B[38;5;167;01mKeyError\u001B[39;00m(key) \u001B[38;5;28;01mfrom\u001B[39;00m \u001B[38;5;21;01merr\u001B[39;00m\n\u001B[1;32m   3813\u001B[0m \u001B[38;5;28;01mexcept\u001B[39;00m \u001B[38;5;167;01mTypeError\u001B[39;00m:\n\u001B[1;32m   3814\u001B[0m     \u001B[38;5;66;03m# If we have a listlike key, _check_indexing_error will raise\u001B[39;00m\n\u001B[1;32m   3815\u001B[0m     \u001B[38;5;66;03m#  InvalidIndexError. Otherwise we fall through and re-raise\u001B[39;00m\n\u001B[1;32m   3816\u001B[0m     \u001B[38;5;66;03m#  the TypeError.\u001B[39;00m\n\u001B[1;32m   3817\u001B[0m     \u001B[38;5;28mself\u001B[39m\u001B[38;5;241m.\u001B[39m_check_indexing_error(key)\n",
      "\u001B[0;31mKeyError\u001B[0m: 'Revenue'"
     ]
    }
   ],
   "source": [
    "movies_df['Revenue']"
   ]
  },
  {
   "cell_type": "markdown",
   "metadata": {
    "id": "vLSx2ITxFydA"
   },
   "source": [
    "É prática comum renomear as colunas para que os nomes sejam em minúsculas, não contenham caracteres especiais e os espaços sejam substituídos por *underscore*.\n",
    "\n",
    "Podemos usar o método `rename` para renomear algumas ou todas as colunas usando um dicionário. Vamos usar essa abordagem para remover os parênteses dos nomes das colunas:"
   ]
  },
  {
   "cell_type": "code",
   "execution_count": null,
   "metadata": {
    "id": "VzGc6dmFFydA",
    "ExecuteTime": {
     "start_time": "2024-03-01T08:49:56.236789Z"
    }
   },
   "outputs": [],
   "source": [
    "movies_df.rename(columns={\n",
    "    'Runtime (Minutes)': 'Runtime',\n",
    "    'Revenue (Millions)': 'Revenue_millions'\n",
    "}, inplace=True)\n",
    "\n",
    "movies_df.columns"
   ]
  },
  {
   "cell_type": "markdown",
   "metadata": {
    "id": "2u0WHpWYFydA"
   },
   "source": [
    "**Nota**: O argumento `inplace` serve para definir se queremos alterar diretamente a tabela de dados ou obter uma nova tabela com o resultado da aplicação da operação. O comportamento predefinido é não alterar a tabela original."
   ]
  },
  {
   "cell_type": "markdown",
   "metadata": {
    "id": "bC6x-WaJFydA"
   },
   "source": [
    "Também podemos atribuir diretamente uma nova lista de etiquetas ao atributo `columns`:"
   ]
  },
  {
   "cell_type": "code",
   "execution_count": null,
   "metadata": {
    "id": "rv6Y2TxUFydB",
    "ExecuteTime": {
     "start_time": "2024-03-01T08:49:56.238396Z"
    }
   },
   "outputs": [],
   "source": [
    "movies_df.columns = [\n",
    "    'rank', 'genre', 'description',\n",
    "    'director', 'actors', 'year',\n",
    "    'runtime', 'rating', 'votes',\n",
    "    'revenue_millions', 'metascore'\n",
    "]\n",
    "movies_df.columns"
   ]
  },
  {
   "cell_type": "markdown",
   "metadata": {
    "id": "4plIbCYFFydB"
   },
   "source": [
    "**Nota**: Há uma maneira mais rápida de mudar todos os nomes para minúsculas:"
   ]
  },
  {
   "cell_type": "code",
   "execution_count": null,
   "metadata": {
    "id": "AQj-diMoFydB",
    "ExecuteTime": {
     "start_time": "2024-03-01T08:49:56.239526Z"
    }
   },
   "outputs": [],
   "source": [
    "movies_df.columns = [c.lower() for c in movies_df.columns]\n",
    "movies_df.columns"
   ]
  },
  {
   "cell_type": "markdown",
   "metadata": {
    "id": "7vYuxAQAFydB"
   },
   "source": [
    "Compreensões de lista (e dicionário) são muito úteis em conjunto com as operações da biblioteca *pandas* e ao trabalhar com dados no geral."
   ]
  },
  {
   "cell_type": "markdown",
   "metadata": {
    "id": "LCnn-Xs5FydB"
   },
   "source": [
    "Para selecionar o conjunto de colunas que nos interessa, podemos usar o operador de indexação `[]` com uma lista dos nomes das colunas que queremos:"
   ]
  },
  {
   "cell_type": "code",
   "execution_count": null,
   "metadata": {
    "id": "2F94sAD-FydB",
    "ExecuteTime": {
     "start_time": "2024-03-01T08:49:56.241027Z"
    }
   },
   "outputs": [],
   "source": [
    "selected_df = movies_df[['genre', 'director', 'year', 'runtime', 'rating', 'votes', 'revenue_millions', 'metascore']]\n",
    "selected_df.columns"
   ]
  },
  {
   "cell_type": "code",
   "execution_count": null,
   "metadata": {
    "id": "Rvmw5Vk3FydB",
    "ExecuteTime": {
     "start_time": "2024-03-01T08:49:56.242340Z"
    }
   },
   "outputs": [],
   "source": [
    "selected_df.head(3)"
   ]
  },
  {
   "cell_type": "markdown",
   "metadata": {
    "id": "0-oMQViXFydB"
   },
   "source": [
    "Alternativamente, podemos descartar as colunas que não nos interessam usando o método `drop`:"
   ]
  },
  {
   "cell_type": "code",
   "execution_count": null,
   "metadata": {
    "id": "IvUIvOQlFydB",
    "ExecuteTime": {
     "start_time": "2024-03-01T08:49:56.243631Z"
    }
   },
   "outputs": [],
   "source": [
    "movies_df.drop(columns=['rank', 'description', 'actors'], inplace=True)"
   ]
  },
  {
   "cell_type": "code",
   "execution_count": null,
   "metadata": {
    "id": "4mWmaQsvFydB",
    "ExecuteTime": {
     "start_time": "2024-03-01T08:49:56.244941Z"
    }
   },
   "outputs": [],
   "source": [
    "movies_df.head(3)"
   ]
  },
  {
   "cell_type": "markdown",
   "metadata": {
    "id": "9M-prWGrFydB"
   },
   "source": [
    "### Valores em falta\n",
    "\n",
    "Ao explorar um conjunto de dados, é possível encontrar valores em falta ou nulos. As representações mais comuns para estes valores desconhecidos ou não existententes são `None` ou `numpy.NaN`.\n",
    "\n",
    "As abordagens mais comuns para lidar com valores em falta são:\n",
    "\n",
    "1. Apagar as linhas ou colunas com valores em falta\n",
    "2. Prencher os valores em falta com valores obtidos usando uma técnica chamada imputação\n",
    "\n",
    "Para calcular o número de valores em falta num conjunto de dados, podemos começar por verificar quais as células da tabela de dados que têm uma das representações para valores desconhecidos. Para isso, podemos usar o método `isnull`:"
   ]
  },
  {
   "cell_type": "code",
   "execution_count": null,
   "metadata": {
    "id": "mbvMl6KbFydB",
    "ExecuteTime": {
     "start_time": "2024-03-01T08:49:56.246245Z"
    }
   },
   "outputs": [],
   "source": [
    "movies_df.isnull()"
   ]
  },
  {
   "cell_type": "markdown",
   "metadata": {
    "id": "n1BYEtN2FydB"
   },
   "source": [
    "Este método devolve uma tabela de dados em que cada célula tem um valor booleano que indica se o valor está em falta. Por si só isto não é muito útil. No entanto, podemos usar uma função de agregação, neste caso a soma (`sum`), para obter um resultado mais interessante:"
   ]
  },
  {
   "cell_type": "code",
   "execution_count": null,
   "metadata": {
    "id": "9X6YforcFydB",
    "ExecuteTime": {
     "start_time": "2024-03-01T08:49:56.247260Z"
    }
   },
   "outputs": [],
   "source": [
    "movies_df.isnull().sum()"
   ]
  },
  {
   "cell_type": "markdown",
   "metadata": {
    "id": "QZqPJBvYFydB"
   },
   "source": [
    "Assim podemos concluir que existem **128** valores em falta na coluna `revenue_millions` e **64** valores em falta na coluna `metascore`."
   ]
  },
  {
   "cell_type": "markdown",
   "metadata": {
    "id": "02yfX1nNFydC"
   },
   "source": [
    "#### Remoção de valores em falta\n",
    "\n",
    "Cientistas e analistas de dados são regularmente confrontados com o dilema de descartar ou imputar valores em falta. Esta é uma decisão que requer conhecimento dos dados e do contexto em que eles são utilizados. No entanto, normalmente, só é recomendada a remoção das entradas com valores em falta quando estas representam uma porção insignificante do conjunto de dados total. Pelo contrário, só é recomendada a remoção de atributos com valores em falta quando estes estão em maioria.\n",
    "\n",
    "O método `dropna` pode ser usado para descartar valores em falta de uma tabela de dados. O comportamento predefinido é apagar todas as **entradas** que têm pelo menos um valor em falta:"
   ]
  },
  {
   "cell_type": "code",
   "execution_count": null,
   "metadata": {
    "id": "O37GCGe1FydC",
    "ExecuteTime": {
     "start_time": "2024-03-01T08:49:56.248323Z"
    }
   },
   "outputs": [],
   "source": [
    "movies_df.dropna()"
   ]
  },
  {
   "cell_type": "markdown",
   "metadata": {
    "id": "u_VKb3EyFydC"
   },
   "source": [
    "No caso deste conjunto de dados, seriam removidas `1000 - 838 = 162` entradas ao aplicar esta operação. Isto é um desperdício, uma vez que existem dados que podem ser importantes nas outras colunas dessas entradas.\n",
    "\n",
    "Para descartar atributos com valores em falta podemos usar o método `dropna` com o argumento `axis='columns'` ou `axis=1`:"
   ]
  },
  {
   "cell_type": "code",
   "execution_count": null,
   "metadata": {
    "id": "rUZpedpJFydC",
    "ExecuteTime": {
     "start_time": "2024-03-01T08:49:56.249225Z"
    }
   },
   "outputs": [],
   "source": [
    "movies_df.dropna(axis='columns')"
   ]
  },
  {
   "cell_type": "markdown",
   "metadata": {
    "id": "hIh_6bCdFydC"
   },
   "source": [
    "Neste caso, são mantidas as 1000 entradas, mas as colunas `revenue_millions` e `metascore` são removidas.\n"
   ]
  },
  {
   "cell_type": "markdown",
   "metadata": {
    "id": "Mbr7PjnMFydC"
   },
   "source": [
    "#### Imputação\n",
    "\n",
    "Imputação (o processo de substituir valores em falta por valores representativos) é uma técnica convencional de engenharia de atributos usada para evitar descartar entradas com valores em falta. Na prática, consiste em substituir os valores em falta por valores representativos, como por exemplo a média ou a mediana do atributo no conjunto de dados.\n",
    "\n",
    "Como exemplo, vamos usar esta estratégia para lidar com os valores em falta na coluna `revenue_millions`:"
   ]
  },
  {
   "cell_type": "code",
   "execution_count": null,
   "metadata": {
    "id": "zHTqDY9dFydC",
    "ExecuteTime": {
     "start_time": "2024-03-01T08:49:56.249900Z"
    }
   },
   "outputs": [],
   "source": [
    "revenue = movies_df['revenue_millions']\n",
    "revenue_mean = revenue.mean()\n",
    "revenue_mean"
   ]
  },
  {
   "cell_type": "markdown",
   "metadata": {
    "id": "v0nsY9HMFydC"
   },
   "source": [
    "Agora que já temos a média, podemos usar o método `fillna` para preencher os valores em falta com esse valor:"
   ]
  },
  {
   "cell_type": "code",
   "execution_count": null,
   "metadata": {
    "id": "YIvjNI5dFydC",
    "ExecuteTime": {
     "start_time": "2024-03-01T08:49:56.250591Z"
    }
   },
   "outputs": [],
   "source": [
    "revenue.fillna(revenue_mean, inplace=True)"
   ]
  },
  {
   "cell_type": "markdown",
   "metadata": {
    "id": "cNmiH958FydC"
   },
   "source": [
    "**Nota**: O método foi chamado sobre a série `revenue` pois só queremos preencher os valores em falta para esse atributo e não todos os valores em falta na tabela de dados."
   ]
  },
  {
   "cell_type": "code",
   "execution_count": null,
   "metadata": {
    "id": "aKT_XiXKFydD",
    "ExecuteTime": {
     "start_time": "2024-03-01T08:49:56.251295Z"
    }
   },
   "outputs": [],
   "source": [
    "movies_df.isnull().sum()"
   ]
  },
  {
   "cell_type": "markdown",
   "metadata": {
    "id": "ziJaZj5CFydE"
   },
   "source": [
    "**Nota**: Imputar uma todos os valores em falta de uma coluna com o mesmo valor é um exemplo básico da aplicação técnica. Uma ideia melhor seria usar uma imputação mais granular. Por exemplo, podiamos calcular a média para cada género de filme ou para cada realizador e usar esses valores para preencher os valores em falta em entradas com as mesmas características."
   ]
  },
  {
   "cell_type": "markdown",
   "metadata": {
    "id": "AIJgHV_KFydE"
   },
   "source": [
    "### Análise de atributos"
   ]
  },
  {
   "cell_type": "markdown",
   "metadata": {
    "id": "z-nVXjWDFydF"
   },
   "source": [
    "O método `describe` pode ser usado para obter um resumo da distribuição dos atributos contínuos de uma tabela de dados:"
   ]
  },
  {
   "cell_type": "code",
   "execution_count": null,
   "metadata": {
    "id": "_fuwdJKvFydF",
    "ExecuteTime": {
     "start_time": "2024-03-01T08:49:56.252130Z"
    }
   },
   "outputs": [],
   "source": [
    "movies_df.describe()"
   ]
  },
  {
   "cell_type": "markdown",
   "metadata": {
    "id": "u9zlCG0VFydF"
   },
   "source": [
    "O método `describe` também pode ser aplicado sobre uma série. Se essa série representar um atributo categórico, a informação obtida consiste no número de entradas, número de valores diferentes, qual o valor mais comum e a frequência desse valor:"
   ]
  },
  {
   "cell_type": "code",
   "execution_count": null,
   "metadata": {
    "id": "2BaYIrXFFydF",
    "ExecuteTime": {
     "start_time": "2024-03-01T08:49:56.252866Z"
    }
   },
   "outputs": [],
   "source": [
    "movies_df['genre'].describe()"
   ]
  },
  {
   "cell_type": "markdown",
   "metadata": {
    "id": "APt3kuVEFydF"
   },
   "source": [
    "Isto diz-nos que a coluna `genre` tem 207 valores diferentes, sendo o mais comum `Action/Adventure/Sci-Fi`, que aparece 50 vezes.\n",
    "\n",
    "O método `value_counts` pode ser usado para obter a frequência dos valores numa coluna:"
   ]
  },
  {
   "cell_type": "code",
   "execution_count": null,
   "metadata": {
    "id": "I_iO04lhFydF",
    "ExecuteTime": {
     "start_time": "2024-03-01T08:49:56.253575Z"
    }
   },
   "outputs": [],
   "source": [
    "movies_df['genre'].value_counts().head(10)"
   ]
  },
  {
   "cell_type": "markdown",
   "metadata": {
    "id": "ctgsB1t5FydF"
   },
   "source": [
    "O método `corr` pode ser usado para analisar a correlação entre cada par de atributos contínuos no conjunto de dados:"
   ]
  },
  {
   "cell_type": "code",
   "execution_count": null,
   "metadata": {
    "id": "hVdL69MCFydF",
    "ExecuteTime": {
     "start_time": "2024-03-01T08:49:56.254267Z"
    }
   },
   "outputs": [],
   "source": [
    "movies_df.corr(numeric_only=True)"
   ]
  },
  {
   "cell_type": "markdown",
   "metadata": {
    "id": "agE_qqBWFydF"
   },
   "source": [
    "Números positivos indicam uma correlação positiva (quando um aumenta, o outro também aumenta) e números negativos indicam uma correlação inversa (quando um aumenta, o outro decresce). O valor 1.0 indica uma correlação perfeita.\n",
    "\n",
    "Olhando para a tabela de correlações, podemos, por exemplo, ver que cada variável tem uma correlação perfeita consigo própria. No entanto, esta informação é óbvia e, por isso, pouco interessante. Por outro lado, uma correlação de 0.6 entre as variáveis `votes` e `revenue_millions` é uma observação mais interessante.\n",
    "\n",
    "Analisar tabelas de correlação entre atributos é útil, por exemplo, para identificar quais os atributos mais relacionados com um outro atributo de interesse. Entre outras coisas, esta informação pode depois ser usada para fazer uma seleção de atributos para reduzir a dimensionalidade."
   ]
  },
  {
   "cell_type": "markdown",
   "metadata": {
    "id": "3mwvGkEFFydF"
   },
   "source": [
    "### Seleção de dados\n",
    "\n",
    "Já vimos anteriormente que podemos selecionar dados com base no nome das colunas/atributos. Se usarmos o operador de indexação `[]` com o nome duma coluna, obtemos a série corresponde. Se usarmos uma lista, obtemos uma tabela de dados com as colunas incluídas na lista."
   ]
  },
  {
   "cell_type": "code",
   "execution_count": null,
   "metadata": {
    "id": "34u1a0TLFydF",
    "ExecuteTime": {
     "end_time": "2024-03-01T08:49:56.278797Z",
     "start_time": "2024-03-01T08:49:56.255080Z"
    }
   },
   "outputs": [],
   "source": [
    "genre_col = movies_df['genre']\n",
    "type(genre_col)"
   ]
  },
  {
   "cell_type": "code",
   "execution_count": null,
   "metadata": {
    "id": "VxNNbByGFydF",
    "ExecuteTime": {
     "start_time": "2024-03-01T08:49:56.255797Z"
    }
   },
   "outputs": [],
   "source": [
    "genre_col = movies_df[['genre']]\n",
    "type(genre_col)"
   ]
  },
  {
   "cell_type": "markdown",
   "metadata": {
    "id": "pody8UDGFydG"
   },
   "source": [
    "Também é possível selecionar linhas/entradas específicas. Para isso existem dois métodos:\n",
    "\n",
    "- `loc` - seleciona por nome (valor do índice)\n",
    "- `iloc`- seleciona por posição numérica no índice\n",
    "\n",
    "O nosso conjunto de dados está indexado pelo título dos filmes. Por isso, podemos usar o método `loc` para obter a entrada correspondente ao filme com um determinado título:"
   ]
  },
  {
   "cell_type": "code",
   "execution_count": 39,
   "metadata": {
    "id": "5bUENU_DFydG",
    "ExecuteTime": {
     "end_time": "2024-03-01T08:49:58.866378Z",
     "start_time": "2024-03-01T08:49:58.835619Z"
    }
   },
   "outputs": [
    {
     "data": {
      "text/plain": "Rank                                                                  2\nGenre                                          Adventure,Mystery,Sci-Fi\nDescription           Following clues to the origin of mankind, a te...\nDirector                                                   Ridley Scott\nActors                Noomi Rapace, Logan Marshall-Green, Michael Fa...\nYear                                                               2012\nRuntime (Minutes)                                                   124\nRating                                                              7.0\nVotes                                                            485820\nRevenue (Millions)                                               126.46\nMetascore                                                          65.0\nName: Prometheus, dtype: object"
     },
     "execution_count": 39,
     "metadata": {},
     "output_type": "execute_result"
    }
   ],
   "source": [
    "movies_df.loc['Prometheus']"
   ]
  },
  {
   "cell_type": "markdown",
   "metadata": {
    "id": "dporR5HFFydG"
   },
   "source": [
    "Podemos obter a mesma entrada usando o método `iloc` com a posição do filme no índice:"
   ]
  },
  {
   "cell_type": "code",
   "execution_count": null,
   "metadata": {
    "id": "z_boZsSEFydG"
   },
   "outputs": [],
   "source": [
    "movies_df.iloc[1]"
   ]
  },
  {
   "cell_type": "markdown",
   "metadata": {
    "id": "XfTgsgFGFydG"
   },
   "source": [
    "Estes métodos também podem ser usados para obter uma sequência de entradas contíguas da mesma forma que numa lista ou array *NumPy*:"
   ]
  },
  {
   "cell_type": "code",
   "execution_count": null,
   "metadata": {
    "id": "sObM4b74FydG"
   },
   "outputs": [],
   "source": [
    "movies_df.iloc[1:4]"
   ]
  },
  {
   "cell_type": "code",
   "execution_count": null,
   "metadata": {
    "id": "MLMKIE5kFydG"
   },
   "outputs": [],
   "source": [
    "movies_df.loc['Prometheus':'Sing']"
   ]
  },
  {
   "cell_type": "markdown",
   "metadata": {
    "id": "rRvowz8CFydG"
   },
   "source": [
    "**Nota**: Uma distinção importante entre os dois métodos quando são usados para obter múltiplas entradas é que num deles o intervalo é aberto à direita e no outro é fechado. No caso do método `iloc`, o intervalo é aberto à direita, tal como na indexação de listas e arrays. Por isso, o filme na posição 4 não foi selecionado. No caso do método `loc`, o intervalo é fechado. Por isso, o filme Sing foi selecionado."
   ]
  },
  {
   "cell_type": "markdown",
   "metadata": {
    "id": "zMbXVRgOFydG"
   },
   "source": [
    "É importante saber selecionar atributos ou entradas específicas, mas mais interessante que isso é conseguir selecionar dados que satisfazem uma determinada condição. Por exemplo, filmes realizados pelo Ridley Scott ou filmes com uma classificação igual ou superior a 8.0.\n",
    "\n",
    "Para fazer seleções deste tipo, podemos aplicar condições booleanas sobre as colunas de uma tabela de dados:"
   ]
  },
  {
   "cell_type": "code",
   "execution_count": null,
   "metadata": {
    "id": "OoZlI3gCFydG"
   },
   "outputs": [],
   "source": [
    "rs_movies = movies_df['director'] == 'Ridley Scott'\n",
    "rs_movies.head()"
   ]
  },
  {
   "cell_type": "markdown",
   "metadata": {
    "id": "minFxiTuFydG"
   },
   "source": [
    "O resultado da aplicação duma condição deste tipo é semelhante ao obtido quando aplicamos o método `isnull`. Neste caso temos uma série de valores booleanos que indicam se o Ridley Scott é o realizador de cada um dos filmes.\n",
    "\n",
    "Podemos usar métodos de agregação sobre este resultado para descobrir, por exemplo, quantos dos filmes foram realizados pelo Ridley Scott:"
   ]
  },
  {
   "cell_type": "code",
   "execution_count": null,
   "metadata": {
    "id": "cPaPOQDLFydG"
   },
   "outputs": [],
   "source": [
    "rs_movies.sum()"
   ]
  },
  {
   "cell_type": "markdown",
   "metadata": {
    "id": "fFXVjoJpFydG"
   },
   "source": [
    "Mas o nosso objectivo era obter as entradas correspondentes aos filmes realizados pelo Ridley Scott...\n",
    "\n",
    "Para isso, temos de usar a condição (ou o resultado dela) com o operador de indexação sobre a tabela de dados:"
   ]
  },
  {
   "cell_type": "code",
   "execution_count": null,
   "metadata": {
    "id": "uYQwdYbXFydG"
   },
   "outputs": [],
   "source": [
    "movies_df[rs_movies].head()"
   ]
  },
  {
   "cell_type": "code",
   "execution_count": null,
   "metadata": {
    "id": "l3UW7tmEFydG"
   },
   "outputs": [],
   "source": [
    "movies_df[movies_df['director'] == 'Ridley Scott'].head()"
   ]
  },
  {
   "cell_type": "markdown",
   "metadata": {
    "id": "qyxXtQZwFydG"
   },
   "source": [
    "Para quem está habituado a trabalhar com bases de dados SQL, pode ajudar interpretar este tipo de seleção como:\n",
    "\n",
    "> select * from movies_df where director = Ridley Scott\n",
    "\n",
    "As condições também podem ser aplicadas sobre atributos numéricos:"
   ]
  },
  {
   "cell_type": "code",
   "execution_count": null,
   "metadata": {
    "id": "N4b_aFh_FydG"
   },
   "outputs": [],
   "source": [
    "movies_df[movies_df['rating'] >= 8.6].head()"
   ]
  },
  {
   "cell_type": "markdown",
   "metadata": {
    "id": "h_5Eb5XZFydG"
   },
   "source": [
    "É possível fazer seleções mais complexas recorrendo aos operadores lógicos `|` (ou) e `&` (e).\n",
    "\n",
    "Por exemplo, podemos selecionar filmes realizados pelo Ridley Scott OU pelo Christopher Nolan:\n"
   ]
  },
  {
   "cell_type": "code",
   "execution_count": null,
   "metadata": {
    "id": "rr8w8eFvFydG"
   },
   "outputs": [],
   "source": [
    "movies_df[(movies_df['director'] == 'Ridley Scott') | (movies_df['director'] == 'Christopher Nolan')].head()"
   ]
  },
  {
   "cell_type": "markdown",
   "metadata": {
    "id": "rQw6jkq9FydG"
   },
   "source": [
    "**Nota**: A utilização de parênteses à volta de cada condição é necessária para o interpretador de Python saber avaliar corretamente."
   ]
  },
  {
   "cell_type": "markdown",
   "metadata": {
    "id": "u-pntw20FydG"
   },
   "source": [
    "A mesma seleção pode ser feita de forma mais simples usando o método `isin`:"
   ]
  },
  {
   "cell_type": "code",
   "execution_count": null,
   "metadata": {
    "id": "6wkqyH8uFydH"
   },
   "outputs": [],
   "source": [
    "movies_df[movies_df['director'].isin(['Christopher Nolan', 'Ridley Scott'])].head()"
   ]
  },
  {
   "cell_type": "markdown",
   "metadata": {
    "id": "TIA7THUtFydH"
   },
   "source": [
    "As seleções condicionais podem envolver condições sobre várias colunas e usar estatísticas dos dados, o que as torna muito poderosas. Por exemplo, é possível selecionar filmes que estrearam entre 2005 e 2010 e com uma classificação acima de 8.0, mas que tiveram uma receita abaixo da média:"
   ]
  },
  {
   "cell_type": "code",
   "execution_count": null,
   "metadata": {
    "id": "xs7q83LaFydH"
   },
   "outputs": [],
   "source": [
    "movies_df[\n",
    "    ((movies_df['year'] >= 2005) & (movies_df['year'] <= 2010))\n",
    "    & (movies_df['rating'] > 8.0)\n",
    "    & (movies_df['revenue_millions'] < movies_df['revenue_millions'].mean())\n",
    "]"
   ]
  },
  {
   "cell_type": "markdown",
   "metadata": {
    "id": "00btyRI4FydH"
   },
   "source": [
    "## Transformação de atributos\n",
    "\n",
    "Existem múltiplas razões que levam à necessidade de transformar os atributos de conjunto de dados de alguma forma. Por exemplo:\n",
    "\n",
    "- A representação de um determinado atributo não é a mais adequada no contexto do problema que queremos abordar\n",
    "- As abordagens de extração de conhecimento que queremos aplicar não são compatíveis com um determinado tipo de atributo\n",
    "- Queremos agrupar atributos ou gerar novos atributos com base nos existentes\n",
    "\n",
    "Como exemplo, vamos transformar o atributo `rating` num atributo categórico que tem o valor `'good'` se a classificação for igual ou superior a 8.0 e o valor `'bad'` caso contrário. Para isso, vamos começar por criar a função que faz essa transformação:"
   ]
  },
  {
   "cell_type": "code",
   "execution_count": null,
   "metadata": {
    "id": "MXg8qCVVFydH"
   },
   "outputs": [],
   "source": [
    "def rating_function(x):\n",
    "    if x >= 8.0:\n",
    "        return 'good'\n",
    "    else:\n",
    "        return 'bad'"
   ]
  },
  {
   "cell_type": "markdown",
   "metadata": {
    "id": "1EGsyVZ5FydH"
   },
   "source": [
    "É possível iterar sobre uma série ou tabela de dados da mesma forma que sobre uma lista e usar essa abordagem para aplicar a função a todas as entradas:"
   ]
  },
  {
   "cell_type": "code",
   "execution_count": null,
   "metadata": {
    "id": "oOVhKz_0FydH"
   },
   "outputs": [],
   "source": [
    "pd.Series([rating_function(r) for r in movies_df['rating']], index=movies_df.index)"
   ]
  },
  {
   "cell_type": "markdown",
   "metadata": {
    "id": "gL7NDCXgFydH"
   },
   "source": [
    "No entanto, essa é uma operação que se torna lenta em conjuntos de dados de grande dimensão. Uma alternativa mais eficiente é usar o método `apply`:"
   ]
  },
  {
   "cell_type": "code",
   "execution_count": null,
   "metadata": {
    "id": "tXoOvUzrFydH"
   },
   "outputs": [],
   "source": [
    "movies_df['rating'].apply(rating_function)"
   ]
  },
  {
   "cell_type": "markdown",
   "metadata": {
    "id": "oxBMM5zAFydH"
   },
   "source": [
    "**Nota**: O método `apply` é mais eficiente pois usa vetorização, isto é, a função é aplicada a todas as entradas de uma só vez."
   ]
  },
  {
   "cell_type": "markdown",
   "metadata": {
    "id": "0e5dc_vdFydH"
   },
   "source": [
    "Para adicionar o novo atributo ou substituir o existente, podemos usar a analogia da tabela de dados como um dicionário:"
   ]
  },
  {
   "cell_type": "code",
   "execution_count": null,
   "metadata": {
    "id": "LBv2ncKUFydH"
   },
   "outputs": [],
   "source": [
    "movies_df['rating_category'] = movies_df['rating'].apply(rating_function)\n",
    "movies_df.head(2)"
   ]
  },
  {
   "cell_type": "markdown",
   "metadata": {
    "id": "luBgRPEjFydH"
   },
   "source": [
    "**Nota**: Muitas vezes é útil usar uma função anónima como argumento do método `apply`. Estas têm a sintaxe `lambda <argumentos>: <expressão>`. Por exemplo, a transformação anterior também poderia ser feita da seguinte forma:"
   ]
  },
  {
   "cell_type": "code",
   "execution_count": null,
   "metadata": {
    "id": "q3oYqzl0FydH"
   },
   "outputs": [],
   "source": [
    "movies_df['rating'].apply(lambda x: 'good' if x >= 8.0 else 'bad')"
   ]
  },
  {
   "cell_type": "markdown",
   "metadata": {
    "id": "6unKzxiWFydH"
   },
   "source": [
    "Se olharmos para a informação dada pelo método `info` podemos ver que atributo que criámos tem o tipo `object`, tal como os outros atributos que são cadeias de caracteres:"
   ]
  },
  {
   "cell_type": "code",
   "execution_count": null,
   "metadata": {
    "id": "z_XEavmbFydH"
   },
   "outputs": [],
   "source": [
    "movies_df.info()"
   ]
  },
  {
   "cell_type": "markdown",
   "metadata": {
    "id": "phz4Cq6sFydH"
   },
   "source": [
    "Podemos explicitar que se trata de um atributo categórico usando o método `astype`:"
   ]
  },
  {
   "cell_type": "code",
   "execution_count": null,
   "metadata": {
    "id": "imuYZAwsFydH"
   },
   "outputs": [],
   "source": [
    "movies_df['rating_category'] = movies_df['rating_category'].astype('category')\n",
    "movies_df.info()"
   ]
  },
  {
   "cell_type": "markdown",
   "metadata": {
    "id": "qoutJ3goFydH"
   },
   "source": [
    "A função `factorize` pode ser usada para transformar os valores dum atributo categórico em valores inteiros:"
   ]
  },
  {
   "cell_type": "code",
   "execution_count": null,
   "metadata": {
    "id": "HKJBPRCYFydH"
   },
   "outputs": [],
   "source": [
    "pd.factorize(movies_df['rating_category'])"
   ]
  },
  {
   "cell_type": "markdown",
   "metadata": {
    "id": "1N-Xz_h5FydH"
   },
   "source": [
    "Para exemplificar a criação de um novo atributo a partir de uma combinação dos existentes, vamos gerar um novo atributo que diz a variação entre as duas classificações de um filme (`rating` e `metascore`):"
   ]
  },
  {
   "cell_type": "code",
   "execution_count": null,
   "metadata": {
    "id": "HoPT_eLsFydH"
   },
   "outputs": [],
   "source": [
    "# We divide the metascore by 10 so that both ratings are in the same scale\n",
    "movies_df['rating_difference'] = movies_df.apply(lambda x: x['rating'] - x['metascore'] / 10, axis='columns')\n",
    "movies_df.head()"
   ]
  },
  {
   "cell_type": "markdown",
   "metadata": {
    "id": "Q4KOZs0tFydI"
   },
   "source": [
    "Neste caso, estamos a aplicar o método `apply` sobre a tabela de dados e a explicitar o argumento `axis='columns'` de forma a ter acesso a todos os atributos e podermos usá-los na geração do novo atributo."
   ]
  },
  {
   "cell_type": "markdown",
   "metadata": {
    "id": "e_QFslusFydI"
   },
   "source": [
    "**Nota**: Como as séries são construídas em cima de arrays *NumPy*, este atributo também pode ser obtido fazendo as operações diretamente sobre os dois atributos:"
   ]
  },
  {
   "cell_type": "code",
   "execution_count": null,
   "metadata": {
    "id": "eCYSqyJDFydI"
   },
   "outputs": [],
   "source": [
    "movies_df['rating'] - movies_df['metascore'] / 10"
   ]
  },
  {
   "cell_type": "markdown",
   "metadata": {
    "id": "vJnmHcPUFydI"
   },
   "source": [
    "**Nota**: Uma área em que o método `apply` é usado exaustivamente é o processamento de língua natural. Nesse contexto é necessário aplicar uma panóplia de funções de limpeza e manipulação de texto para preparar os dados para aplicação de abordagens de aprendizagem automática."
   ]
  },
  {
   "cell_type": "markdown",
   "metadata": {
    "id": "i60EA9SoFydI"
   },
   "source": [
    "## Considerações finais\n",
    "\n",
    "A capacidade de analisar, explorar, transformar e visualizar dados é essencial na ciência de dados. Os vários passos deste processo ocupam uma grande parte do tempo de quem trabalha nesta área. Como tal, é importante que seja possível reproduzir de forma fácil o processo de análise e manipulação feito sobre um determinado conjunto de dados e/ou que, pelo menos, o seu resultado seja guardado.\n",
    "\n",
    "Tal como para a leitura de conjuntos de dados em vários formatos, a biblioteca *pandas* fornece um conjunto de métodos para guardar conjuntos de dados nesses mesmos formatos. Por exemplo, podemos usar o método `to_csv` para guardar o nosso conjunto de dados processado num ficheiro CSV:"
   ]
  },
  {
   "cell_type": "code",
   "execution_count": null,
   "metadata": {
    "id": "-ExyJjuCFydI"
   },
   "outputs": [],
   "source": [
    "movies_df.to_csv('IMDB-Movie-Data-Processed.csv')"
   ]
  },
  {
   "cell_type": "markdown",
   "metadata": {
    "id": "jFytDlC9FydI"
   },
   "source": [
    "Tal como referido anteriormente, a biblioteca *pandas* oferece uma vasta gama de métodos e operações para análise e manipulação de dados a vários níveis. Neste tutorial cobrimos apenas uma pequena parte da funcionalidade disponibilizada pela biblioteca: a funcionalidade básica que é usada em quase todas as tarefas de análise e manipulação de dados. Para explorar alguns temas mais a fundo, recomendamos os [tutoriais da biblioteca pandas](https://pandas.pydata.org/pandas-docs/stable/tutorials.html) e o [Python Data Science Handbook](https://jakevdp.github.io/PythonDataScienceHandbook/).  "
   ]
  }
 ],
 "metadata": {
  "kernelspec": {
   "display_name": "Python 3 (ipykernel)",
   "language": "python",
   "name": "python3"
  },
  "language_info": {
   "codemirror_mode": {
    "name": "ipython",
    "version": 3
   },
   "file_extension": ".py",
   "mimetype": "text/x-python",
   "name": "python",
   "nbconvert_exporter": "python",
   "pygments_lexer": "ipython3",
   "version": "3.10.10"
  },
  "colab": {
   "provenance": []
  }
 },
 "nbformat": 4,
 "nbformat_minor": 0
}
