{
  "cells": [
    {
      "cell_type": "markdown",
      "metadata": {
        "id": "hHX5ai_0Fmng"
      },
      "source": [
        "# Processamento numérico\n",
        "\n",
        "Ao contrário de outras linguagens, como R ou MATLAB, Python não tem, nativamente, tipos e métodos para processamento numérico. Como tal, esse tipo de processamento costuma ser realizado usando bibliotecas adicionais. Neste contexto, a biblioteca [NumPy](https://numpy.org/) é a mais usada para processamento numérico em Python, sendo quase considerada um standard."
      ]
    },
    {
      "cell_type": "markdown",
      "metadata": {
        "id": "H--fHfPeFmnh"
      },
      "source": [
        "Em Python, para usar a funcionalidade de uma biblioteca é necessário importá-la usando a *keyword* `import`."
      ]
    },
    {
      "cell_type": "code",
      "execution_count": null,
      "metadata": {
        "id": "VaH8c3dYFmni"
      },
      "outputs": [],
      "source": [
        "import numpy as np"
      ]
    },
    {
      "cell_type": "markdown",
      "metadata": {
        "id": "lMBQ0ItcFmni"
      },
      "source": [
        "**Nota**: Utilizar `import <biblioteca>` é suficiente para importar a biblioteca. A utilização de `as <nome>` permite definir um nome alternativo para aceder aos conteúdos da biblioteca. Neste caso, `np` é apenas uma abreviatura para evitar escrever o nome completo."
      ]
    },
    {
      "cell_type": "markdown",
      "metadata": {
        "id": "mwEcSC9JFmni"
      },
      "source": [
        "## Array\n",
        "\n",
        "O tipo array (`numpy.ndarray`) é o tipo básico definido pela biblioteca *NumPy*. Um array multidimensional pode ser criado a partir de uma sequência (ex: lista ou tuplo)."
      ]
    },
    {
      "cell_type": "code",
      "execution_count": null,
      "metadata": {
        "id": "YTOUxLX2Fmnj"
      },
      "outputs": [],
      "source": [
        "v = np.array([1, 2, 3, 4])\n",
        "v"
      ]
    },
    {
      "cell_type": "code",
      "execution_count": null,
      "metadata": {
        "id": "-Z_qVAhJFmnj"
      },
      "outputs": [],
      "source": [
        "type(v)"
      ]
    },
    {
      "cell_type": "code",
      "execution_count": null,
      "metadata": {
        "id": "FWHq0F8qFmnj"
      },
      "outputs": [],
      "source": [
        "v.shape"
      ]
    },
    {
      "cell_type": "code",
      "execution_count": null,
      "metadata": {
        "id": "5x6apGxjFmnj"
      },
      "outputs": [],
      "source": [
        "m = np.array([[1, 2, 3], [4, 5, 6], [7, 8, 9]])\n",
        "m"
      ]
    },
    {
      "cell_type": "code",
      "execution_count": null,
      "metadata": {
        "id": "n1txDKHFFmnk"
      },
      "outputs": [],
      "source": [
        "m.shape"
      ]
    },
    {
      "cell_type": "markdown",
      "metadata": {
        "id": "8UatZzCcFmnk"
      },
      "source": [
        "A biblioteca define também um conjunto de métodos para criar arrays com características específicas. Por exemplo:\n",
        "\n",
        "- `zeros`\n",
        "- `ones`\n",
        "- `full`\n",
        "- `random.rand`"
      ]
    },
    {
      "cell_type": "code",
      "execution_count": null,
      "metadata": {
        "id": "6HCRP1iIFmnk"
      },
      "outputs": [],
      "source": [
        "np.zeros(10)"
      ]
    },
    {
      "cell_type": "code",
      "execution_count": null,
      "metadata": {
        "id": "tzHvNKciFmnk"
      },
      "outputs": [],
      "source": [
        "np.ones((3,2))"
      ]
    },
    {
      "cell_type": "code",
      "execution_count": null,
      "metadata": {
        "id": "NKFGK-_hFmnk"
      },
      "outputs": [],
      "source": [
        "np.full(4, 3)"
      ]
    },
    {
      "cell_type": "code",
      "execution_count": null,
      "metadata": {
        "id": "Jt0IlKtHFmnk"
      },
      "outputs": [],
      "source": [
        "np.random.rand(2, 3)"
      ]
    },
    {
      "cell_type": "markdown",
      "metadata": {
        "id": "0kaKeG34Fmnk"
      },
      "source": [
        "O operador de indexação `[]` pode ser usado para aceder aos elementos de um array."
      ]
    },
    {
      "cell_type": "code",
      "execution_count": null,
      "metadata": {
        "id": "uizkr42aFmnk"
      },
      "outputs": [],
      "source": [
        "print(v[0])\n",
        "print(v[-1])\n",
        "print(v[1:3])\n",
        "\n",
        "print(m[0])\n",
        "print(m[1,2])\n",
        "print(m[:,1])\n",
        "print(m[:2,1:])"
      ]
    },
    {
      "cell_type": "markdown",
      "metadata": {
        "id": "7casVArQFmnk"
      },
      "source": [
        "Os arrays são mutáveis, por isso é possível alterar o valor dos seus elementos diretamente."
      ]
    },
    {
      "cell_type": "code",
      "execution_count": null,
      "metadata": {
        "id": "euD_cMGoFmnk"
      },
      "outputs": [],
      "source": [
        "v[0] = 10\n",
        "v"
      ]
    },
    {
      "cell_type": "markdown",
      "metadata": {
        "id": "-61MOj25Fmnk"
      },
      "source": [
        "**Nota**: Quando o operador de indexação é usado para obter uma parte do array original, é obtida uma referência para essa parte do array. Logo, quaisquer alterações são refletidas no array original. Caso não seja esse o comportamento pretendido, deve ser usado o método `copy`."
      ]
    },
    {
      "cell_type": "code",
      "execution_count": null,
      "metadata": {
        "id": "KHm5dX_nFmnk"
      },
      "outputs": [],
      "source": [
        "s = m[:2,1:]\n",
        "c = s.copy()\n",
        "\n",
        "s[0, 0] = -1\n",
        "c[1, 1] = 50\n",
        "\n",
        "print(s)\n",
        "print(c)\n",
        "print(m)"
      ]
    },
    {
      "cell_type": "markdown",
      "metadata": {
        "id": "NbkemFFrFmnk"
      },
      "source": [
        "## Porque é precisa a biblioteca NumPy?\n",
        "\n",
        "Porque não usar listas?"
      ]
    },
    {
      "cell_type": "code",
      "execution_count": null,
      "metadata": {
        "id": "9R2AdktmFmnk"
      },
      "outputs": [],
      "source": [
        "a = np.array([1,2,3])\n",
        "b = [1, 2, 3]"
      ]
    },
    {
      "cell_type": "markdown",
      "metadata": {
        "id": "WY8S-IBzFmnk"
      },
      "source": [
        "1. Métodos para processamento numérico\n",
        "2. Eficiência\n",
        "3. Expressividade"
      ]
    },
    {
      "cell_type": "markdown",
      "metadata": {
        "id": "teGQL5TsFmnk"
      },
      "source": [
        "## Métodos para processamento numérico\n",
        "\n",
        "Os tipo array define um grande conjunto de métodos para processamento numérico. Por exemplo:\n",
        "\n",
        "- `mean`\n",
        "- `std`\n",
        "- `max`\n",
        "- `min`\n",
        "- `sum`\n",
        "- `dot`"
      ]
    },
    {
      "cell_type": "code",
      "execution_count": null,
      "metadata": {
        "id": "y4DgZfStFmnl"
      },
      "outputs": [],
      "source": [
        "v = np.array([1, 2, 3,])\n",
        "m = np.array([[1, 2, 3], [4, 5, 6], [7, 8, 9]])"
      ]
    },
    {
      "cell_type": "code",
      "execution_count": null,
      "metadata": {
        "id": "E0pFt1HiFmnl"
      },
      "outputs": [],
      "source": [
        "print(f'{v.mean():.2f}±{v.std():.2f}')\n",
        "print(f'{m.min()}-{m.max()}')\n",
        "print(v.sum())\n",
        "\n",
        "m.dot(v)"
      ]
    },
    {
      "cell_type": "markdown",
      "metadata": {
        "id": "pQ1gdgUBFmnl"
      },
      "source": [
        "**Nota**: Muitos dos métodos podem ser aplicados ao longo de um eixo específico."
      ]
    },
    {
      "cell_type": "code",
      "execution_count": null,
      "metadata": {
        "id": "T_Z78mR7Fmnl"
      },
      "outputs": [],
      "source": [
        "m.mean(axis=0)"
      ]
    },
    {
      "cell_type": "code",
      "execution_count": null,
      "metadata": {
        "id": "5RsStYBqFmnl"
      },
      "outputs": [],
      "source": [
        "m.max(axis=1)"
      ]
    },
    {
      "cell_type": "markdown",
      "metadata": {
        "id": "ZFxfM9enFmnl"
      },
      "source": [
        "## Operações sobre arrays"
      ]
    },
    {
      "cell_type": "markdown",
      "metadata": {
        "id": "UfuW3r69Fmnl"
      },
      "source": [
        "Para além dos métodos referidos anteriormente, também é possível fazer operações numéricas sobre arrays. Estas são aplicadas a todos os elementos do array."
      ]
    },
    {
      "cell_type": "code",
      "execution_count": null,
      "metadata": {
        "id": "AjDq7ffHFmnl"
      },
      "outputs": [],
      "source": [
        "v = np.array([1, 2, 3,])\n",
        "m = np.array([[1, 2, 3], [4, 5, 6], [7, 8, 9]])"
      ]
    },
    {
      "cell_type": "code",
      "execution_count": null,
      "metadata": {
        "id": "KB8SYUzZFmnl"
      },
      "outputs": [],
      "source": [
        "m + 1"
      ]
    },
    {
      "cell_type": "code",
      "execution_count": null,
      "metadata": {
        "id": "uOufaqdJFmnl"
      },
      "outputs": [],
      "source": [
        "m ** 2"
      ]
    },
    {
      "cell_type": "markdown",
      "metadata": {
        "id": "WQEBUT6fFmnl"
      },
      "source": [
        "As operações também podem ser entre dois arrays."
      ]
    },
    {
      "cell_type": "code",
      "execution_count": null,
      "metadata": {
        "id": "vNLikqKeFmnl"
      },
      "outputs": [],
      "source": [
        "v * v"
      ]
    },
    {
      "cell_type": "code",
      "execution_count": null,
      "metadata": {
        "id": "t6D8j2i6Fmnl"
      },
      "outputs": [],
      "source": [
        "m + m"
      ]
    },
    {
      "cell_type": "code",
      "execution_count": null,
      "metadata": {
        "id": "jh766nAWFmnm"
      },
      "outputs": [],
      "source": [
        "m - v"
      ]
    },
    {
      "cell_type": "markdown",
      "metadata": {
        "id": "pkodpmjgFmnm"
      },
      "source": [
        "**Nota**: Quando as operações são entre dois arrays, é necessário que as dimensões sejam compatíveis"
      ]
    },
    {
      "cell_type": "code",
      "execution_count": null,
      "metadata": {
        "id": "JKVLVqd3Fmnm"
      },
      "outputs": [],
      "source": [
        "m - np.array([1,2])"
      ]
    },
    {
      "cell_type": "markdown",
      "metadata": {
        "id": "920LZuqbFmnm"
      },
      "source": [
        "Para além das operações numéricas, também é possível aplicar operações lógicas sobre arrays. Neste caso, o resultado é um array de booleanos."
      ]
    },
    {
      "cell_type": "code",
      "execution_count": null,
      "metadata": {
        "id": "Sb9nIaZCFmnm"
      },
      "outputs": [],
      "source": [
        "v > 2"
      ]
    },
    {
      "cell_type": "code",
      "execution_count": null,
      "metadata": {
        "id": "R0M-TNWhFmnm"
      },
      "outputs": [],
      "source": [
        "(v > 1) & (v < 3)"
      ]
    },
    {
      "cell_type": "markdown",
      "metadata": {
        "id": "xJoZ4tZnFmnm"
      },
      "source": [
        "Estas operações também podem ser usadas para selecionar os elementos de um array que satisfazem uma determinada condição."
      ]
    },
    {
      "cell_type": "code",
      "execution_count": null,
      "metadata": {
        "id": "EkhcV9gtFmnm"
      },
      "outputs": [],
      "source": [
        "n = np.array([-1, -2, 4, 3, 5, -1])\n",
        "n[n < 0] = 0\n",
        "n"
      ]
    },
    {
      "cell_type": "markdown",
      "metadata": {
        "id": "5xHv2yUtFmnm"
      },
      "source": [
        "## Eficiência\n",
        "\n",
        "Uma lista em Python é uma sequência de ponteiros para objetos:\n",
        "\n",
        "![lista](https://github.com/TheAwesomeGe/DECD/blob/main/images/python-list.svg?raw=1)\n",
        "\n",
        "Por outro lado, um array da biblioteca *NumPy* guarda os seus dados em memória de forma contígua:\n",
        "\n",
        "![array](https://github.com/TheAwesomeGe/DECD/blob/main/images/numpy-array.svg?raw=1)\n",
        "\n",
        "Os computadores são **muito bons** a processar blocos de memória contíguos."
      ]
    },
    {
      "cell_type": "code",
      "execution_count": null,
      "metadata": {
        "id": "qVYAOfahFmnm"
      },
      "outputs": [],
      "source": [
        "a = list(range(1024))\n",
        "%timeit sum(a)"
      ]
    },
    {
      "cell_type": "code",
      "execution_count": null,
      "metadata": {
        "id": "nfGChjCYFmnm"
      },
      "outputs": [],
      "source": [
        "b = np.arange(1024)\n",
        "%timeit b.sum()"
      ]
    },
    {
      "cell_type": "markdown",
      "metadata": {
        "id": "G_XgrUknFmnm"
      },
      "source": [
        "Uma diferença na ordem dos microsegundos pode não parecer muito relevante, mas a diferença torna-se cada vez maior à medida que o tamanho dos arrays aumenta ou quando são usadas operações mais complexas."
      ]
    },
    {
      "cell_type": "code",
      "execution_count": null,
      "metadata": {
        "id": "XX7EHfQUFmnm"
      },
      "outputs": [],
      "source": [
        "a = list(range(1024*1024))\n",
        "%timeit sum(v*v for v in a)"
      ]
    },
    {
      "cell_type": "code",
      "execution_count": null,
      "metadata": {
        "id": "b-d1EhU3Fmnn"
      },
      "outputs": [],
      "source": [
        "b = np.arange(1024*1024)\n",
        "%timeit (b**2).sum()"
      ]
    },
    {
      "cell_type": "markdown",
      "metadata": {
        "id": "rA_QfbmXFmnn"
      },
      "source": [
        "**Nota**: Os comandos que começam por `%` são chamados comandos mágicos e só podem ser usados em ambientes interativos, como por exemplo este notebook."
      ]
    },
    {
      "cell_type": "markdown",
      "metadata": {
        "id": "W-gNO7WDFmnn"
      },
      "source": [
        "## Desvantagens\n",
        "\n",
        "As vantagens dos arrays têm um preço. Por exemplo, ao contrário das listas, não é possível adicionar ou remover elementos de um array. Isto acontece porque o seu espaço em memória é alocado no momento da criação. Para além disso, também contrariamente às listas, os arrays são homogéneos, isto é, todos os seus elementos têm de ser do mesmo tipo, sendo este definido no momento da criação."
      ]
    },
    {
      "cell_type": "code",
      "execution_count": null,
      "metadata": {
        "id": "3r1DOCndFmnn"
      },
      "outputs": [],
      "source": [
        "i = np.array([0, 1, 2]) # implicit type\n",
        "i.dtype"
      ]
    },
    {
      "cell_type": "code",
      "execution_count": null,
      "metadata": {
        "id": "zGJly8CgFmnn"
      },
      "outputs": [],
      "source": [
        "i[0] = 2.7\n",
        "i"
      ]
    },
    {
      "cell_type": "code",
      "execution_count": null,
      "metadata": {
        "id": "Wc9Ar_X9Fmnn"
      },
      "outputs": [],
      "source": [
        "f = np.array([0.5, 1.1, 2.1])\n",
        "f.dtype"
      ]
    },
    {
      "cell_type": "code",
      "execution_count": null,
      "metadata": {
        "id": "rHcT1sa8Fmnn"
      },
      "outputs": [],
      "source": [
        "e = np.array([0, 1, 2], dtype=np.float64) # explicit type\n",
        "e"
      ]
    },
    {
      "cell_type": "markdown",
      "metadata": {
        "id": "vp56LQgyFmnn"
      },
      "source": [
        "A biblioteca *NumPy* define um conjunto de tipos que podem ser usados nos arrays. Por exemplo:\n",
        "\n",
        "- `int8`, `int16`, `int32`, `int64`\n",
        "- `uint8`, `uint16`, `uint32`, `uint64`\n",
        "- `float32`, `float64`, `float16`\n",
        "- `bool`\n",
        "\n",
        "Também podem ser usados outros tipos, por exemplo para criar arrays de cadeias de caracteres ou objetos genéricos, mas a funcionalidade de arrays desses tipos é limitada."
      ]
    },
    {
      "cell_type": "markdown",
      "metadata": {
        "id": "OE1vK7xkFmnn"
      },
      "source": [
        "**Nota**: Tendo em conta a natureza de alguns destes tipos, é preciso ter cuidado pois podem transbordar."
      ]
    },
    {
      "cell_type": "code",
      "execution_count": null,
      "metadata": {
        "id": "7cElP-ubFmnn"
      },
      "outputs": [],
      "source": [
        "v = np.array([1,2,3], np.uint8)\n",
        "v - 10"
      ]
    }
  ],
  "metadata": {
    "celltoolbar": "Slideshow",
    "kernelspec": {
      "display_name": "Python 3 (ipykernel)",
      "language": "python",
      "name": "python3"
    },
    "language_info": {
      "codemirror_mode": {
        "name": "ipython",
        "version": 3
      },
      "file_extension": ".py",
      "mimetype": "text/x-python",
      "name": "python",
      "nbconvert_exporter": "python",
      "pygments_lexer": "ipython3",
      "version": "3.10.10"
    },
    "rise": {
      "scroll": true
    },
    "toc-autonumbering": false,
    "toc-showtags": false,
    "colab": {
      "provenance": []
    }
  },
  "nbformat": 4,
  "nbformat_minor": 0
}