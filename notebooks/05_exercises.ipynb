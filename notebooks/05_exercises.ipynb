{
 "cells": [
  {
   "cell_type": "markdown",
   "id": "0c96a3fd-c032-4772-b355-4e60f4c46fa9",
   "metadata": {
    "tags": [],
    "id": "0c96a3fd-c032-4772-b355-4e60f4c46fa9"
   },
   "source": [
    "# Exercícios: Análise e manipulação de dados"
   ]
  },
  {
   "cell_type": "code",
   "execution_count": 1,
   "id": "f94b7e85-04f9-434e-9406-a60ad1a64480",
   "metadata": {
    "id": "f94b7e85-04f9-434e-9406-a60ad1a64480",
    "ExecuteTime": {
     "end_time": "2024-03-01T10:42:47.267628Z",
     "start_time": "2024-03-01T10:42:47.260022Z"
    }
   },
   "outputs": [],
   "source": [
    "import os\n",
    "\n",
    "import numpy as np\n",
    "import pandas as pd\n",
    "\n",
    "%matplotlib inline\n",
    "import matplotlib.pyplot as plt\n",
    "import seaborn as sns\n",
    "\n",
    "sns.set_theme()"
   ]
  },
  {
   "cell_type": "markdown",
   "id": "327c6efc-586b-4466-a419-c6d3b1bab79d",
   "metadata": {
    "tags": [],
    "id": "327c6efc-586b-4466-a419-c6d3b1bab79d"
   },
   "source": [
    "## Parte 1: Dados de utilizadores de cartões de crédito\n",
    "\n",
    "Carregue o conjunto de dados [Credit Card Customers](https://www.kaggle.com/sakshigoyal7/credit-card-customers), guardado no ficheiro Excel definido pela variável `xlxs_file_path`, para uma tabela de dados da biblioteca [Pandas](https://pandas.pydata.org/)."
   ]
  },
  {
   "cell_type": "code",
   "execution_count": 2,
   "id": "d13a366c-668c-4644-88aa-ceef7af526f1",
   "metadata": {
    "id": "d13a366c-668c-4644-88aa-ceef7af526f1",
    "ExecuteTime": {
     "end_time": "2024-03-01T10:42:47.272444Z",
     "start_time": "2024-03-01T10:42:47.267824Z"
    }
   },
   "outputs": [],
   "source": [
    "data_path = '../data/' if os.path.exists('../data/') else 'https://raw.githubusercontent.com/TheAwesomeGe/DECD/main/data/'\n",
    "xlsx_file_path = data_path + 'BankChurners.xlsx'"
   ]
  },
  {
   "cell_type": "code",
   "execution_count": 3,
   "id": "dab248fd-c2e7-4292-88bb-617a8469730d",
   "metadata": {
    "id": "dab248fd-c2e7-4292-88bb-617a8469730d",
    "ExecuteTime": {
     "end_time": "2024-03-01T10:42:47.272941Z",
     "start_time": "2024-03-01T10:42:47.270704Z"
    }
   },
   "outputs": [
    {
     "name": "stdout",
     "output_type": "stream",
     "text": [
      "../data/BankChurners.xlsx\n"
     ]
    }
   ],
   "source": [
    "print(xlsx_file_path)"
   ]
  },
  {
   "cell_type": "markdown",
   "id": "5f498ed7-1b9b-42d3-bef2-d6acc6f0afb0",
   "metadata": {
    "tags": [],
    "id": "5f498ed7-1b9b-42d3-bef2-d6acc6f0afb0"
   },
   "source": [
    "Realize as seguintes etapas de pré-processamento de dados:\n",
    "\n",
    "1. Verifique que a importação foi bem sucedida e analise as primeiras entradas do conjunto de dados."
   ]
  },
  {
   "cell_type": "code",
   "execution_count": 4,
   "id": "66a86a25-7e7f-4a9e-a7dd-303f8852c3b7",
   "metadata": {
    "id": "66a86a25-7e7f-4a9e-a7dd-303f8852c3b7",
    "ExecuteTime": {
     "end_time": "2024-03-01T10:42:48.335478Z",
     "start_time": "2024-03-01T10:42:47.273009Z"
    }
   },
   "outputs": [
    {
     "name": "stdout",
     "output_type": "stream",
     "text": [
      "   customer_age  dependent_count education_level marital_status  \\\n",
      "0            45                3     High School        Married   \n",
      "1            49                5        Graduate         Single   \n",
      "2            51                3        Graduate        Married   \n",
      "3            40                4     High School        Unknown   \n",
      "4            40                3      Uneducated        Married   \n",
      "\n",
      "  income_category card_category  months_on_book  total_relationship_count  \\\n",
      "0     $60K - $80K          Blue              39                         5   \n",
      "1  Less than $40K          Blue              44                         6   \n",
      "2    $80K - $120K          Blue              36                         4   \n",
      "3  Less than $40K          Blue              34                         3   \n",
      "4     $60K - $80K          Blue              21                         5   \n",
      "\n",
      "   months_inactive_12_mon  contacts_count_12_mon  ...  total_revolving_bal  \\\n",
      "0                       1                      3  ...                  777   \n",
      "1                       1                      2  ...                  864   \n",
      "2                       1                      0  ...                    0   \n",
      "3                       4                      1  ...                 2517   \n",
      "4                       1                      0  ...                    0   \n",
      "\n",
      "   avg_open_to_buy  total_amt_chng_q4_q1  total_trans_amt  total_trans_ct  \\\n",
      "0          11914.0                 1.335             1144              42   \n",
      "1           7392.0                 1.541             1291              33   \n",
      "2           3418.0                 2.594             1887              20   \n",
      "3            796.0                 1.405             1171              20   \n",
      "4           4716.0                 2.175              816              28   \n",
      "\n",
      "   total_ct_chng_q4_q1  avg_utilization_ratio     attrition_flag  clientnum  \\\n",
      "0                1.625                  0.061  Existing Customer  768805383   \n",
      "1                3.714                  0.105  Existing Customer  818770008   \n",
      "2                2.333                  0.000  Existing Customer  713982108   \n",
      "3                2.333                  0.760  Existing Customer  769911858   \n",
      "4                2.500                  0.000  Existing Customer  709106358   \n",
      "\n",
      "   gender  \n",
      "0       M  \n",
      "1       F  \n",
      "2       M  \n",
      "3       F  \n",
      "4       M  \n",
      "\n",
      "[5 rows x 21 columns]\n"
     ]
    }
   ],
   "source": [
    "bank_df = pd.read_excel(xlsx_file_path)\n",
    "\n",
    "bank_df.columns = [col.lower() for col in bank_df.columns]\n",
    "print(bank_df.head(5))"
   ]
  },
  {
   "cell_type": "markdown",
   "id": "32044f25-1867-46f1-8f6e-949b8d651968",
   "metadata": {
    "tags": [],
    "id": "32044f25-1867-46f1-8f6e-949b8d651968"
   },
   "source": [
    "2. Remova os seguintes atributos:\n",
    "    * o número de cliente (uma vez que os identificadores locais não são informação útil para tarefas de descoberta de padrões)\n",
    "    * as características discriminatórias de género, por forma a que os resultados não sejam enviesados por estes atributos (o que seria pouco ético e, de certa forma, ilegal segundo a lei portuguesa)"
   ]
  },
  {
   "cell_type": "code",
   "outputs": [],
   "source": [
    "bank_df.drop(columns=['clientnum', 'gender'], inplace=True)"
   ],
   "metadata": {
    "collapsed": false,
    "ExecuteTime": {
     "end_time": "2024-03-01T10:42:48.335967Z",
     "start_time": "2024-03-01T10:42:48.332498Z"
    }
   },
   "id": "878ef61b477f4153",
   "execution_count": 5
  },
  {
   "cell_type": "markdown",
   "id": "65980f72-906b-4cf1-94df-b65f956d4b26",
   "metadata": {
    "id": "65980f72-906b-4cf1-94df-b65f956d4b26"
   },
   "source": [
    "3. Defina como categóricos os seguintes atributos: `Education_Level`, `Marital_Status`, `Income_Category`, `Card_Category` e `Attrition_Flag`."
   ]
  },
  {
   "cell_type": "code",
   "outputs": [
    {
     "name": "stdout",
     "output_type": "stream",
     "text": [
      "<class 'pandas.core.frame.DataFrame'>\n",
      "RangeIndex: 10127 entries, 0 to 10126\n",
      "Data columns (total 19 columns):\n",
      " #   Column                    Non-Null Count  Dtype  \n",
      "---  ------                    --------------  -----  \n",
      " 0   customer_age              10127 non-null  int64  \n",
      " 1   dependent_count           10127 non-null  int64  \n",
      " 2   education_level           10127 non-null  object \n",
      " 3   marital_status            10127 non-null  object \n",
      " 4   income_category           10127 non-null  object \n",
      " 5   card_category             10127 non-null  object \n",
      " 6   months_on_book            10127 non-null  int64  \n",
      " 7   total_relationship_count  10127 non-null  int64  \n",
      " 8   months_inactive_12_mon    10127 non-null  int64  \n",
      " 9   contacts_count_12_mon     10127 non-null  int64  \n",
      " 10  credit_limit              10127 non-null  float64\n",
      " 11  total_revolving_bal       10127 non-null  int64  \n",
      " 12  avg_open_to_buy           10127 non-null  float64\n",
      " 13  total_amt_chng_q4_q1      10127 non-null  float64\n",
      " 14  total_trans_amt           10127 non-null  int64  \n",
      " 15  total_trans_ct            10127 non-null  int64  \n",
      " 16  total_ct_chng_q4_q1       10127 non-null  float64\n",
      " 17  avg_utilization_ratio     10127 non-null  float64\n",
      " 18  attrition_flag            10127 non-null  object \n",
      "dtypes: float64(5), int64(9), object(5)\n",
      "memory usage: 1.5+ MB\n",
      "None\n",
      "<class 'pandas.core.frame.DataFrame'>\n",
      "RangeIndex: 10127 entries, 0 to 10126\n",
      "Data columns (total 19 columns):\n",
      " #   Column                    Non-Null Count  Dtype   \n",
      "---  ------                    --------------  -----   \n",
      " 0   customer_age              10127 non-null  int64   \n",
      " 1   dependent_count           10127 non-null  int64   \n",
      " 2   education_level           10127 non-null  category\n",
      " 3   marital_status            10127 non-null  category\n",
      " 4   income_category           10127 non-null  category\n",
      " 5   card_category             10127 non-null  category\n",
      " 6   months_on_book            10127 non-null  int64   \n",
      " 7   total_relationship_count  10127 non-null  int64   \n",
      " 8   months_inactive_12_mon    10127 non-null  int64   \n",
      " 9   contacts_count_12_mon     10127 non-null  int64   \n",
      " 10  credit_limit              10127 non-null  float64 \n",
      " 11  total_revolving_bal       10127 non-null  int64   \n",
      " 12  avg_open_to_buy           10127 non-null  float64 \n",
      " 13  total_amt_chng_q4_q1      10127 non-null  float64 \n",
      " 14  total_trans_amt           10127 non-null  int64   \n",
      " 15  total_trans_ct            10127 non-null  int64   \n",
      " 16  total_ct_chng_q4_q1       10127 non-null  float64 \n",
      " 17  avg_utilization_ratio     10127 non-null  float64 \n",
      " 18  attrition_flag            10127 non-null  category\n",
      "dtypes: category(5), float64(5), int64(9)\n",
      "memory usage: 1.1 MB\n",
      "None\n"
     ]
    }
   ],
   "source": [
    "print(bank_df.info())\n",
    "\n",
    "bank_df['education_level'] = bank_df['education_level'].astype('category')\n",
    "bank_df['marital_status'] = bank_df['marital_status'].astype('category')\n",
    "bank_df['income_category'] = bank_df['income_category'].astype('category')\n",
    "bank_df['card_category'] = bank_df['card_category'].astype('category')\n",
    "bank_df['attrition_flag'] = bank_df['attrition_flag'].astype('category')\n",
    "\n",
    "print(bank_df.info())"
   ],
   "metadata": {
    "collapsed": false,
    "ExecuteTime": {
     "end_time": "2024-03-01T10:42:48.350850Z",
     "start_time": "2024-03-01T10:42:48.337287Z"
    }
   },
   "id": "30a4698f-7512-4e8e-ab44-105a29d76fae",
   "execution_count": 6
  },
  {
   "cell_type": "markdown",
   "id": "1b764dec-9139-4538-8cab-73a73b01fe75",
   "metadata": {
    "id": "1b764dec-9139-4538-8cab-73a73b01fe75"
   },
   "source": [
    "4. Defina o atributo `Attrition_Flag` como *target*, criando um dicionário que mapeia um inteiro diferente para cada um dos valores possíveis deste atributo."
   ]
  },
  {
   "cell_type": "code",
   "outputs": [
    {
     "name": "stdout",
     "output_type": "stream",
     "text": [
      "0\n"
     ]
    },
    {
     "data": {
      "text/plain": "   customer_age  dependent_count education_level marital_status  \\\n0            45                3     High School        Married   \n1            49                5        Graduate         Single   \n2            51                3        Graduate        Married   \n3            40                4     High School        Unknown   \n4            40                3      Uneducated        Married   \n\n  income_category card_category  months_on_book  total_relationship_count  \\\n0     $60K - $80K          Blue              39                         5   \n1  Less than $40K          Blue              44                         6   \n2    $80K - $120K          Blue              36                         4   \n3  Less than $40K          Blue              34                         3   \n4     $60K - $80K          Blue              21                         5   \n\n   months_inactive_12_mon  contacts_count_12_mon  credit_limit  \\\n0                       1                      3       12691.0   \n1                       1                      2        8256.0   \n2                       1                      0        3418.0   \n3                       4                      1        3313.0   \n4                       1                      0        4716.0   \n\n   total_revolving_bal  avg_open_to_buy  total_amt_chng_q4_q1  \\\n0                  777          11914.0                 1.335   \n1                  864           7392.0                 1.541   \n2                    0           3418.0                 2.594   \n3                 2517            796.0                 1.405   \n4                    0           4716.0                 2.175   \n\n   total_trans_amt  total_trans_ct  total_ct_chng_q4_q1  \\\n0             1144              42                1.625   \n1             1291              33                3.714   \n2             1887              20                2.333   \n3             1171              20                2.333   \n4              816              28                2.500   \n\n   avg_utilization_ratio attrition_flag  \n0                  0.061              1  \n1                  0.105              1  \n2                  0.000              1  \n3                  0.760              1  \n4                  0.000              1  ",
      "text/html": "<div>\n<style scoped>\n    .dataframe tbody tr th:only-of-type {\n        vertical-align: middle;\n    }\n\n    .dataframe tbody tr th {\n        vertical-align: top;\n    }\n\n    .dataframe thead th {\n        text-align: right;\n    }\n</style>\n<table border=\"1\" class=\"dataframe\">\n  <thead>\n    <tr style=\"text-align: right;\">\n      <th></th>\n      <th>customer_age</th>\n      <th>dependent_count</th>\n      <th>education_level</th>\n      <th>marital_status</th>\n      <th>income_category</th>\n      <th>card_category</th>\n      <th>months_on_book</th>\n      <th>total_relationship_count</th>\n      <th>months_inactive_12_mon</th>\n      <th>contacts_count_12_mon</th>\n      <th>credit_limit</th>\n      <th>total_revolving_bal</th>\n      <th>avg_open_to_buy</th>\n      <th>total_amt_chng_q4_q1</th>\n      <th>total_trans_amt</th>\n      <th>total_trans_ct</th>\n      <th>total_ct_chng_q4_q1</th>\n      <th>avg_utilization_ratio</th>\n      <th>attrition_flag</th>\n    </tr>\n  </thead>\n  <tbody>\n    <tr>\n      <th>0</th>\n      <td>45</td>\n      <td>3</td>\n      <td>High School</td>\n      <td>Married</td>\n      <td>$60K - $80K</td>\n      <td>Blue</td>\n      <td>39</td>\n      <td>5</td>\n      <td>1</td>\n      <td>3</td>\n      <td>12691.0</td>\n      <td>777</td>\n      <td>11914.0</td>\n      <td>1.335</td>\n      <td>1144</td>\n      <td>42</td>\n      <td>1.625</td>\n      <td>0.061</td>\n      <td>1</td>\n    </tr>\n    <tr>\n      <th>1</th>\n      <td>49</td>\n      <td>5</td>\n      <td>Graduate</td>\n      <td>Single</td>\n      <td>Less than $40K</td>\n      <td>Blue</td>\n      <td>44</td>\n      <td>6</td>\n      <td>1</td>\n      <td>2</td>\n      <td>8256.0</td>\n      <td>864</td>\n      <td>7392.0</td>\n      <td>1.541</td>\n      <td>1291</td>\n      <td>33</td>\n      <td>3.714</td>\n      <td>0.105</td>\n      <td>1</td>\n    </tr>\n    <tr>\n      <th>2</th>\n      <td>51</td>\n      <td>3</td>\n      <td>Graduate</td>\n      <td>Married</td>\n      <td>$80K - $120K</td>\n      <td>Blue</td>\n      <td>36</td>\n      <td>4</td>\n      <td>1</td>\n      <td>0</td>\n      <td>3418.0</td>\n      <td>0</td>\n      <td>3418.0</td>\n      <td>2.594</td>\n      <td>1887</td>\n      <td>20</td>\n      <td>2.333</td>\n      <td>0.000</td>\n      <td>1</td>\n    </tr>\n    <tr>\n      <th>3</th>\n      <td>40</td>\n      <td>4</td>\n      <td>High School</td>\n      <td>Unknown</td>\n      <td>Less than $40K</td>\n      <td>Blue</td>\n      <td>34</td>\n      <td>3</td>\n      <td>4</td>\n      <td>1</td>\n      <td>3313.0</td>\n      <td>2517</td>\n      <td>796.0</td>\n      <td>1.405</td>\n      <td>1171</td>\n      <td>20</td>\n      <td>2.333</td>\n      <td>0.760</td>\n      <td>1</td>\n    </tr>\n    <tr>\n      <th>4</th>\n      <td>40</td>\n      <td>3</td>\n      <td>Uneducated</td>\n      <td>Married</td>\n      <td>$60K - $80K</td>\n      <td>Blue</td>\n      <td>21</td>\n      <td>5</td>\n      <td>1</td>\n      <td>0</td>\n      <td>4716.0</td>\n      <td>0</td>\n      <td>4716.0</td>\n      <td>2.175</td>\n      <td>816</td>\n      <td>28</td>\n      <td>2.500</td>\n      <td>0.000</td>\n      <td>1</td>\n    </tr>\n  </tbody>\n</table>\n</div>"
     },
     "execution_count": 7,
     "metadata": {},
     "output_type": "execute_result"
    }
   ],
   "source": [
    "def flag_function(x):\n",
    "    if x.lower() == 'existing customer':\n",
    "        return 1\n",
    "    elif x.lower() == 'attrited customer':\n",
    "        return 0\n",
    "    else:\n",
    "        return 'Unknown'\n",
    "\n",
    "# Opção lenta\n",
    "#bank_df['attrition_flag'] = [flag_function(x) for x in bank_df['attrition_flag']]\n",
    "\n",
    "print(bank_df['attrition_flag'].isnull().sum())\n",
    "# Opção mais rápida\n",
    "bank_df['attrition_flag'] = bank_df['attrition_flag'].apply(flag_function)\n",
    "bank_df.head(5)\n"
   ],
   "metadata": {
    "collapsed": false,
    "ExecuteTime": {
     "end_time": "2024-03-01T10:42:48.374296Z",
     "start_time": "2024-03-01T10:42:48.349061Z"
    }
   },
   "id": "246d4185-47e4-4bf1-a2a5-ffb3fe169964",
   "execution_count": 7
  },
  {
   "cell_type": "markdown",
   "id": "f9c4452a-6ab4-4720-bbbb-3d86c624f3a7",
   "metadata": {
    "tags": [],
    "id": "f9c4452a-6ab4-4720-bbbb-3d86c624f3a7"
   },
   "source": [
    "5. Guarde uma cópia dos dados num ficheiro Excel com o nome *credito.xlsx*."
   ]
  },
  {
   "cell_type": "code",
   "execution_count": 8,
   "id": "3657111d-43c7-4ffe-9dc1-88172b0a2abd",
   "metadata": {
    "id": "3657111d-43c7-4ffe-9dc1-88172b0a2abd",
    "ExecuteTime": {
     "end_time": "2024-03-01T10:42:50.362473Z",
     "start_time": "2024-03-01T10:42:48.359360Z"
    }
   },
   "outputs": [],
   "source": [
    "bank_df.to_excel('../data/credito.xlsx')"
   ]
  },
  {
   "cell_type": "markdown",
   "id": "861df05d-499f-4141-88aa-0a7cc413ed59",
   "metadata": {
    "id": "861df05d-499f-4141-88aa-0a7cc413ed59"
   },
   "source": [
    "6. Identifique os atributos que têm valores em falta. (**Nota**: Neste conjunto de dados, os valores em falta são representados pelo valor `'Unknown'`. Comece por aplicar o método `replace('Unknown', np.nan)` sobre a tabela de dados.)"
   ]
  },
  {
   "cell_type": "code",
   "outputs": [
    {
     "name": "stdout",
     "output_type": "stream",
     "text": [
      "customer_age                   0\n",
      "dependent_count                0\n",
      "education_level             1519\n",
      "marital_status               749\n",
      "income_category             1112\n",
      "card_category                  0\n",
      "months_on_book                 0\n",
      "total_relationship_count       0\n",
      "months_inactive_12_mon         0\n",
      "contacts_count_12_mon          0\n",
      "credit_limit                   0\n",
      "total_revolving_bal            0\n",
      "avg_open_to_buy                0\n",
      "total_amt_chng_q4_q1           0\n",
      "total_trans_amt                0\n",
      "total_trans_ct                 0\n",
      "total_ct_chng_q4_q1            0\n",
      "avg_utilization_ratio          0\n",
      "attrition_flag                 0\n",
      "dtype: int64\n"
     ]
    },
    {
     "name": "stderr",
     "output_type": "stream",
     "text": [
      "/var/folders/9n/6m45fxg142j6jt4fdyf75vdm0000gn/T/ipykernel_67470/414775021.py:6: FutureWarning: The behavior of Series.replace (and DataFrame.replace) with CategoricalDtype is deprecated. In a future version, replace will only be used for cases that preserve the categories. To change the categories, use ser.cat.rename_categories instead.\n",
      "  bank_df.replace('Unknown', np.nan, inplace=True)\n"
     ]
    }
   ],
   "source": [
    "#unknown_counts = {}\n",
    "#for column in bank_df.columns:\n",
    "#    unknown_counts[column] = (bank_df[column] == 'Unknown').sum()\n",
    "\n",
    "#print(unknown_counts)\n",
    "bank_df.replace('Unknown', np.nan, inplace=True)\n",
    "\n",
    "print(bank_df.isna().sum())\n",
    "\n"
   ],
   "metadata": {
    "collapsed": false,
    "ExecuteTime": {
     "end_time": "2024-03-01T10:42:50.371461Z",
     "start_time": "2024-03-01T10:42:50.363485Z"
    }
   },
   "id": "d29dde2c-5371-4d6f-b6ee-a14d90c0baf9",
   "execution_count": 9
  },
  {
   "cell_type": "markdown",
   "id": "427adced-3fcc-405e-ba9b-041e846670b4",
   "metadata": {
    "id": "427adced-3fcc-405e-ba9b-041e846670b4"
   },
   "source": [
    "7. Utilize imputação para preencher os valores em falta do nível de educação com um valor representativo.  "
   ]
  },
  {
   "cell_type": "code",
   "outputs": [
    {
     "name": "stdout",
     "output_type": "stream",
     "text": [
      "Mode of education_level: Graduate\n",
      "NaN count before filling: 1519\n",
      "NaN count after filling: 0\n",
      "Unique values in education_level: ['High School', 'Graduate', 'Uneducated', 'College', 'Post-Graduate', 'Doctorate']\n",
      "Categories (6, object): ['College', 'Doctorate', 'Graduate', 'High School', 'Post-Graduate', 'Uneducated']\n"
     ]
    }
   ],
   "source": [
    "import numpy as np\n",
    "\n",
    "# Replace 'Unknown' values with NaN\n",
    "bank_df.replace('Unknown', np.nan, inplace=True)\n",
    "\n",
    "# Find the mode of the education_level column\n",
    "education_level_mode = bank_df['education_level'].mode()[0]\n",
    "\n",
    "# Display the mode\n",
    "print(\"Mode of education_level:\", education_level_mode)\n",
    "\n",
    "# Count NaN values before filling\n",
    "print(\"NaN count before filling:\", bank_df['education_level'].isna().sum())\n",
    "\n",
    "# Fill NaN values with the mode using the recommended approach\n",
    "bank_df['education_level'] = bank_df['education_level'].fillna(education_level_mode)\n",
    "\n",
    "# Count NaN values after filling\n",
    "print(\"NaN count after filling:\", bank_df['education_level'].isna().sum())\n",
    "\n",
    "# Display unique values in the education_level column\n",
    "print(\"Unique values in education_level:\", bank_df['education_level'].unique())\n",
    "\n"
   ],
   "metadata": {
    "collapsed": false,
    "ExecuteTime": {
     "end_time": "2024-03-01T10:42:50.375748Z",
     "start_time": "2024-03-01T10:42:50.369031Z"
    }
   },
   "id": "39276c08-bf37-482f-957d-3f8918b51269",
   "execution_count": 10
  },
  {
   "cell_type": "markdown",
   "id": "8a8fe385-a5ce-45ea-aba6-a4722255fc78",
   "metadata": {
    "id": "8a8fe385-a5ce-45ea-aba6-a4722255fc78"
   },
   "source": [
    "8. Descarte as restantes observações com valores em falta."
   ]
  },
  {
   "cell_type": "code",
   "execution_count": 11,
   "id": "968b2750-c321-4dd9-abd9-753741500f70",
   "metadata": {
    "id": "968b2750-c321-4dd9-abd9-753741500f70",
    "ExecuteTime": {
     "end_time": "2024-03-01T10:42:50.380601Z",
     "start_time": "2024-03-01T10:42:50.374497Z"
    }
   },
   "outputs": [
    {
     "name": "stdout",
     "output_type": "stream",
     "text": [
      "customer_age                   0\n",
      "dependent_count                0\n",
      "education_level                0\n",
      "marital_status               749\n",
      "income_category             1112\n",
      "card_category                  0\n",
      "months_on_book                 0\n",
      "total_relationship_count       0\n",
      "months_inactive_12_mon         0\n",
      "contacts_count_12_mon          0\n",
      "credit_limit                   0\n",
      "total_revolving_bal            0\n",
      "avg_open_to_buy                0\n",
      "total_amt_chng_q4_q1           0\n",
      "total_trans_amt                0\n",
      "total_trans_ct                 0\n",
      "total_ct_chng_q4_q1            0\n",
      "avg_utilization_ratio          0\n",
      "attrition_flag                 0\n",
      "dtype: int64\n",
      "customer_age                0\n",
      "dependent_count             0\n",
      "education_level             0\n",
      "marital_status              0\n",
      "income_category             0\n",
      "card_category               0\n",
      "months_on_book              0\n",
      "total_relationship_count    0\n",
      "months_inactive_12_mon      0\n",
      "contacts_count_12_mon       0\n",
      "credit_limit                0\n",
      "total_revolving_bal         0\n",
      "avg_open_to_buy             0\n",
      "total_amt_chng_q4_q1        0\n",
      "total_trans_amt             0\n",
      "total_trans_ct              0\n",
      "total_ct_chng_q4_q1         0\n",
      "avg_utilization_ratio       0\n",
      "attrition_flag              0\n",
      "dtype: int64\n"
     ]
    }
   ],
   "source": [
    "print(bank_df.isnull().sum())\n",
    "bank_df.dropna(inplace=True)\n",
    "print(bank_df.isnull().sum())"
   ]
  },
  {
   "cell_type": "markdown",
   "id": "dea08400-c74d-4371-acb8-e0b6162e5c7c",
   "metadata": {
    "id": "dea08400-c74d-4371-acb8-e0b6162e5c7c"
   },
   "source": [
    "9. Binarize o atributo categórico `Attrition_Flag`."
   ]
  },
  {
   "cell_type": "code",
   "execution_count": 15,
   "id": "7911879c-cacc-4d8b-8047-00692255f805",
   "metadata": {
    "id": "7911879c-cacc-4d8b-8047-00692255f805",
    "ExecuteTime": {
     "end_time": "2024-03-01T10:43:34.789777Z",
     "start_time": "2024-03-01T10:43:34.744753Z"
    }
   },
   "outputs": [
    {
     "data": {
      "text/plain": "array([0, 1])"
     },
     "execution_count": 15,
     "metadata": {},
     "output_type": "execute_result"
    }
   ],
   "source": [
    "bin_values, index = pd.factorize(bank_df['attrition_flag'])\n",
    "bank_df['attrition_flag'] = bin_values\n",
    "bank_df['attrition_flag'].unique()"
   ]
  },
  {
   "cell_type": "markdown",
   "id": "51a08864-78b8-442c-9837-ee37e1f461ba",
   "metadata": {
    "tags": [],
    "id": "51a08864-78b8-442c-9837-ee37e1f461ba"
   },
   "source": [
    "10. Calcule as correlações entre os atributos numéricos do conjunto de dados e visualize-as usando um mapa de calor."
   ]
  },
  {
   "cell_type": "code",
   "execution_count": 17,
   "id": "0d6f07c5-51cc-4c64-8ed4-168bb2238bfa",
   "metadata": {
    "id": "0d6f07c5-51cc-4c64-8ed4-168bb2238bfa",
    "ExecuteTime": {
     "end_time": "2024-03-01T10:46:01.809185Z",
     "start_time": "2024-03-01T10:46:01.608696Z"
    }
   },
   "outputs": [
    {
     "data": {
      "text/plain": "<Figure size 640x480 with 2 Axes>",
      "image/png": "[encoded data removed]"
     },
     "metadata": {},
     "output_type": "display_data"
    }
   ],
   "source": [
    "%matplotlib inline\n",
    "import matplotlib.pyplot as plt\n",
    "\n",
    "import seaborn as sns\n",
    "sns.set_theme()  # set the chart style\n",
    "\n",
    "sns.heatmap(bank_df.corr(numeric_only=True));\n"
   ]
  },
  {
   "cell_type": "markdown",
   "id": "4ef8ecb3-2bce-4e82-ad9b-cf3e3abf7d83",
   "metadata": {
    "id": "4ef8ecb3-2bce-4e82-ad9b-cf3e3abf7d83"
   },
   "source": [
    "11. Visualize como se relacionam os dois atributos a correlação mais alta."
   ]
  },
  {
   "cell_type": "code",
   "execution_count": 25,
   "id": "a76759b0-ace7-4451-9063-0aed7b0386e8",
   "metadata": {
    "id": "a76759b0-ace7-4451-9063-0aed7b0386e8",
    "ExecuteTime": {
     "end_time": "2024-03-01T10:53:03.737697Z",
     "start_time": "2024-03-01T10:53:03.720275Z"
    }
   },
   "outputs": [
    {
     "name": "stdout",
     "output_type": "stream",
     "text": [
      "                          customer_age  dependent_count  months_on_book  \\\n",
      "customer_age                  1.000000        -0.124560        0.790641   \n",
      "dependent_count              -0.124560         1.000000       -0.107459   \n",
      "months_on_book                0.790641        -0.107459        1.000000   \n",
      "total_relationship_count     -0.014478        -0.044804       -0.011493   \n",
      "months_inactive_12_mon        0.056986        -0.015857        0.072900   \n",
      "contacts_count_12_mon        -0.019676        -0.041560       -0.009504   \n",
      "credit_limit                  0.014021         0.082283        0.014979   \n",
      "total_revolving_bal           0.015541        -0.005639        0.008244   \n",
      "avg_open_to_buy               0.012632         0.082790        0.014242   \n",
      "total_amt_chng_q4_q1         -0.067528        -0.028145       -0.056738   \n",
      "total_trans_amt              -0.047924         0.026698       -0.037614   \n",
      "total_trans_ct               -0.070402         0.054652       -0.050793   \n",
      "total_ct_chng_q4_q1          -0.012672         0.019221       -0.022018   \n",
      "avg_utilization_ratio         0.005355        -0.047695       -0.007996   \n",
      "attrition_flag                0.011073         0.018991        0.005821   \n",
      "\n",
      "                          total_relationship_count  months_inactive_12_mon  \\\n",
      "customer_age                             -0.014478                0.056986   \n",
      "dependent_count                          -0.044804               -0.015857   \n",
      "months_on_book                           -0.011493                0.072900   \n",
      "total_relationship_count                  1.000000                0.002531   \n",
      "months_inactive_12_mon                    0.002531                1.000000   \n",
      "contacts_count_12_mon                     0.063819                0.031462   \n",
      "credit_limit                             -0.067346               -0.010332   \n",
      "total_revolving_bal                       0.016637               -0.044303   \n",
      "avg_open_to_buy                          -0.068835               -0.006371   \n",
      "total_amt_chng_q4_q1                      0.053422               -0.024540   \n",
      "total_trans_amt                          -0.351710               -0.036490   \n",
      "total_trans_ct                           -0.250951               -0.042635   \n",
      "total_ct_chng_q4_q1                       0.035516               -0.036926   \n",
      "avg_utilization_ratio                     0.069537               -0.008776   \n",
      "attrition_flag                           -0.149212                0.152826   \n",
      "\n",
      "                          contacts_count_12_mon  credit_limit  \\\n",
      "customer_age                          -0.019676      0.014021   \n",
      "dependent_count                       -0.041560      0.082283   \n",
      "months_on_book                        -0.009504      0.014979   \n",
      "total_relationship_count               0.063819     -0.067346   \n",
      "months_inactive_12_mon                 0.031462     -0.010332   \n",
      "contacts_count_12_mon                  1.000000      0.021867   \n",
      "credit_limit                           0.021867      1.000000   \n",
      "total_revolving_bal                   -0.052363      0.045030   \n",
      "avg_open_to_buy                        0.026549      0.996004   \n",
      "total_amt_chng_q4_q1                  -0.025357      0.008257   \n",
      "total_trans_amt                       -0.113102      0.167746   \n",
      "total_trans_ct                        -0.151744      0.078944   \n",
      "total_ct_chng_q4_q1                   -0.096733     -0.007254   \n",
      "avg_utilization_ratio                 -0.051064     -0.482457   \n",
      "attrition_flag                         0.200645     -0.018300   \n",
      "\n",
      "                          total_revolving_bal  avg_open_to_buy  \\\n",
      "customer_age                         0.015541         0.012632   \n",
      "dependent_count                     -0.005639         0.082790   \n",
      "months_on_book                       0.008244         0.014242   \n",
      "total_relationship_count             0.016637        -0.068835   \n",
      "months_inactive_12_mon              -0.044303        -0.006371   \n",
      "contacts_count_12_mon               -0.052363         0.026549   \n",
      "credit_limit                         0.045030         0.996004   \n",
      "total_revolving_bal                  1.000000        -0.044371   \n",
      "avg_open_to_buy                     -0.044371         1.000000   \n",
      "total_amt_chng_q4_q1                 0.058710         0.003008   \n",
      "total_trans_amt                      0.057583         0.162603   \n",
      "total_trans_ct                       0.045330         0.074894   \n",
      "total_ct_chng_q4_q1                  0.086636        -0.015000   \n",
      "avg_utilization_ratio                0.625420        -0.538385   \n",
      "attrition_flag                      -0.265673         0.005451   \n",
      "\n",
      "                          total_amt_chng_q4_q1  total_trans_amt  \\\n",
      "customer_age                         -0.067528        -0.047924   \n",
      "dependent_count                      -0.028145         0.026698   \n",
      "months_on_book                       -0.056738        -0.037614   \n",
      "total_relationship_count              0.053422        -0.351710   \n",
      "months_inactive_12_mon               -0.024540        -0.036490   \n",
      "contacts_count_12_mon                -0.025357        -0.113102   \n",
      "credit_limit                          0.008257         0.167746   \n",
      "total_revolving_bal                   0.058710         0.057583   \n",
      "avg_open_to_buy                       0.003008         0.162603   \n",
      "total_amt_chng_q4_q1                  1.000000         0.036004   \n",
      "total_trans_amt                       0.036004         1.000000   \n",
      "total_trans_ct                        0.002517         0.810694   \n",
      "total_ct_chng_q4_q1                   0.385185         0.090011   \n",
      "avg_utilization_ratio                 0.037531        -0.091037   \n",
      "attrition_flag                       -0.130237        -0.160422   \n",
      "\n",
      "                          total_trans_ct  total_ct_chng_q4_q1  \\\n",
      "customer_age                   -0.070402            -0.012672   \n",
      "dependent_count                 0.054652             0.019221   \n",
      "months_on_book                 -0.050793            -0.022018   \n",
      "total_relationship_count       -0.250951             0.035516   \n",
      "months_inactive_12_mon         -0.042635            -0.036926   \n",
      "contacts_count_12_mon          -0.151744            -0.096733   \n",
      "credit_limit                    0.078944            -0.007254   \n",
      "total_revolving_bal             0.045330             0.086636   \n",
      "avg_open_to_buy                 0.074894            -0.015000   \n",
      "total_amt_chng_q4_q1            0.002517             0.385185   \n",
      "total_trans_amt                 0.810694             0.090011   \n",
      "total_trans_ct                  1.000000             0.114135   \n",
      "total_ct_chng_q4_q1             0.114135             1.000000   \n",
      "avg_utilization_ratio          -0.007065             0.076981   \n",
      "attrition_flag                 -0.358151            -0.281423   \n",
      "\n",
      "                          avg_utilization_ratio  attrition_flag  \n",
      "customer_age                           0.005355        0.011073  \n",
      "dependent_count                       -0.047695        0.018991  \n",
      "months_on_book                        -0.007996        0.005821  \n",
      "total_relationship_count               0.069537       -0.149212  \n",
      "months_inactive_12_mon                -0.008776        0.152826  \n",
      "contacts_count_12_mon                 -0.051064        0.200645  \n",
      "credit_limit                          -0.482457       -0.018300  \n",
      "total_revolving_bal                    0.625420       -0.265673  \n",
      "avg_open_to_buy                       -0.538385        0.005451  \n",
      "total_amt_chng_q4_q1                   0.037531       -0.130237  \n",
      "total_trans_amt                       -0.091037       -0.160422  \n",
      "total_trans_ct                        -0.007065       -0.358151  \n",
      "total_ct_chng_q4_q1                    0.076981       -0.281423  \n",
      "avg_utilization_ratio                  1.000000       -0.185231  \n",
      "attrition_flag                        -0.185231        1.000000  \n",
      "Pairs with the highest correlation coefficients:\n",
      "avg_open_to_buy        credit_limit              0.996004\n",
      "total_trans_ct         total_trans_amt           0.810694\n",
      "months_on_book         customer_age              0.790641\n",
      "avg_utilization_ratio  total_revolving_bal       0.625420\n",
      "total_ct_chng_q4_q1    total_amt_chng_q4_q1      0.385185\n",
      "attrition_flag         contacts_count_12_mon     0.200645\n",
      "total_trans_amt        credit_limit              0.167746\n",
      "                       avg_open_to_buy           0.162603\n",
      "attrition_flag         months_inactive_12_mon    0.152826\n",
      "total_ct_chng_q4_q1    total_trans_ct            0.114135\n",
      "dtype: float64\n"
     ]
    }
   ],
   "source": [
    "# Compute the correlation matrix\n",
    "correlation_matrix = bank_df.corr(numeric_only=True)\n",
    "\n",
    "print(correlation_matrix)\n",
    "\n",
    "# Extract the upper triangle of the correlation matrix (excluding diagonal)\n",
    "upper_triangle = correlation_matrix.where(np.triu(np.ones(correlation_matrix.shape), k=1).astype(np.bool_))\n",
    "\n",
    "# Find pairs with the highest correlation coefficients\n",
    "max_corr_pairs = upper_triangle.unstack().sort_values(ascending=False).drop_duplicates()\n",
    "\n",
    "# Print the pairs with the highest correlation coefficients\n",
    "print(\"Pairs with the highest correlation coefficients:\")\n",
    "#print(max_corr_pairs.head())\n",
    "\n",
    "# You can also specify the number of pairs you want to print, for example:\n",
    "print(max_corr_pairs.head(10))  # Print the top 10 pairs\n"
   ]
  },
  {
   "cell_type": "markdown",
   "id": "56c6e471-aee1-4743-827c-158783a58f00",
   "metadata": {
    "tags": [],
    "id": "56c6e471-aee1-4743-827c-158783a58f00"
   },
   "source": [
    "9. Verifique se os atributos `Credit_Limit` e `Dependent_count` têm *outliers*. Em caso afirmativo, conte-os. (**Sugestão**: [How To Find Outliers in Data Using Python (and How To Handle Them)](https://careerfoundry.com/en/blog/data-analytics/how-to-find-outliers/#how-to-find-outliers))"
   ]
  },
  {
   "cell_type": "code",
   "execution_count": null,
   "id": "eb0370ab-411a-4303-a7fc-7e576ea0ee47",
   "metadata": {
    "id": "eb0370ab-411a-4303-a7fc-7e576ea0ee47"
   },
   "outputs": [],
   "source": []
  },
  {
   "cell_type": "markdown",
   "id": "0c028117-a81d-4fd6-96b2-b9df3b3a0c9e",
   "metadata": {
    "id": "0c028117-a81d-4fd6-96b2-b9df3b3a0c9e"
   },
   "source": [
    "## Parte 2 - Desempenho académico\n",
    "\n",
    "Carregue o conjunto de dados [Students' Academic Performance Dataset](https://www.kaggle.com/datasets/aljarah/xAPI-Edu-Data), guardado no ficheiro CSV definido pela variável `csv_file_path` e faça uma análise semelhante à realizada com o conjunto de dados sobre clientes de cartões de crédito."
   ]
  },
  {
   "cell_type": "code",
   "execution_count": null,
   "id": "be8d3f26-f7c2-46a8-90b8-0b9c66affd73",
   "metadata": {
    "id": "be8d3f26-f7c2-46a8-90b8-0b9c66affd73"
   },
   "outputs": [],
   "source": [
    "csv_file_path = data_path + 'xAPI-Edu-Data.csv'"
   ]
  },
  {
   "cell_type": "code",
   "execution_count": null,
   "id": "8fc04838-fc80-472c-a729-d1f2f6ba7d9d",
   "metadata": {
    "id": "8fc04838-fc80-472c-a729-d1f2f6ba7d9d"
   },
   "outputs": [],
   "source": []
  }
 ],
 "metadata": {
  "kernelspec": {
   "display_name": "Python 3 (ipykernel)",
   "language": "python",
   "name": "python3"
  },
  "language_info": {
   "codemirror_mode": {
    "name": "ipython",
    "version": 3
   },
   "file_extension": ".py",
   "mimetype": "text/x-python",
   "name": "python",
   "nbconvert_exporter": "python",
   "pygments_lexer": "ipython3",
   "version": "3.10.10"
  },
  "colab": {
   "provenance": []
  }
 },
 "nbformat": 4,
 "nbformat_minor": 5
}
