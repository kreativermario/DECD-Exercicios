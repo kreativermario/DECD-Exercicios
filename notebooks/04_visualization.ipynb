{
  "cells": [
    {
      "cell_type": "markdown",
      "metadata": {
        "id": "093-_q1II_p1"
      },
      "source": [
        "# Visualização\n",
        "\n",
        "As tabelas de dados (`DataFrame`) da biblioteca [pandas](https://pandas.pydata.org/) permitem que conjuntos de dados sejam estruturados e visualizados numa forma tabelada. No entanto, em muitas situações, visualizações gráficas são mais apelativas, claras e interpretáveis.\n",
        "\n",
        "Em Python, a biblioteca [matplotlib](https://matplotlib.org/) é a mais usada para visualização gráfica:"
      ]
    },
    {
      "cell_type": "code",
      "execution_count": null,
      "metadata": {
        "id": "J2YsglH5I_p3"
      },
      "outputs": [],
      "source": [
        "%matplotlib inline\n",
        "import matplotlib.pyplot as plt"
      ]
    },
    {
      "cell_type": "code",
      "execution_count": null,
      "metadata": {
        "id": "WILbZW41I_p3"
      },
      "outputs": [],
      "source": [
        "import numpy as np"
      ]
    },
    {
      "cell_type": "code",
      "execution_count": null,
      "metadata": {
        "id": "uBCgTPTeI_p4"
      },
      "outputs": [],
      "source": [
        "x = np.linspace(0, 10, 100)\n",
        "\n",
        "fig = plt.figure()\n",
        "plt.plot(x, np.sin(x), '-')\n",
        "plt.plot(x, np.cos(x), '--');"
      ]
    },
    {
      "cell_type": "markdown",
      "metadata": {
        "id": "zXncakR3I_p4"
      },
      "source": [
        "**Nota**: O `;` no final da instrução é algo estranho em Python, mas não é um erro. Neste caso, serve apenas para que o retorno da função não seja mostrado no notebook."
      ]
    },
    {
      "cell_type": "markdown",
      "metadata": {
        "id": "zcf3ykL6I_p4"
      },
      "source": [
        "Apesar de a biblioteca *matplotlib* poder ser usada para gerar a maioria das visualizações de dados de interesse, esta nāo está preparada para lidar diretamente com as estruturas de dados da biblioteca *pandas*, o que torna o processo de geração das visualizações bastante moroso. Para lidar com esta limitação, a biblioteca *pandas* implementa alguns métodos de visualização básicos. A biblioteca [Seaborn](http://seaborn.pydata.org/), para além dos básicos, implementa alguns métodos para gerar visualizações mais complexas, mas que são bastante úteis no contexto da análise de dados."
      ]
    },
    {
      "cell_type": "markdown",
      "metadata": {
        "id": "DrSUx1L5I_p5"
      },
      "source": [
        "**Nota**: Quer os métodos de visualização da biblioteca *pandas*, quer a biblioteca *Seaborn* são construídos em cima da biblioteca *matplotlib*."
      ]
    },
    {
      "cell_type": "markdown",
      "metadata": {
        "id": "UOyJ6KbzI_p5"
      },
      "source": [
        "**Nota**: Neste tutorial não se pretende explorar ao detalhe como gerar cada tipo de visualização, mas sim mostrar algumas visões possíveis sobre os dados."
      ]
    },
    {
      "cell_type": "markdown",
      "metadata": {
        "tags": [],
        "id": "rEsgTTF1I_p5"
      },
      "source": [
        "## pandas plot\n",
        "\n",
        "Para explorar os métodos de visualização da biblioteca *pandas* vamos carregar o conjunto de dados de filmes que processamos anteriormente:"
      ]
    },
    {
      "cell_type": "code",
      "execution_count": null,
      "metadata": {
        "id": "B_zqFxt7I_p5"
      },
      "outputs": [],
      "source": [
        "import pandas as pd\n",
        "import os\n",
        "\n",
        "data_path = '../data/' if os.path.exists('../data/') else 'https://raw.githubusercontent.com/TheAwesomeGe/DECD/main/data/'\n",
        "\n",
        "movies_df = pd.read_csv(data_path + 'IMDB-Movie-Data-Processed.csv', index_col='Title')\n",
        "movies_df.head()"
      ]
    },
    {
      "cell_type": "markdown",
      "metadata": {
        "id": "JuJRQet7I_p5"
      },
      "source": [
        "O principal método para visualização fornecido pela biblioteca *pandas* é o método `plot`. Este recebe um argumento `kind` que define o tipo de gráfico. Por exemplo:\n",
        "\n",
        "- `'line'`: gráfico de linha\n",
        "- `'bar'` e `'barh'`: gráficos de barras (verticais ou horizontais)\n",
        "- `'pie'`: gráfico de pizza\n",
        "- `'hist'`: histograma\n",
        "- `'density'`: densidade de probabilidade\n",
        "- `'scatter'`: gráfico de dispersão\n",
        "- `'box'`: diagrama de caixa\n",
        "\n",
        "Para começar, vamos observar a relação entre a classificação dos filmes e a sua receita usando um gráfico de dispersão:"
      ]
    },
    {
      "cell_type": "code",
      "execution_count": null,
      "metadata": {
        "id": "6br_Ea87I_p6"
      },
      "outputs": [],
      "source": [
        "movies_df.plot(kind='scatter', x='rating', y='revenue_millions', title='Revenue (millions) vs Rating');"
      ]
    },
    {
      "cell_type": "markdown",
      "metadata": {
        "id": "rGFH_CPJI_p6"
      },
      "source": [
        "O método `plot` também pode ser aplicado sobre uma série. Por exemplo, para obter um histograma das classificações dos filmes:"
      ]
    },
    {
      "cell_type": "code",
      "execution_count": null,
      "metadata": {
        "id": "u_sxpRh7I_p6"
      },
      "outputs": [],
      "source": [
        "movies_df['rating'].plot(kind='hist', title='Rating');"
      ]
    },
    {
      "cell_type": "markdown",
      "metadata": {
        "id": "AJG_nFkzI_p6"
      },
      "source": [
        "Anteriormente, usámos o método `describe` para obter um resumo da distribuição dos valores dum atributo:"
      ]
    },
    {
      "cell_type": "code",
      "execution_count": null,
      "metadata": {
        "id": "ZGAqI48MI_p6"
      },
      "outputs": [],
      "source": [
        "movies_df['rating'].describe()"
      ]
    },
    {
      "cell_type": "markdown",
      "metadata": {
        "id": "pR00tSqLI_p6"
      },
      "source": [
        "Uma representação gráfica desta informação pode ser obtida usando um diagrama de caixa:\n",
        "\n",
        "![diagrama de caixa](https://github.com/TheAwesomeGe/DECD/blob/main/images/boxplot.svg?raw=1)"
      ]
    },
    {
      "cell_type": "code",
      "execution_count": null,
      "metadata": {
        "id": "0E8se4VII_p6"
      },
      "outputs": [],
      "source": [
        "movies_df['rating'].plot(kind='box');"
      ]
    },
    {
      "cell_type": "markdown",
      "metadata": {
        "id": "TaMPqAumI_p6"
      },
      "source": [
        "Neste contexto, a biblioteca *pandas* disponibiliza outro método, `boxplot`, que pode ser aplicado sobre uma tabela de dados para obter uma visualização na forma de diagramas de caixa da distribuição dum atributo contínuo para cada valor de um atributo discreto. Por exemplo, podemos usar este método para visualizar a diferença das receitas de filmes \"bons\" e \"maus\":  "
      ]
    },
    {
      "cell_type": "code",
      "execution_count": null,
      "metadata": {
        "id": "kgnscO4SI_p6"
      },
      "outputs": [],
      "source": [
        "movies_df.boxplot(column='revenue_millions', by='rating_category');"
      ]
    },
    {
      "cell_type": "markdown",
      "metadata": {
        "id": "do6Nha1ZI_p6"
      },
      "source": [
        "O método `plot` também pode ser usado para visualizar a distribuição de valores de atributos categóricos. Por exemplo, podemos usar um gráfico de pizza para analisar a proporção de filmes \"bons\" e \"maus\":"
      ]
    },
    {
      "cell_type": "code",
      "execution_count": null,
      "metadata": {
        "id": "zYg4sIfFI_p7"
      },
      "outputs": [],
      "source": [
        "movies_df['rating_category'].value_counts().plot(kind='pie');"
      ]
    },
    {
      "cell_type": "markdown",
      "metadata": {
        "id": "V6huxZHaI_p7"
      },
      "source": [
        "Ou um gráfico de barras para visualizar os dez realizadores com mais filmes no conjunto de dados:"
      ]
    },
    {
      "cell_type": "code",
      "execution_count": null,
      "metadata": {
        "id": "DIt3xBkdI_p7"
      },
      "outputs": [],
      "source": [
        "movies_df['director'].value_counts().head(10).plot(kind='bar');"
      ]
    },
    {
      "cell_type": "markdown",
      "metadata": {
        "id": "ZEV8DxgyI_p7"
      },
      "source": [
        "Informação detalhada sobre a funcionalidade do método `plot` pode ser obtida na [documentação](https://pandas.pydata.org/docs/reference/api/pandas.DataFrame.plot.html) da biblioteca *pandas*."
      ]
    },
    {
      "cell_type": "markdown",
      "metadata": {
        "tags": [],
        "id": "eSFA4fItI_p7"
      },
      "source": [
        "## Seaborn"
      ]
    },
    {
      "cell_type": "markdown",
      "metadata": {
        "id": "WuW_BCwMI_p7"
      },
      "source": [
        "A biblioteca [Seaborn](http://seaborn.pydata.org/) disponibiliza uma interface de alto nível para a criação de gráficos úteis para fazer uma análise estatística de dados e que integra bem com as estruturas de dados da biblioteca *pandas*.\n",
        "\n",
        "Normalmente, a biblioteca *Seaborn* é importada como `sns`:"
      ]
    },
    {
      "cell_type": "code",
      "execution_count": null,
      "metadata": {
        "id": "OVztrV0pI_p7"
      },
      "outputs": [],
      "source": [
        "import seaborn as sns\n",
        "sns.set_theme()  # set the chart style"
      ]
    },
    {
      "cell_type": "markdown",
      "metadata": {
        "id": "9vOOBV-gI_p7"
      },
      "source": [
        "Tal como no caso do método `plot` da biblioteca *pandas*, não vamos explorar em detalhe toda a funcionalidade disponibilizada pela biblioteca *Seaborn*, mas sim explorar apenas alguns exemplos de gráficos que podem ser úteis para a análise de dados. Neste contexto, vamos também olhar para alguns conjuntos de dados que são muito usados na introdução à ciência de dados e que são disponibilizados pela própria biblioteca *Seaborn*."
      ]
    },
    {
      "cell_type": "markdown",
      "metadata": {
        "id": "5-u0NHKsI_p7"
      },
      "source": [
        "### Histogramas e densidade de probabilidade\n",
        "\n",
        "Durante a fase inicial da exploração de um novo conjunto de dados, muitas vezes queremos apenas ter uma noção da distribuição dos valores das variáveis desse conjunto.  \n",
        "\n",
        "Como exemplo, vamos criar um conjunto de dados fazendo uma amostragem aleatória de uma distribuição normal:"
      ]
    },
    {
      "cell_type": "code",
      "execution_count": null,
      "metadata": {
        "jupyter": {
          "outputs_hidden": false
        },
        "id": "1D3fnje9I_p7"
      },
      "outputs": [],
      "source": [
        "data = np.random.multivariate_normal([0, 0], [[5, 2], [2, 2]], size=2000)\n",
        "data = pd.DataFrame(data, columns=['x', 'y'])\n",
        "data.head()"
      ]
    },
    {
      "cell_type": "markdown",
      "metadata": {
        "id": "J2L0-NDsI_p7"
      },
      "source": [
        "A função `histplot` pode ser usada para gerar um histograma destes dados:"
      ]
    },
    {
      "cell_type": "code",
      "execution_count": null,
      "metadata": {
        "id": "WAiHjibNI_p7"
      },
      "outputs": [],
      "source": [
        "sns.histplot(data);"
      ]
    },
    {
      "cell_type": "markdown",
      "metadata": {
        "id": "h7AhEG_PI_p7"
      },
      "source": [
        "Também podemos visualizar a distribuição de cada uma das variáveis através duma aproximação da função de densidade de probabilidade usando a função `kdeplot`:"
      ]
    },
    {
      "cell_type": "code",
      "execution_count": null,
      "metadata": {
        "jupyter": {
          "outputs_hidden": false
        },
        "id": "c3i7votSI_p7"
      },
      "outputs": [],
      "source": [
        "sns.kdeplot(data=data, fill=True);"
      ]
    },
    {
      "cell_type": "markdown",
      "metadata": {
        "id": "4U6Ote_9I_p8"
      },
      "source": [
        "Usando a mesma função, podemos visualizar a distribuição da probablidade conjunta de duas variáveis, passando os seus nomes aos argumentos `x` e `y`:"
      ]
    },
    {
      "cell_type": "code",
      "execution_count": null,
      "metadata": {
        "jupyter": {
          "outputs_hidden": false
        },
        "id": "01Bfi2LWI_p8"
      },
      "outputs": [],
      "source": [
        "sns.kdeplot(data=data, x='x', y='y', fill=True);"
      ]
    },
    {
      "cell_type": "markdown",
      "metadata": {
        "id": "KY5fu_DUI_p8"
      },
      "source": [
        "A função `jointplot` permite-nos visualizar ao mesmo tempo a distribuição da probablidade conjunta de duas variáveis e a distruição marginal de cada uma delas:"
      ]
    },
    {
      "cell_type": "code",
      "execution_count": null,
      "metadata": {
        "id": "EEeOXFAcI_p8"
      },
      "outputs": [],
      "source": [
        "sns.jointplot(data=data, x='x', y='y', kind='hex');"
      ]
    },
    {
      "cell_type": "markdown",
      "metadata": {
        "id": "ONsgwGsDI_p8"
      },
      "source": [
        "Com esta função podemos também visualizar uma regressão linear sobre essas variáveis:"
      ]
    },
    {
      "cell_type": "code",
      "execution_count": null,
      "metadata": {
        "id": "yeb4tHu-I_p8"
      },
      "outputs": [],
      "source": [
        "sns.jointplot(data=data, x='x', y='y', kind='reg');"
      ]
    },
    {
      "cell_type": "markdown",
      "metadata": {
        "id": "Fggf_KLcI_p8"
      },
      "source": [
        "### Gráficos de pares\n",
        "\n",
        "Como vimos para o conjunto de dados sobre filmes, quando os conjuntos de dados têm uma dimensionalidade maior, é interessante olhar para pares de atributos de forma a encontrar potenciais correlações entre eles.\n",
        "\n",
        "Para este exemplo, vamos olhar para o conjunto de dados [Iris](https://archive.ics.uci.edu/dataset/53/iris), que contém amostras de três tipos de lírio (flor) caracterizadas pelas dimensões das suas sépalas e pétalas:"
      ]
    },
    {
      "cell_type": "code",
      "execution_count": null,
      "metadata": {
        "jupyter": {
          "outputs_hidden": false
        },
        "id": "Kqc4ZaYOI_p8"
      },
      "outputs": [],
      "source": [
        "iris = sns.load_dataset(\"iris\")\n",
        "iris.head()"
      ]
    },
    {
      "cell_type": "markdown",
      "metadata": {
        "id": "o9Xu5IqGI_p8"
      },
      "source": [
        "A função `pairplot` pode ser usada para gerar um gráfico de pares entre as quatro características:"
      ]
    },
    {
      "cell_type": "code",
      "execution_count": null,
      "metadata": {
        "jupyter": {
          "outputs_hidden": false
        },
        "id": "6jxwmilOI_p8"
      },
      "outputs": [],
      "source": [
        "sns.pairplot(iris, hue='species');"
      ]
    },
    {
      "cell_type": "markdown",
      "metadata": {
        "id": "gQ9i4Q5WI_p8"
      },
      "source": [
        "### Mapas de Calor\n",
        "\n",
        "Uma forma comum de visualizar a correlação entre os atributos de um conjunto de dados é usar um mapa de calor. Podemos usar a função `heatmap` para obter uma visualização deste género para a matriz de correlação obtida usando o método `corr` da biblioteca *pandas*:"
      ]
    },
    {
      "cell_type": "code",
      "execution_count": null,
      "metadata": {
        "id": "pWUoE4m1I_p8"
      },
      "outputs": [],
      "source": [
        "sns.heatmap(iris.corr(numeric_only=True));"
      ]
    },
    {
      "cell_type": "markdown",
      "metadata": {
        "id": "mEIhTmHpI_p8"
      },
      "source": [
        "### Histogramas segmentados\n",
        "\n",
        "Por vezes, conseguimos obter informação importante sobre um conjunto de dados olhando para os histogramas de um determinado atributo segmentado de acordo com os valores de outros atributos.\n",
        "\n",
        "Por exemplo, vamos olhar para um conjunto de dados com informações sobre as gorjetas de um trabalhador de um restaurante:"
      ]
    },
    {
      "cell_type": "code",
      "execution_count": null,
      "metadata": {
        "jupyter": {
          "outputs_hidden": false
        },
        "id": "1kvv8-9EI_p9"
      },
      "outputs": [],
      "source": [
        "tips = sns.load_dataset('tips')\n",
        "tips.head()"
      ]
    },
    {
      "cell_type": "markdown",
      "metadata": {
        "id": "TCbmcXXEI_p9"
      },
      "source": [
        "Vamos criar um novo atributo com os valores da percentagem da conta a que correspondem as gorjetas:"
      ]
    },
    {
      "cell_type": "code",
      "execution_count": null,
      "metadata": {
        "id": "qbFMwn00I_p9"
      },
      "outputs": [],
      "source": [
        "tips['tip_percentage'] = 100 * tips['tip'] / tips['total_bill']\n",
        "tips.head()"
      ]
    },
    {
      "cell_type": "markdown",
      "metadata": {
        "id": "KBH5_xUdI_p9"
      },
      "source": [
        "Podemos usar uma grelha (`FacetGrid`) para visualizar os histogramas deste atributo segmentado de acordo com a refeição e o género de quem paga a conta:"
      ]
    },
    {
      "cell_type": "code",
      "execution_count": null,
      "metadata": {
        "id": "5-YGCKn9I_p9"
      },
      "outputs": [],
      "source": [
        "g = sns.FacetGrid(tips, row='sex', col='time', margin_titles=True)\n",
        "g.map(sns.histplot, 'tip_percentage');"
      ]
    },
    {
      "cell_type": "markdown",
      "metadata": {
        "id": "nK6mqvYaI_p9"
      },
      "source": [
        "Esta visão em grelha permite-nos obter rapidamente alguma informação interessante. Por exemplo:\n",
        "\n",
        "- A maioria dos dados deste conjunto correspondem a contas pagas por homens ao jantar\n",
        "- Na maioria dos casos, as gorjetas são entre 10% e 20% do valor da conta"
      ]
    },
    {
      "cell_type": "markdown",
      "metadata": {
        "id": "rw3ZTtOxI_p9"
      },
      "source": [
        "### Gráficos categóricos\n",
        "\n",
        "Os gráficos categóricos (`catplot`) definidos pela biblioteca *Seaborn* também são úteis para este tipo de visualização, já que permitem, por exemplo, observar a distribuição de um determinado atributo segmentado de acordo com os valores de outro atributo:"
      ]
    },
    {
      "cell_type": "code",
      "execution_count": null,
      "metadata": {
        "jupyter": {
          "outputs_hidden": false
        },
        "id": "GiApHV4pI_p9"
      },
      "outputs": [],
      "source": [
        "with sns.axes_style(style='ticks'):\n",
        "    g = sns.catplot(data=tips, x='day', y='total_bill', hue='sex', kind='box')\n",
        "    g.set_axis_labels('Day', 'Total Bill');"
      ]
    },
    {
      "cell_type": "markdown",
      "metadata": {
        "id": "0-fvbGcEI_p9"
      },
      "source": [
        "O argumento `kind` da função `catplot` pode ser usado para criar outros tipos de visualização. Para isso, vamos olhar para um conjunto de dados sobre a descoberta de novos planetas:"
      ]
    },
    {
      "cell_type": "code",
      "execution_count": null,
      "metadata": {
        "jupyter": {
          "outputs_hidden": false
        },
        "id": "0bQRlIEeI_p9"
      },
      "outputs": [],
      "source": [
        "planets = sns.load_dataset('planets')\n",
        "planets.head()"
      ]
    },
    {
      "cell_type": "markdown",
      "metadata": {
        "id": "yYL9_MiqI_p9"
      },
      "source": [
        "Podemos usar a função `catplot` com o argumento `kind='count'` para analisar a quantidade de planetas descobertos ao longo dos anos:  "
      ]
    },
    {
      "cell_type": "code",
      "execution_count": null,
      "metadata": {
        "jupyter": {
          "outputs_hidden": false
        },
        "id": "ZaCvKIxHI_p9"
      },
      "outputs": [],
      "source": [
        "with sns.axes_style('white'):\n",
        "    g = sns.catplot(data=planets, x='year', kind='count', aspect=2, color='steelblue')\n",
        "    g.set_xticklabels(step=5)"
      ]
    },
    {
      "cell_type": "markdown",
      "metadata": {
        "id": "ne2HRNINI_p9"
      },
      "source": [
        "Esta visualização pode tornar-se mais informativa se segmentar as contagens de acordo com o método usado para descobrir os planetas:"
      ]
    },
    {
      "cell_type": "code",
      "execution_count": null,
      "metadata": {
        "jupyter": {
          "outputs_hidden": false
        },
        "id": "pumJUab9I_p9"
      },
      "outputs": [],
      "source": [
        "with sns.axes_style('white'):\n",
        "    g = sns.catplot(data=planets, x='year', kind='count', hue='method', aspect=3.0, order=range(2001, 2015))\n",
        "    g.set_ylabels('Number of Planets Discovered')"
      ]
    },
    {
      "cell_type": "markdown",
      "metadata": {
        "id": "q-XBgvNXI_p9"
      },
      "source": [
        "Informação detalhada sobre a funcionalidade da biblioteca *Seaborn* pode ser obtida na sua [documentação](https://seaborn.pydata.org/api.html). A sua [galeria de exemplos](https://seaborn.pydata.org/examples/index.html) pode ser usada como guia para encontrar tipos de visualização interessantes para um determinado problema."
      ]
    }
  ],
  "metadata": {
    "anaconda-cloud": {},
    "jupytext": {
      "formats": "ipynb,md"
    },
    "kernelspec": {
      "display_name": "Python 3 (ipykernel)",
      "language": "python",
      "name": "python3"
    },
    "language_info": {
      "codemirror_mode": {
        "name": "ipython",
        "version": 3
      },
      "file_extension": ".py",
      "mimetype": "text/x-python",
      "name": "python",
      "nbconvert_exporter": "python",
      "pygments_lexer": "ipython3",
      "version": "3.10.10"
    },
    "colab": {
      "provenance": []
    }
  },
  "nbformat": 4,
  "nbformat_minor": 0
}