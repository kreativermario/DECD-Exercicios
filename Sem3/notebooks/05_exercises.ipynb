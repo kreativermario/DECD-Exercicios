{
 "cells": [
  {
   "cell_type": "markdown",
   "id": "0c96a3fd-c032-4772-b355-4e60f4c46fa9",
   "metadata": {
    "tags": [],
    "id": "0c96a3fd-c032-4772-b355-4e60f4c46fa9"
   },
   "source": [
    "# Exercícios: Análise e manipulação de dados"
   ]
  },
  {
   "cell_type": "code",
   "execution_count": 7,
   "id": "f94b7e85-04f9-434e-9406-a60ad1a64480",
   "metadata": {
    "id": "f94b7e85-04f9-434e-9406-a60ad1a64480",
    "ExecuteTime": {
     "end_time": "2024-03-01T14:01:38.162825Z",
     "start_time": "2024-03-01T14:01:38.126758Z"
    }
   },
   "outputs": [],
   "source": [
    "import os\n",
    "\n",
    "import numpy as np\n",
    "import pandas as pd\n",
    "\n",
    "%matplotlib inline\n",
    "import matplotlib.pyplot as plt\n",
    "import seaborn as sns\n",
    "\n",
    "sns.set_theme()"
   ]
  },
  {
   "cell_type": "markdown",
   "id": "327c6efc-586b-4466-a419-c6d3b1bab79d",
   "metadata": {
    "tags": [],
    "id": "327c6efc-586b-4466-a419-c6d3b1bab79d"
   },
   "source": [
    "## Parte 1: Dados de utilizadores de cartões de crédito\n",
    "\n",
    "Carregue o conjunto de dados [Credit Card Customers](https://www.kaggle.com/sakshigoyal7/credit-card-customers), guardado no ficheiro Excel definido pela variável `xlxs_file_path`, para uma tabela de dados da biblioteca [Pandas](https://pandas.pydata.org/)."
   ]
  },
  {
   "cell_type": "code",
   "execution_count": 8,
   "id": "d13a366c-668c-4644-88aa-ceef7af526f1",
   "metadata": {
    "id": "d13a366c-668c-4644-88aa-ceef7af526f1",
    "ExecuteTime": {
     "end_time": "2024-03-01T14:01:38.167841Z",
     "start_time": "2024-03-01T14:01:38.165635Z"
    }
   },
   "outputs": [],
   "source": [
    "data_path = '../../data/' if os.path.exists('../../data/') else 'https://raw.githubusercontent.com/TheAwesomeGe/DECD/main/data/'\n",
    "xlsx_file_path = data_path + 'BankChurners.xlsx'"
   ]
  },
  {
   "cell_type": "code",
   "execution_count": 9,
   "id": "dab248fd-c2e7-4292-88bb-617a8469730d",
   "metadata": {
    "id": "dab248fd-c2e7-4292-88bb-617a8469730d",
    "ExecuteTime": {
     "end_time": "2024-03-01T14:01:38.170485Z",
     "start_time": "2024-03-01T14:01:38.168367Z"
    }
   },
   "outputs": [
    {
     "name": "stdout",
     "output_type": "stream",
     "text": [
      "../../data/BankChurners.xlsx\n"
     ]
    }
   ],
   "source": [
    "print(xlsx_file_path)"
   ]
  },
  {
   "cell_type": "markdown",
   "id": "5f498ed7-1b9b-42d3-bef2-d6acc6f0afb0",
   "metadata": {
    "tags": [],
    "id": "5f498ed7-1b9b-42d3-bef2-d6acc6f0afb0"
   },
   "source": [
    "Realize as seguintes etapas de pré-processamento de dados:\n",
    "\n",
    "1. Verifique que a importação foi bem sucedida e analise as primeiras entradas do conjunto de dados."
   ]
  },
  {
   "cell_type": "code",
   "execution_count": 10,
   "id": "66a86a25-7e7f-4a9e-a7dd-303f8852c3b7",
   "metadata": {
    "id": "66a86a25-7e7f-4a9e-a7dd-303f8852c3b7",
    "ExecuteTime": {
     "end_time": "2024-03-01T14:01:39.199795Z",
     "start_time": "2024-03-01T14:01:38.170831Z"
    }
   },
   "outputs": [
    {
     "name": "stdout",
     "output_type": "stream",
     "text": [
      "   customer_age  dependent_count education_level marital_status  \\\n",
      "0            45                3     High School        Married   \n",
      "1            49                5        Graduate         Single   \n",
      "2            51                3        Graduate        Married   \n",
      "3            40                4     High School        Unknown   \n",
      "4            40                3      Uneducated        Married   \n",
      "\n",
      "  income_category card_category  months_on_book  total_relationship_count  \\\n",
      "0     $60K - $80K          Blue              39                         5   \n",
      "1  Less than $40K          Blue              44                         6   \n",
      "2    $80K - $120K          Blue              36                         4   \n",
      "3  Less than $40K          Blue              34                         3   \n",
      "4     $60K - $80K          Blue              21                         5   \n",
      "\n",
      "   months_inactive_12_mon  contacts_count_12_mon  ...  total_revolving_bal  \\\n",
      "0                       1                      3  ...                  777   \n",
      "1                       1                      2  ...                  864   \n",
      "2                       1                      0  ...                    0   \n",
      "3                       4                      1  ...                 2517   \n",
      "4                       1                      0  ...                    0   \n",
      "\n",
      "   avg_open_to_buy  total_amt_chng_q4_q1  total_trans_amt  total_trans_ct  \\\n",
      "0          11914.0                 1.335             1144              42   \n",
      "1           7392.0                 1.541             1291              33   \n",
      "2           3418.0                 2.594             1887              20   \n",
      "3            796.0                 1.405             1171              20   \n",
      "4           4716.0                 2.175              816              28   \n",
      "\n",
      "   total_ct_chng_q4_q1  avg_utilization_ratio     attrition_flag  clientnum  \\\n",
      "0                1.625                  0.061  Existing Customer  768805383   \n",
      "1                3.714                  0.105  Existing Customer  818770008   \n",
      "2                2.333                  0.000  Existing Customer  713982108   \n",
      "3                2.333                  0.760  Existing Customer  769911858   \n",
      "4                2.500                  0.000  Existing Customer  709106358   \n",
      "\n",
      "   gender  \n",
      "0       M  \n",
      "1       F  \n",
      "2       M  \n",
      "3       F  \n",
      "4       M  \n",
      "\n",
      "[5 rows x 21 columns]\n"
     ]
    }
   ],
   "source": [
    "bank_df = pd.read_excel(xlsx_file_path)\n",
    "\n",
    "bank_df.columns = [col.lower() for col in bank_df.columns]\n",
    "print(bank_df.head(5))"
   ]
  },
  {
   "cell_type": "markdown",
   "id": "32044f25-1867-46f1-8f6e-949b8d651968",
   "metadata": {
    "tags": [],
    "id": "32044f25-1867-46f1-8f6e-949b8d651968"
   },
   "source": [
    "2. Remova os seguintes atributos:\n",
    "    * o número de cliente (uma vez que os identificadores locais não são informação útil para tarefas de descoberta de padrões)\n",
    "    * as características discriminatórias de género, por forma a que os resultados não sejam enviesados por estes atributos (o que seria pouco ético e, de certa forma, ilegal segundo a lei portuguesa)"
   ]
  },
  {
   "cell_type": "code",
   "outputs": [],
   "source": [
    "bank_df.drop(columns=['clientnum', 'gender'], inplace=True)"
   ],
   "metadata": {
    "collapsed": false,
    "ExecuteTime": {
     "end_time": "2024-03-01T14:01:39.202166Z",
     "start_time": "2024-03-01T14:01:39.199813Z"
    }
   },
   "id": "878ef61b477f4153",
   "execution_count": 11
  },
  {
   "cell_type": "markdown",
   "id": "65980f72-906b-4cf1-94df-b65f956d4b26",
   "metadata": {
    "id": "65980f72-906b-4cf1-94df-b65f956d4b26"
   },
   "source": [
    "3. Defina como categóricos os seguintes atributos: `Education_Level`, `Marital_Status`, `Income_Category`, `Card_Category` e `Attrition_Flag`."
   ]
  },
  {
   "cell_type": "code",
   "outputs": [
    {
     "name": "stdout",
     "output_type": "stream",
     "text": [
      "<class 'pandas.core.frame.DataFrame'>\n",
      "RangeIndex: 10127 entries, 0 to 10126\n",
      "Data columns (total 19 columns):\n",
      " #   Column                    Non-Null Count  Dtype  \n",
      "---  ------                    --------------  -----  \n",
      " 0   customer_age              10127 non-null  int64  \n",
      " 1   dependent_count           10127 non-null  int64  \n",
      " 2   education_level           10127 non-null  object \n",
      " 3   marital_status            10127 non-null  object \n",
      " 4   income_category           10127 non-null  object \n",
      " 5   card_category             10127 non-null  object \n",
      " 6   months_on_book            10127 non-null  int64  \n",
      " 7   total_relationship_count  10127 non-null  int64  \n",
      " 8   months_inactive_12_mon    10127 non-null  int64  \n",
      " 9   contacts_count_12_mon     10127 non-null  int64  \n",
      " 10  credit_limit              10127 non-null  float64\n",
      " 11  total_revolving_bal       10127 non-null  int64  \n",
      " 12  avg_open_to_buy           10127 non-null  float64\n",
      " 13  total_amt_chng_q4_q1      10127 non-null  float64\n",
      " 14  total_trans_amt           10127 non-null  int64  \n",
      " 15  total_trans_ct            10127 non-null  int64  \n",
      " 16  total_ct_chng_q4_q1       10127 non-null  float64\n",
      " 17  avg_utilization_ratio     10127 non-null  float64\n",
      " 18  attrition_flag            10127 non-null  object \n",
      "dtypes: float64(5), int64(9), object(5)\n",
      "memory usage: 1.5+ MB\n",
      "None\n",
      "<class 'pandas.core.frame.DataFrame'>\n",
      "RangeIndex: 10127 entries, 0 to 10126\n",
      "Data columns (total 19 columns):\n",
      " #   Column                    Non-Null Count  Dtype   \n",
      "---  ------                    --------------  -----   \n",
      " 0   customer_age              10127 non-null  int64   \n",
      " 1   dependent_count           10127 non-null  int64   \n",
      " 2   education_level           10127 non-null  category\n",
      " 3   marital_status            10127 non-null  category\n",
      " 4   income_category           10127 non-null  category\n",
      " 5   card_category             10127 non-null  category\n",
      " 6   months_on_book            10127 non-null  int64   \n",
      " 7   total_relationship_count  10127 non-null  int64   \n",
      " 8   months_inactive_12_mon    10127 non-null  int64   \n",
      " 9   contacts_count_12_mon     10127 non-null  int64   \n",
      " 10  credit_limit              10127 non-null  float64 \n",
      " 11  total_revolving_bal       10127 non-null  int64   \n",
      " 12  avg_open_to_buy           10127 non-null  float64 \n",
      " 13  total_amt_chng_q4_q1      10127 non-null  float64 \n",
      " 14  total_trans_amt           10127 non-null  int64   \n",
      " 15  total_trans_ct            10127 non-null  int64   \n",
      " 16  total_ct_chng_q4_q1       10127 non-null  float64 \n",
      " 17  avg_utilization_ratio     10127 non-null  float64 \n",
      " 18  attrition_flag            10127 non-null  category\n",
      "dtypes: category(5), float64(5), int64(9)\n",
      "memory usage: 1.1 MB\n",
      "None\n"
     ]
    }
   ],
   "source": [
    "print(bank_df.info())\n",
    "\n",
    "bank_df['education_level'] = bank_df['education_level'].astype('category')\n",
    "bank_df['marital_status'] = bank_df['marital_status'].astype('category')\n",
    "bank_df['income_category'] = bank_df['income_category'].astype('category')\n",
    "bank_df['card_category'] = bank_df['card_category'].astype('category')\n",
    "bank_df['attrition_flag'] = bank_df['attrition_flag'].astype('category')\n",
    "\n",
    "print(bank_df.info())"
   ],
   "metadata": {
    "collapsed": false,
    "ExecuteTime": {
     "end_time": "2024-03-01T14:01:39.215194Z",
     "start_time": "2024-03-01T14:01:39.204419Z"
    }
   },
   "id": "30a4698f-7512-4e8e-ab44-105a29d76fae",
   "execution_count": 12
  },
  {
   "cell_type": "markdown",
   "id": "1b764dec-9139-4538-8cab-73a73b01fe75",
   "metadata": {
    "id": "1b764dec-9139-4538-8cab-73a73b01fe75"
   },
   "source": [
    "4. Defina o atributo `Attrition_Flag` como *target*, criando um dicionário que mapeia um inteiro diferente para cada um dos valores possíveis deste atributo."
   ]
  },
  {
   "cell_type": "code",
   "outputs": [
    {
     "name": "stdout",
     "output_type": "stream",
     "text": [
      "0\n"
     ]
    },
    {
     "data": {
      "text/plain": "   customer_age  dependent_count education_level marital_status  \\\n0            45                3     High School        Married   \n1            49                5        Graduate         Single   \n2            51                3        Graduate        Married   \n3            40                4     High School        Unknown   \n4            40                3      Uneducated        Married   \n\n  income_category card_category  months_on_book  total_relationship_count  \\\n0     $60K - $80K          Blue              39                         5   \n1  Less than $40K          Blue              44                         6   \n2    $80K - $120K          Blue              36                         4   \n3  Less than $40K          Blue              34                         3   \n4     $60K - $80K          Blue              21                         5   \n\n   months_inactive_12_mon  contacts_count_12_mon  credit_limit  \\\n0                       1                      3       12691.0   \n1                       1                      2        8256.0   \n2                       1                      0        3418.0   \n3                       4                      1        3313.0   \n4                       1                      0        4716.0   \n\n   total_revolving_bal  avg_open_to_buy  total_amt_chng_q4_q1  \\\n0                  777          11914.0                 1.335   \n1                  864           7392.0                 1.541   \n2                    0           3418.0                 2.594   \n3                 2517            796.0                 1.405   \n4                    0           4716.0                 2.175   \n\n   total_trans_amt  total_trans_ct  total_ct_chng_q4_q1  \\\n0             1144              42                1.625   \n1             1291              33                3.714   \n2             1887              20                2.333   \n3             1171              20                2.333   \n4              816              28                2.500   \n\n   avg_utilization_ratio attrition_flag  \n0                  0.061              1  \n1                  0.105              1  \n2                  0.000              1  \n3                  0.760              1  \n4                  0.000              1  ",
      "text/html": "<div>\n<style scoped>\n    .dataframe tbody tr th:only-of-type {\n        vertical-align: middle;\n    }\n\n    .dataframe tbody tr th {\n        vertical-align: top;\n    }\n\n    .dataframe thead th {\n        text-align: right;\n    }\n</style>\n<table border=\"1\" class=\"dataframe\">\n  <thead>\n    <tr style=\"text-align: right;\">\n      <th></th>\n      <th>customer_age</th>\n      <th>dependent_count</th>\n      <th>education_level</th>\n      <th>marital_status</th>\n      <th>income_category</th>\n      <th>card_category</th>\n      <th>months_on_book</th>\n      <th>total_relationship_count</th>\n      <th>months_inactive_12_mon</th>\n      <th>contacts_count_12_mon</th>\n      <th>credit_limit</th>\n      <th>total_revolving_bal</th>\n      <th>avg_open_to_buy</th>\n      <th>total_amt_chng_q4_q1</th>\n      <th>total_trans_amt</th>\n      <th>total_trans_ct</th>\n      <th>total_ct_chng_q4_q1</th>\n      <th>avg_utilization_ratio</th>\n      <th>attrition_flag</th>\n    </tr>\n  </thead>\n  <tbody>\n    <tr>\n      <th>0</th>\n      <td>45</td>\n      <td>3</td>\n      <td>High School</td>\n      <td>Married</td>\n      <td>$60K - $80K</td>\n      <td>Blue</td>\n      <td>39</td>\n      <td>5</td>\n      <td>1</td>\n      <td>3</td>\n      <td>12691.0</td>\n      <td>777</td>\n      <td>11914.0</td>\n      <td>1.335</td>\n      <td>1144</td>\n      <td>42</td>\n      <td>1.625</td>\n      <td>0.061</td>\n      <td>1</td>\n    </tr>\n    <tr>\n      <th>1</th>\n      <td>49</td>\n      <td>5</td>\n      <td>Graduate</td>\n      <td>Single</td>\n      <td>Less than $40K</td>\n      <td>Blue</td>\n      <td>44</td>\n      <td>6</td>\n      <td>1</td>\n      <td>2</td>\n      <td>8256.0</td>\n      <td>864</td>\n      <td>7392.0</td>\n      <td>1.541</td>\n      <td>1291</td>\n      <td>33</td>\n      <td>3.714</td>\n      <td>0.105</td>\n      <td>1</td>\n    </tr>\n    <tr>\n      <th>2</th>\n      <td>51</td>\n      <td>3</td>\n      <td>Graduate</td>\n      <td>Married</td>\n      <td>$80K - $120K</td>\n      <td>Blue</td>\n      <td>36</td>\n      <td>4</td>\n      <td>1</td>\n      <td>0</td>\n      <td>3418.0</td>\n      <td>0</td>\n      <td>3418.0</td>\n      <td>2.594</td>\n      <td>1887</td>\n      <td>20</td>\n      <td>2.333</td>\n      <td>0.000</td>\n      <td>1</td>\n    </tr>\n    <tr>\n      <th>3</th>\n      <td>40</td>\n      <td>4</td>\n      <td>High School</td>\n      <td>Unknown</td>\n      <td>Less than $40K</td>\n      <td>Blue</td>\n      <td>34</td>\n      <td>3</td>\n      <td>4</td>\n      <td>1</td>\n      <td>3313.0</td>\n      <td>2517</td>\n      <td>796.0</td>\n      <td>1.405</td>\n      <td>1171</td>\n      <td>20</td>\n      <td>2.333</td>\n      <td>0.760</td>\n      <td>1</td>\n    </tr>\n    <tr>\n      <th>4</th>\n      <td>40</td>\n      <td>3</td>\n      <td>Uneducated</td>\n      <td>Married</td>\n      <td>$60K - $80K</td>\n      <td>Blue</td>\n      <td>21</td>\n      <td>5</td>\n      <td>1</td>\n      <td>0</td>\n      <td>4716.0</td>\n      <td>0</td>\n      <td>4716.0</td>\n      <td>2.175</td>\n      <td>816</td>\n      <td>28</td>\n      <td>2.500</td>\n      <td>0.000</td>\n      <td>1</td>\n    </tr>\n  </tbody>\n</table>\n</div>"
     },
     "execution_count": 13,
     "metadata": {},
     "output_type": "execute_result"
    }
   ],
   "source": [
    "def flag_function(x):\n",
    "    if x.lower() == 'existing customer':\n",
    "        return 1\n",
    "    elif x.lower() == 'attrited customer':\n",
    "        return 0\n",
    "    else:\n",
    "        return 'Unknown'\n",
    "\n",
    "# Opção lenta\n",
    "#bank_df['attrition_flag'] = [flag_function(x) for x in bank_df['attrition_flag']]\n",
    "\n",
    "print(bank_df['attrition_flag'].isnull().sum())\n",
    "# Opção mais rápida\n",
    "bank_df['attrition_flag'] = bank_df['attrition_flag'].apply(flag_function)\n",
    "bank_df.head(5)\n"
   ],
   "metadata": {
    "collapsed": false,
    "ExecuteTime": {
     "end_time": "2024-03-01T14:01:39.238497Z",
     "start_time": "2024-03-01T14:01:39.219755Z"
    }
   },
   "id": "246d4185-47e4-4bf1-a2a5-ffb3fe169964",
   "execution_count": 13
  },
  {
   "cell_type": "markdown",
   "id": "f9c4452a-6ab4-4720-bbbb-3d86c624f3a7",
   "metadata": {
    "tags": [],
    "id": "f9c4452a-6ab4-4720-bbbb-3d86c624f3a7"
   },
   "source": [
    "5. Guarde uma cópia dos dados num ficheiro Excel com o nome *credito.xlsx*."
   ]
  },
  {
   "cell_type": "code",
   "execution_count": 14,
   "id": "3657111d-43c7-4ffe-9dc1-88172b0a2abd",
   "metadata": {
    "id": "3657111d-43c7-4ffe-9dc1-88172b0a2abd",
    "ExecuteTime": {
     "end_time": "2024-03-01T14:01:39.508135Z",
     "start_time": "2024-03-01T14:01:39.224445Z"
    }
   },
   "outputs": [
    {
     "ename": "OSError",
     "evalue": "Cannot save file into a non-existent directory: '../data'",
     "output_type": "error",
     "traceback": [
      "\u001B[0;31m---------------------------------------------------------------------------\u001B[0m",
      "\u001B[0;31mOSError\u001B[0m                                   Traceback (most recent call last)",
      "Cell \u001B[0;32mIn[14], line 1\u001B[0m\n\u001B[0;32m----> 1\u001B[0m \u001B[43mbank_df\u001B[49m\u001B[38;5;241;43m.\u001B[39;49m\u001B[43mto_excel\u001B[49m\u001B[43m(\u001B[49m\u001B[38;5;124;43m'\u001B[39;49m\u001B[38;5;124;43m../data/credito.xlsx\u001B[39;49m\u001B[38;5;124;43m'\u001B[39;49m\u001B[43m)\u001B[49m\n",
      "File \u001B[0;32m~/Documents/Programming/GIT/DECD/.venv/lib/python3.11/site-packages/pandas/util/_decorators.py:333\u001B[0m, in \u001B[0;36mdeprecate_nonkeyword_arguments.<locals>.decorate.<locals>.wrapper\u001B[0;34m(*args, **kwargs)\u001B[0m\n\u001B[1;32m    327\u001B[0m \u001B[38;5;28;01mif\u001B[39;00m \u001B[38;5;28mlen\u001B[39m(args) \u001B[38;5;241m>\u001B[39m num_allow_args:\n\u001B[1;32m    328\u001B[0m     warnings\u001B[38;5;241m.\u001B[39mwarn(\n\u001B[1;32m    329\u001B[0m         msg\u001B[38;5;241m.\u001B[39mformat(arguments\u001B[38;5;241m=\u001B[39m_format_argument_list(allow_args)),\n\u001B[1;32m    330\u001B[0m         \u001B[38;5;167;01mFutureWarning\u001B[39;00m,\n\u001B[1;32m    331\u001B[0m         stacklevel\u001B[38;5;241m=\u001B[39mfind_stack_level(),\n\u001B[1;32m    332\u001B[0m     )\n\u001B[0;32m--> 333\u001B[0m \u001B[38;5;28;01mreturn\u001B[39;00m \u001B[43mfunc\u001B[49m\u001B[43m(\u001B[49m\u001B[38;5;241;43m*\u001B[39;49m\u001B[43margs\u001B[49m\u001B[43m,\u001B[49m\u001B[43m \u001B[49m\u001B[38;5;241;43m*\u001B[39;49m\u001B[38;5;241;43m*\u001B[39;49m\u001B[43mkwargs\u001B[49m\u001B[43m)\u001B[49m\n",
      "File \u001B[0;32m~/Documents/Programming/GIT/DECD/.venv/lib/python3.11/site-packages/pandas/core/generic.py:2414\u001B[0m, in \u001B[0;36mNDFrame.to_excel\u001B[0;34m(self, excel_writer, sheet_name, na_rep, float_format, columns, header, index, index_label, startrow, startcol, engine, merge_cells, inf_rep, freeze_panes, storage_options, engine_kwargs)\u001B[0m\n\u001B[1;32m   2401\u001B[0m \u001B[38;5;28;01mfrom\u001B[39;00m \u001B[38;5;21;01mpandas\u001B[39;00m\u001B[38;5;21;01m.\u001B[39;00m\u001B[38;5;21;01mio\u001B[39;00m\u001B[38;5;21;01m.\u001B[39;00m\u001B[38;5;21;01mformats\u001B[39;00m\u001B[38;5;21;01m.\u001B[39;00m\u001B[38;5;21;01mexcel\u001B[39;00m \u001B[38;5;28;01mimport\u001B[39;00m ExcelFormatter\n\u001B[1;32m   2403\u001B[0m formatter \u001B[38;5;241m=\u001B[39m ExcelFormatter(\n\u001B[1;32m   2404\u001B[0m     df,\n\u001B[1;32m   2405\u001B[0m     na_rep\u001B[38;5;241m=\u001B[39mna_rep,\n\u001B[0;32m   (...)\u001B[0m\n\u001B[1;32m   2412\u001B[0m     inf_rep\u001B[38;5;241m=\u001B[39minf_rep,\n\u001B[1;32m   2413\u001B[0m )\n\u001B[0;32m-> 2414\u001B[0m \u001B[43mformatter\u001B[49m\u001B[38;5;241;43m.\u001B[39;49m\u001B[43mwrite\u001B[49m\u001B[43m(\u001B[49m\n\u001B[1;32m   2415\u001B[0m \u001B[43m    \u001B[49m\u001B[43mexcel_writer\u001B[49m\u001B[43m,\u001B[49m\n\u001B[1;32m   2416\u001B[0m \u001B[43m    \u001B[49m\u001B[43msheet_name\u001B[49m\u001B[38;5;241;43m=\u001B[39;49m\u001B[43msheet_name\u001B[49m\u001B[43m,\u001B[49m\n\u001B[1;32m   2417\u001B[0m \u001B[43m    \u001B[49m\u001B[43mstartrow\u001B[49m\u001B[38;5;241;43m=\u001B[39;49m\u001B[43mstartrow\u001B[49m\u001B[43m,\u001B[49m\n\u001B[1;32m   2418\u001B[0m \u001B[43m    \u001B[49m\u001B[43mstartcol\u001B[49m\u001B[38;5;241;43m=\u001B[39;49m\u001B[43mstartcol\u001B[49m\u001B[43m,\u001B[49m\n\u001B[1;32m   2419\u001B[0m \u001B[43m    \u001B[49m\u001B[43mfreeze_panes\u001B[49m\u001B[38;5;241;43m=\u001B[39;49m\u001B[43mfreeze_panes\u001B[49m\u001B[43m,\u001B[49m\n\u001B[1;32m   2420\u001B[0m \u001B[43m    \u001B[49m\u001B[43mengine\u001B[49m\u001B[38;5;241;43m=\u001B[39;49m\u001B[43mengine\u001B[49m\u001B[43m,\u001B[49m\n\u001B[1;32m   2421\u001B[0m \u001B[43m    \u001B[49m\u001B[43mstorage_options\u001B[49m\u001B[38;5;241;43m=\u001B[39;49m\u001B[43mstorage_options\u001B[49m\u001B[43m,\u001B[49m\n\u001B[1;32m   2422\u001B[0m \u001B[43m    \u001B[49m\u001B[43mengine_kwargs\u001B[49m\u001B[38;5;241;43m=\u001B[39;49m\u001B[43mengine_kwargs\u001B[49m\u001B[43m,\u001B[49m\n\u001B[1;32m   2423\u001B[0m \u001B[43m\u001B[49m\u001B[43m)\u001B[49m\n",
      "File \u001B[0;32m~/Documents/Programming/GIT/DECD/.venv/lib/python3.11/site-packages/pandas/io/formats/excel.py:943\u001B[0m, in \u001B[0;36mExcelFormatter.write\u001B[0;34m(self, writer, sheet_name, startrow, startcol, freeze_panes, engine, storage_options, engine_kwargs)\u001B[0m\n\u001B[1;32m    941\u001B[0m     need_save \u001B[38;5;241m=\u001B[39m \u001B[38;5;28;01mFalse\u001B[39;00m\n\u001B[1;32m    942\u001B[0m \u001B[38;5;28;01melse\u001B[39;00m:\n\u001B[0;32m--> 943\u001B[0m     writer \u001B[38;5;241m=\u001B[39m \u001B[43mExcelWriter\u001B[49m\u001B[43m(\u001B[49m\n\u001B[1;32m    944\u001B[0m \u001B[43m        \u001B[49m\u001B[43mwriter\u001B[49m\u001B[43m,\u001B[49m\n\u001B[1;32m    945\u001B[0m \u001B[43m        \u001B[49m\u001B[43mengine\u001B[49m\u001B[38;5;241;43m=\u001B[39;49m\u001B[43mengine\u001B[49m\u001B[43m,\u001B[49m\n\u001B[1;32m    946\u001B[0m \u001B[43m        \u001B[49m\u001B[43mstorage_options\u001B[49m\u001B[38;5;241;43m=\u001B[39;49m\u001B[43mstorage_options\u001B[49m\u001B[43m,\u001B[49m\n\u001B[1;32m    947\u001B[0m \u001B[43m        \u001B[49m\u001B[43mengine_kwargs\u001B[49m\u001B[38;5;241;43m=\u001B[39;49m\u001B[43mengine_kwargs\u001B[49m\u001B[43m,\u001B[49m\n\u001B[1;32m    948\u001B[0m \u001B[43m    \u001B[49m\u001B[43m)\u001B[49m\n\u001B[1;32m    949\u001B[0m     need_save \u001B[38;5;241m=\u001B[39m \u001B[38;5;28;01mTrue\u001B[39;00m\n\u001B[1;32m    951\u001B[0m \u001B[38;5;28;01mtry\u001B[39;00m:\n",
      "File \u001B[0;32m~/Documents/Programming/GIT/DECD/.venv/lib/python3.11/site-packages/pandas/io/excel/_openpyxl.py:61\u001B[0m, in \u001B[0;36mOpenpyxlWriter.__init__\u001B[0;34m(self, path, engine, date_format, datetime_format, mode, storage_options, if_sheet_exists, engine_kwargs, **kwargs)\u001B[0m\n\u001B[1;32m     57\u001B[0m \u001B[38;5;28;01mfrom\u001B[39;00m \u001B[38;5;21;01mopenpyxl\u001B[39;00m\u001B[38;5;21;01m.\u001B[39;00m\u001B[38;5;21;01mworkbook\u001B[39;00m \u001B[38;5;28;01mimport\u001B[39;00m Workbook\n\u001B[1;32m     59\u001B[0m engine_kwargs \u001B[38;5;241m=\u001B[39m combine_kwargs(engine_kwargs, kwargs)\n\u001B[0;32m---> 61\u001B[0m \u001B[38;5;28;43msuper\u001B[39;49m\u001B[43m(\u001B[49m\u001B[43m)\u001B[49m\u001B[38;5;241;43m.\u001B[39;49m\u001B[38;5;21;43m__init__\u001B[39;49m\u001B[43m(\u001B[49m\n\u001B[1;32m     62\u001B[0m \u001B[43m    \u001B[49m\u001B[43mpath\u001B[49m\u001B[43m,\u001B[49m\n\u001B[1;32m     63\u001B[0m \u001B[43m    \u001B[49m\u001B[43mmode\u001B[49m\u001B[38;5;241;43m=\u001B[39;49m\u001B[43mmode\u001B[49m\u001B[43m,\u001B[49m\n\u001B[1;32m     64\u001B[0m \u001B[43m    \u001B[49m\u001B[43mstorage_options\u001B[49m\u001B[38;5;241;43m=\u001B[39;49m\u001B[43mstorage_options\u001B[49m\u001B[43m,\u001B[49m\n\u001B[1;32m     65\u001B[0m \u001B[43m    \u001B[49m\u001B[43mif_sheet_exists\u001B[49m\u001B[38;5;241;43m=\u001B[39;49m\u001B[43mif_sheet_exists\u001B[49m\u001B[43m,\u001B[49m\n\u001B[1;32m     66\u001B[0m \u001B[43m    \u001B[49m\u001B[43mengine_kwargs\u001B[49m\u001B[38;5;241;43m=\u001B[39;49m\u001B[43mengine_kwargs\u001B[49m\u001B[43m,\u001B[49m\n\u001B[1;32m     67\u001B[0m \u001B[43m\u001B[49m\u001B[43m)\u001B[49m\n\u001B[1;32m     69\u001B[0m \u001B[38;5;66;03m# ExcelWriter replaced \"a\" by \"r+\" to allow us to first read the excel file from\u001B[39;00m\n\u001B[1;32m     70\u001B[0m \u001B[38;5;66;03m# the file and later write to it\u001B[39;00m\n\u001B[1;32m     71\u001B[0m \u001B[38;5;28;01mif\u001B[39;00m \u001B[38;5;124m\"\u001B[39m\u001B[38;5;124mr+\u001B[39m\u001B[38;5;124m\"\u001B[39m \u001B[38;5;129;01min\u001B[39;00m \u001B[38;5;28mself\u001B[39m\u001B[38;5;241m.\u001B[39m_mode:  \u001B[38;5;66;03m# Load from existing workbook\u001B[39;00m\n",
      "File \u001B[0;32m~/Documents/Programming/GIT/DECD/.venv/lib/python3.11/site-packages/pandas/io/excel/_base.py:1246\u001B[0m, in \u001B[0;36mExcelWriter.__init__\u001B[0;34m(self, path, engine, date_format, datetime_format, mode, storage_options, if_sheet_exists, engine_kwargs)\u001B[0m\n\u001B[1;32m   1242\u001B[0m \u001B[38;5;28mself\u001B[39m\u001B[38;5;241m.\u001B[39m_handles \u001B[38;5;241m=\u001B[39m IOHandles(\n\u001B[1;32m   1243\u001B[0m     cast(IO[\u001B[38;5;28mbytes\u001B[39m], path), compression\u001B[38;5;241m=\u001B[39m{\u001B[38;5;124m\"\u001B[39m\u001B[38;5;124mcompression\u001B[39m\u001B[38;5;124m\"\u001B[39m: \u001B[38;5;28;01mNone\u001B[39;00m}\n\u001B[1;32m   1244\u001B[0m )\n\u001B[1;32m   1245\u001B[0m \u001B[38;5;28;01mif\u001B[39;00m \u001B[38;5;129;01mnot\u001B[39;00m \u001B[38;5;28misinstance\u001B[39m(path, ExcelWriter):\n\u001B[0;32m-> 1246\u001B[0m     \u001B[38;5;28mself\u001B[39m\u001B[38;5;241m.\u001B[39m_handles \u001B[38;5;241m=\u001B[39m \u001B[43mget_handle\u001B[49m\u001B[43m(\u001B[49m\n\u001B[1;32m   1247\u001B[0m \u001B[43m        \u001B[49m\u001B[43mpath\u001B[49m\u001B[43m,\u001B[49m\u001B[43m \u001B[49m\u001B[43mmode\u001B[49m\u001B[43m,\u001B[49m\u001B[43m \u001B[49m\u001B[43mstorage_options\u001B[49m\u001B[38;5;241;43m=\u001B[39;49m\u001B[43mstorage_options\u001B[49m\u001B[43m,\u001B[49m\u001B[43m \u001B[49m\u001B[43mis_text\u001B[49m\u001B[38;5;241;43m=\u001B[39;49m\u001B[38;5;28;43;01mFalse\u001B[39;49;00m\n\u001B[1;32m   1248\u001B[0m \u001B[43m    \u001B[49m\u001B[43m)\u001B[49m\n\u001B[1;32m   1249\u001B[0m \u001B[38;5;28mself\u001B[39m\u001B[38;5;241m.\u001B[39m_cur_sheet \u001B[38;5;241m=\u001B[39m \u001B[38;5;28;01mNone\u001B[39;00m\n\u001B[1;32m   1251\u001B[0m \u001B[38;5;28;01mif\u001B[39;00m date_format \u001B[38;5;129;01mis\u001B[39;00m \u001B[38;5;28;01mNone\u001B[39;00m:\n",
      "File \u001B[0;32m~/Documents/Programming/GIT/DECD/.venv/lib/python3.11/site-packages/pandas/io/common.py:749\u001B[0m, in \u001B[0;36mget_handle\u001B[0;34m(path_or_buf, mode, encoding, compression, memory_map, is_text, errors, storage_options)\u001B[0m\n\u001B[1;32m    747\u001B[0m \u001B[38;5;66;03m# Only for write methods\u001B[39;00m\n\u001B[1;32m    748\u001B[0m \u001B[38;5;28;01mif\u001B[39;00m \u001B[38;5;124m\"\u001B[39m\u001B[38;5;124mr\u001B[39m\u001B[38;5;124m\"\u001B[39m \u001B[38;5;129;01mnot\u001B[39;00m \u001B[38;5;129;01min\u001B[39;00m mode \u001B[38;5;129;01mand\u001B[39;00m is_path:\n\u001B[0;32m--> 749\u001B[0m     \u001B[43mcheck_parent_directory\u001B[49m\u001B[43m(\u001B[49m\u001B[38;5;28;43mstr\u001B[39;49m\u001B[43m(\u001B[49m\u001B[43mhandle\u001B[49m\u001B[43m)\u001B[49m\u001B[43m)\u001B[49m\n\u001B[1;32m    751\u001B[0m \u001B[38;5;28;01mif\u001B[39;00m compression:\n\u001B[1;32m    752\u001B[0m     \u001B[38;5;28;01mif\u001B[39;00m compression \u001B[38;5;241m!=\u001B[39m \u001B[38;5;124m\"\u001B[39m\u001B[38;5;124mzstd\u001B[39m\u001B[38;5;124m\"\u001B[39m:\n\u001B[1;32m    753\u001B[0m         \u001B[38;5;66;03m# compression libraries do not like an explicit text-mode\u001B[39;00m\n",
      "File \u001B[0;32m~/Documents/Programming/GIT/DECD/.venv/lib/python3.11/site-packages/pandas/io/common.py:616\u001B[0m, in \u001B[0;36mcheck_parent_directory\u001B[0;34m(path)\u001B[0m\n\u001B[1;32m    614\u001B[0m parent \u001B[38;5;241m=\u001B[39m Path(path)\u001B[38;5;241m.\u001B[39mparent\n\u001B[1;32m    615\u001B[0m \u001B[38;5;28;01mif\u001B[39;00m \u001B[38;5;129;01mnot\u001B[39;00m parent\u001B[38;5;241m.\u001B[39mis_dir():\n\u001B[0;32m--> 616\u001B[0m     \u001B[38;5;28;01mraise\u001B[39;00m \u001B[38;5;167;01mOSError\u001B[39;00m(\u001B[38;5;124mrf\u001B[39m\u001B[38;5;124m\"\u001B[39m\u001B[38;5;124mCannot save file into a non-existent directory: \u001B[39m\u001B[38;5;124m'\u001B[39m\u001B[38;5;132;01m{\u001B[39;00mparent\u001B[38;5;132;01m}\u001B[39;00m\u001B[38;5;124m'\u001B[39m\u001B[38;5;124m\"\u001B[39m)\n",
      "\u001B[0;31mOSError\u001B[0m: Cannot save file into a non-existent directory: '../data'"
     ]
    }
   ],
   "source": [
    "bank_df.to_excel('../data/credito.xlsx')"
   ]
  },
  {
   "cell_type": "markdown",
   "id": "861df05d-499f-4141-88aa-0a7cc413ed59",
   "metadata": {
    "id": "861df05d-499f-4141-88aa-0a7cc413ed59"
   },
   "source": [
    "6. Identifique os atributos que têm valores em falta. (**Nota**: Neste conjunto de dados, os valores em falta são representados pelo valor `'Unknown'`. Comece por aplicar o método `replace('Unknown', np.nan)` sobre a tabela de dados.)"
   ]
  },
  {
   "cell_type": "code",
   "outputs": [],
   "source": [
    "#unknown_counts = {}\n",
    "#for column in bank_df.columns:\n",
    "#    unknown_counts[column] = (bank_df[column] == 'Unknown').sum()\n",
    "\n",
    "#print(unknown_counts)\n",
    "bank_df.replace('Unknown', np.nan, inplace=True)\n",
    "\n",
    "print(bank_df.isna().sum())\n",
    "\n"
   ],
   "metadata": {
    "collapsed": false,
    "ExecuteTime": {
     "end_time": "2024-03-01T14:01:39.513158Z",
     "start_time": "2024-03-01T14:01:39.509422Z"
    }
   },
   "id": "d29dde2c-5371-4d6f-b6ee-a14d90c0baf9",
   "execution_count": null
  },
  {
   "cell_type": "markdown",
   "id": "427adced-3fcc-405e-ba9b-041e846670b4",
   "metadata": {
    "id": "427adced-3fcc-405e-ba9b-041e846670b4"
   },
   "source": [
    "7. Utilize imputação para preencher os valores em falta do nível de educação com um valor representativo.  "
   ]
  },
  {
   "cell_type": "code",
   "outputs": [],
   "source": [
    "import numpy as np\n",
    "\n",
    "# Replace 'Unknown' values with NaN\n",
    "bank_df.replace('Unknown', np.nan, inplace=True)\n",
    "\n",
    "# Find the mode of the education_level column\n",
    "education_level_mode = bank_df['education_level'].mode()[0]\n",
    "\n",
    "# Display the mode\n",
    "print(\"Mode of education_level:\", education_level_mode)\n",
    "\n",
    "# Count NaN values before filling\n",
    "print(\"NaN count before filling:\", bank_df['education_level'].isna().sum())\n",
    "\n",
    "# Fill NaN values with the mode using the recommended approach\n",
    "bank_df['education_level'] = bank_df['education_level'].fillna(education_level_mode)\n",
    "\n",
    "# Count NaN values after filling\n",
    "print(\"NaN count after filling:\", bank_df['education_level'].isna().sum())\n",
    "\n",
    "# Display unique values in the education_level column\n",
    "print(\"Unique values in education_level:\", bank_df['education_level'].unique())\n",
    "\n"
   ],
   "metadata": {
    "collapsed": false,
    "ExecuteTime": {
     "start_time": "2024-03-01T14:01:39.510267Z"
    }
   },
   "id": "39276c08-bf37-482f-957d-3f8918b51269",
   "execution_count": null
  },
  {
   "cell_type": "markdown",
   "id": "8a8fe385-a5ce-45ea-aba6-a4722255fc78",
   "metadata": {
    "id": "8a8fe385-a5ce-45ea-aba6-a4722255fc78"
   },
   "source": [
    "8. Descarte as restantes observações com valores em falta."
   ]
  },
  {
   "cell_type": "code",
   "execution_count": null,
   "id": "968b2750-c321-4dd9-abd9-753741500f70",
   "metadata": {
    "id": "968b2750-c321-4dd9-abd9-753741500f70",
    "ExecuteTime": {
     "start_time": "2024-03-01T14:01:39.511569Z"
    }
   },
   "outputs": [],
   "source": [
    "print(bank_df.isnull().sum())\n",
    "bank_df.dropna(inplace=True)\n",
    "print(bank_df.isnull().sum())"
   ]
  },
  {
   "cell_type": "markdown",
   "id": "dea08400-c74d-4371-acb8-e0b6162e5c7c",
   "metadata": {
    "id": "dea08400-c74d-4371-acb8-e0b6162e5c7c"
   },
   "source": [
    "9. Binarize o atributo categórico `Attrition_Flag`."
   ]
  },
  {
   "cell_type": "code",
   "execution_count": null,
   "id": "7911879c-cacc-4d8b-8047-00692255f805",
   "metadata": {
    "id": "7911879c-cacc-4d8b-8047-00692255f805",
    "ExecuteTime": {
     "start_time": "2024-03-01T14:01:39.512613Z"
    }
   },
   "outputs": [],
   "source": [
    "bin_values, index = pd.factorize(bank_df['attrition_flag'])\n",
    "bank_df['attrition_flag'] = bin_values\n",
    "bank_df['attrition_flag'].unique()"
   ]
  },
  {
   "cell_type": "markdown",
   "id": "51a08864-78b8-442c-9837-ee37e1f461ba",
   "metadata": {
    "tags": [],
    "id": "51a08864-78b8-442c-9837-ee37e1f461ba"
   },
   "source": [
    "10. Calcule as correlações entre os atributos numéricos do conjunto de dados e visualize-as usando um mapa de calor."
   ]
  },
  {
   "cell_type": "code",
   "execution_count": null,
   "id": "0d6f07c5-51cc-4c64-8ed4-168bb2238bfa",
   "metadata": {
    "id": "0d6f07c5-51cc-4c64-8ed4-168bb2238bfa",
    "ExecuteTime": {
     "end_time": "2024-03-01T14:01:39.514299Z",
     "start_time": "2024-03-01T14:01:39.513812Z"
    }
   },
   "outputs": [],
   "source": [
    "%matplotlib inline\n",
    "import matplotlib.pyplot as plt\n",
    "\n",
    "import seaborn as sns\n",
    "sns.set_theme()  # set the chart style\n",
    "\n",
    "sns.heatmap(bank_df.corr(numeric_only=True));\n"
   ]
  },
  {
   "cell_type": "markdown",
   "id": "4ef8ecb3-2bce-4e82-ad9b-cf3e3abf7d83",
   "metadata": {
    "id": "4ef8ecb3-2bce-4e82-ad9b-cf3e3abf7d83"
   },
   "source": [
    "11. Visualize como se relacionam os dois atributos a correlação mais alta."
   ]
  },
  {
   "cell_type": "code",
   "execution_count": null,
   "id": "a76759b0-ace7-4451-9063-0aed7b0386e8",
   "metadata": {
    "id": "a76759b0-ace7-4451-9063-0aed7b0386e8",
    "ExecuteTime": {
     "start_time": "2024-03-01T14:01:39.514840Z"
    }
   },
   "outputs": [],
   "source": [
    "# Compute the correlation matrix\n",
    "correlation_matrix = bank_df.corr(numeric_only=True)\n",
    "\n",
    "print(correlation_matrix)\n",
    "\n",
    "# Extract the upper triangle of the correlation matrix (excluding diagonal)\n",
    "upper_triangle = correlation_matrix.where(np.triu(np.ones(correlation_matrix.shape), k=1).astype(np.bool_))\n",
    "\n",
    "# Find pairs with the highest correlation coefficients\n",
    "max_corr_pairs = upper_triangle.unstack().sort_values(ascending=False).drop_duplicates()\n",
    "\n",
    "# Print the pairs with the highest correlation coefficients\n",
    "print(\"Pairs with the highest correlation coefficients:\")\n",
    "#print(max_corr_pairs.head())\n",
    "\n",
    "# You can also specify the number of pairs you want to print, for example:\n",
    "print(max_corr_pairs.head(10))  # Print the top 10 pairs\n",
    "\n",
    "sns.jointplot(data=bank_df, x='customer_age', y='months_on_book', kind='hex');"
   ]
  },
  {
   "cell_type": "markdown",
   "id": "56c6e471-aee1-4743-827c-158783a58f00",
   "metadata": {
    "tags": [],
    "id": "56c6e471-aee1-4743-827c-158783a58f00"
   },
   "source": [
    "9. Verifique se os atributos `Credit_Limit` e `Dependent_count` têm *outliers*. Em caso afirmativo, conte-os. (**Sugestão**: [How To Find Outliers in Data Using Python (and How To Handle Them)](https://careerfoundry.com/en/blog/data-analytics/how-to-find-outliers/#how-to-find-outliers))"
   ]
  },
  {
   "cell_type": "code",
   "execution_count": null,
   "id": "eb0370ab-411a-4303-a7fc-7e576ea0ee47",
   "metadata": {
    "id": "eb0370ab-411a-4303-a7fc-7e576ea0ee47",
    "ExecuteTime": {
     "start_time": "2024-03-01T14:01:39.515859Z"
    }
   },
   "outputs": [],
   "source": [
    "print(bank_df[['credit_limit', 'dependent_count']].describe())"
   ]
  },
  {
   "cell_type": "code",
   "outputs": [],
   "source": [
    "bank_df['credit_limit'].plot(kind='box')"
   ],
   "metadata": {
    "collapsed": false,
    "ExecuteTime": {
     "start_time": "2024-03-01T14:01:39.516885Z"
    }
   },
   "id": "cec993ed847f3875",
   "execution_count": null
  },
  {
   "cell_type": "code",
   "outputs": [],
   "source": [
    "bank_df['credit_limit'].plot(kind='hist')"
   ],
   "metadata": {
    "collapsed": false,
    "ExecuteTime": {
     "start_time": "2024-03-01T14:01:39.517570Z"
    }
   },
   "id": "3633caf8607b1f5a",
   "execution_count": null
  },
  {
   "cell_type": "code",
   "outputs": [],
   "source": [
    "bank_df['dependent_count'].plot(kind='box');"
   ],
   "metadata": {
    "collapsed": false,
    "ExecuteTime": {
     "start_time": "2024-03-01T14:01:39.518255Z"
    }
   },
   "id": "a7d01d383fbfba9",
   "execution_count": null
  },
  {
   "cell_type": "code",
   "outputs": [],
   "source": [
    "bank_df['dependent_count'].plot(kind='hist')"
   ],
   "metadata": {
    "collapsed": false,
    "ExecuteTime": {
     "start_time": "2024-03-01T14:01:39.518924Z"
    }
   },
   "id": "a4cbb33380b80c72",
   "execution_count": null
  },
  {
   "cell_type": "code",
   "outputs": [],
   "source": [
    "def find_outliers(f):\n",
    "    q1 = f.quantile(0.25)\n",
    "    q3 = f.quantile(0.75)\n",
    "    iqr = q3 - q1\n",
    "    return f[(f < (q1 - 1.5 * iqr)) | (f > (q3 + 1.5 * iqr))]\n",
    "\n",
    "\n",
    "find_outliers(bank_df['dependent_count'])\n",
    "find_outliers(bank_df['credit_limit'])"
   ],
   "metadata": {
    "collapsed": false,
    "ExecuteTime": {
     "start_time": "2024-03-01T14:01:39.519669Z"
    }
   },
   "id": "39c71777c3d3f8a2",
   "execution_count": null
  },
  {
   "cell_type": "markdown",
   "id": "0c028117-a81d-4fd6-96b2-b9df3b3a0c9e",
   "metadata": {
    "id": "0c028117-a81d-4fd6-96b2-b9df3b3a0c9e"
   },
   "source": [
    "## Parte 2 - Desempenho académico\n",
    "\n",
    "Carregue o conjunto de dados [Students' Academic Performance Dataset](https://www.kaggle.com/datasets/aljarah/xAPI-Edu-Data), guardado no ficheiro CSV definido pela variável `csv_file_path` e faça uma análise semelhante à realizada com o conjunto de dados sobre clientes de cartões de crédito."
   ]
  },
  {
   "cell_type": "code",
   "execution_count": null,
   "id": "be8d3f26-f7c2-46a8-90b8-0b9c66affd73",
   "metadata": {
    "id": "be8d3f26-f7c2-46a8-90b8-0b9c66affd73",
    "ExecuteTime": {
     "start_time": "2024-03-01T14:01:39.520475Z"
    }
   },
   "outputs": [],
   "source": [
    "csv_file_path = data_path + 'xAPI-Edu-Data.csv'"
   ]
  },
  {
   "cell_type": "code",
   "execution_count": null,
   "id": "8fc04838-fc80-472c-a729-d1f2f6ba7d9d",
   "metadata": {
    "id": "8fc04838-fc80-472c-a729-d1f2f6ba7d9d",
    "ExecuteTime": {
     "start_time": "2024-03-01T14:01:39.521110Z"
    }
   },
   "outputs": [],
   "source": []
  }
 ],
 "metadata": {
  "kernelspec": {
   "display_name": "Python 3 (ipykernel)",
   "language": "python",
   "name": "python3"
  },
  "language_info": {
   "codemirror_mode": {
    "name": "ipython",
    "version": 3
   },
   "file_extension": ".py",
   "mimetype": "text/x-python",
   "name": "python",
   "nbconvert_exporter": "python",
   "pygments_lexer": "ipython3",
   "version": "3.10.10"
  },
  "colab": {
   "provenance": []
  }
 },
 "nbformat": 4,
 "nbformat_minor": 5
}
